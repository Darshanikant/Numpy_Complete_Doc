{
 "cells": [
  {
   "cell_type": "markdown",
   "id": "9dd24c0e-72e7-44fd-bce3-f831d230626a",
   "metadata": {},
   "source": [
    "# NumPy crash overview"
   ]
  },
  {
   "cell_type": "code",
   "execution_count": 210,
   "id": "1bf5bfca-c52b-45e2-8ad6-0ebee663f3f8",
   "metadata": {},
   "outputs": [],
   "source": [
    "import numpy as np"
   ]
  },
  {
   "cell_type": "code",
   "execution_count": 211,
   "id": "d131edd9-69c1-428d-899b-b6d0afa68a7c",
   "metadata": {},
   "outputs": [
    {
     "data": {
      "text/plain": [
       "'1.26.4'"
      ]
     },
     "execution_count": 211,
     "metadata": {},
     "output_type": "execute_result"
    }
   ],
   "source": [
    "np.__version__\n"
   ]
  },
  {
   "cell_type": "markdown",
   "id": "3f03259a-52e6-4dc1-b7c6-e027cfe55396",
   "metadata": {},
   "source": [
    "## Array ceration"
   ]
  },
  {
   "cell_type": "code",
   "execution_count": 212,
   "id": "3e44fb58-89e3-432e-868e-5d826219ba02",
   "metadata": {},
   "outputs": [
    {
     "name": "stdout",
     "output_type": "stream",
     "text": [
      "[1 2 3 4 5 6]\n"
     ]
    }
   ],
   "source": [
    "a = np.array([1,2,3,4,5,6]) # creat array in this way\n",
    "print(a)"
   ]
  },
  {
   "cell_type": "code",
   "execution_count": 213,
   "id": "1948bdf1-e027-41db-9ecb-8ed5e77e4ca6",
   "metadata": {},
   "outputs": [
    {
     "data": {
      "text/plain": [
       "[1, 2, 3, 4, 5, 6]"
      ]
     },
     "execution_count": 213,
     "metadata": {},
     "output_type": "execute_result"
    }
   ],
   "source": [
    "b = [1,2,3,4,5,6] # first creat list\n",
    "b"
   ]
  },
  {
   "cell_type": "code",
   "execution_count": 214,
   "id": "908f87f9-4408-49da-a0f9-7ba2f8b0de7a",
   "metadata": {},
   "outputs": [
    {
     "data": {
      "text/plain": [
       "list"
      ]
     },
     "execution_count": 214,
     "metadata": {},
     "output_type": "execute_result"
    }
   ],
   "source": [
    "type(b)"
   ]
  },
  {
   "cell_type": "code",
   "execution_count": 215,
   "id": "b38791d1-ca17-4d23-8ab0-6b1ea6ffe4c8",
   "metadata": {},
   "outputs": [],
   "source": [
    "b = np.array(b) # change its type to array"
   ]
  },
  {
   "cell_type": "code",
   "execution_count": 216,
   "id": "985bf79c-91ba-4b74-a1b1-d445d5cff4a2",
   "metadata": {},
   "outputs": [
    {
     "data": {
      "text/plain": [
       "array([1, 2, 3, 4, 5, 6])"
      ]
     },
     "execution_count": 216,
     "metadata": {},
     "output_type": "execute_result"
    }
   ],
   "source": [
    "b"
   ]
  },
  {
   "cell_type": "code",
   "execution_count": 217,
   "id": "577dbaad-928c-4860-a2f5-77ca5c316392",
   "metadata": {},
   "outputs": [
    {
     "data": {
      "text/plain": [
       "numpy.ndarray"
      ]
     },
     "execution_count": 217,
     "metadata": {},
     "output_type": "execute_result"
    }
   ],
   "source": [
    "type(b)"
   ]
  },
  {
   "cell_type": "markdown",
   "id": "42696376-bf3f-45ec-bc05-5d71a70a5504",
   "metadata": {},
   "source": [
    "### arange()\n",
    "  - To print sequence of thw number use arange"
   ]
  },
  {
   "cell_type": "code",
   "execution_count": 218,
   "id": "c08ebf4c-13ef-41fa-a310-b1f83ad74714",
   "metadata": {},
   "outputs": [
    {
     "data": {
      "text/plain": [
       "array([0, 1, 2, 3, 4, 5, 6, 7, 8, 9])"
      ]
     },
     "execution_count": 218,
     "metadata": {},
     "output_type": "execute_result"
    }
   ],
   "source": [
    "np.arange(10) # as argu. as 10 it print 0 to 9 in output 10 inexcluded"
   ]
  },
  {
   "cell_type": "code",
   "execution_count": 219,
   "id": "27b40f4a-4fb0-4e4b-800a-e8325ebe60b4",
   "metadata": {},
   "outputs": [
    {
     "data": {
      "text/plain": [
       "array([0., 1., 2., 3., 4., 5., 6., 7., 8., 9.])"
      ]
     },
     "execution_count": 219,
     "metadata": {},
     "output_type": "execute_result"
    }
   ],
   "source": [
    "np.arange(9.7) # it print decimal value from 1.0 to 9.0 "
   ]
  },
  {
   "cell_type": "code",
   "execution_count": 220,
   "id": "7b92aaef-1ce6-4a8a-b0d2-4a7a73c0c266",
   "metadata": {},
   "outputs": [
    {
     "data": {
      "text/plain": [
       "array([1, 2, 3, 4, 5, 6, 7, 8, 9])"
      ]
     },
     "execution_count": 220,
     "metadata": {},
     "output_type": "execute_result"
    }
   ],
   "source": [
    "np.arange(1,10) # here first argu. act as first / starting index and 2nd argu act as end of the index so no. should print 1 to 9 , 10 is exclude."
   ]
  },
  {
   "cell_type": "code",
   "execution_count": 221,
   "id": "85e406c7-65ce-4afa-a835-b769f5919af8",
   "metadata": {},
   "outputs": [
    {
     "data": {
      "text/plain": [
       "array([-9, -8, -7, -6, -5, -4, -3, -2, -1,  0,  1,  2,  3,  4,  5,  6,  7,\n",
       "        8,  9, 10, 11])"
      ]
     },
     "execution_count": 221,
     "metadata": {},
     "output_type": "execute_result"
    }
   ],
   "source": [
    "np.arange(-9,12)"
   ]
  },
  {
   "cell_type": "code",
   "execution_count": 222,
   "id": "43a123ef-1425-4324-b82a-288d89d58eeb",
   "metadata": {},
   "outputs": [
    {
     "data": {
      "text/plain": [
       "array([], dtype=int32)"
      ]
     },
     "execution_count": 222,
     "metadata": {},
     "output_type": "execute_result"
    }
   ],
   "source": [
    "np.arange(23,2) # it not able to print the numbeer sequence bcz there should be end index is greater then the start index"
   ]
  },
  {
   "cell_type": "code",
   "execution_count": 223,
   "id": "93c6ef1e-1a2c-4019-b851-f2580d1f68ee",
   "metadata": {},
   "outputs": [
    {
     "data": {
      "text/plain": [
       "array([ 1,  4,  7, 10, 13, 16, 19])"
      ]
     },
     "execution_count": 223,
     "metadata": {},
     "output_type": "execute_result"
    }
   ],
   "source": [
    "np.arange(1,20,3) # here 1st and 2nd argu. work as it is and the 3rd index work as step to print the sequence , here like 1,4,7 etc."
   ]
  },
  {
   "cell_type": "code",
   "execution_count": 224,
   "id": "ee703323-483a-4517-8e02-e337a384e2b6",
   "metadata": {},
   "outputs": [
    {
     "data": {
      "text/plain": [
       "array([-3, -1,  1,  3,  5,  7,  9])"
      ]
     },
     "execution_count": 224,
     "metadata": {},
     "output_type": "execute_result"
    }
   ],
   "source": [
    "np.arange(-3,10,2)"
   ]
  },
  {
   "cell_type": "code",
   "execution_count": 225,
   "id": "d16ae4ef-6bb1-46a4-985e-80072cacaabf",
   "metadata": {},
   "outputs": [
    {
     "ename": "TypeError",
     "evalue": "Cannot interpret '2' as a data type",
     "output_type": "error",
     "traceback": [
      "\u001b[1;31m---------------------------------------------------------------------------\u001b[0m",
      "\u001b[1;31mTypeError\u001b[0m                                 Traceback (most recent call last)",
      "Cell \u001b[1;32mIn[225], line 1\u001b[0m\n\u001b[1;32m----> 1\u001b[0m \u001b[43mnp\u001b[49m\u001b[38;5;241;43m.\u001b[39;49m\u001b[43marange\u001b[49m\u001b[43m(\u001b[49m\u001b[38;5;241;43m0\u001b[39;49m\u001b[43m,\u001b[49m\u001b[38;5;241;43m10\u001b[39;49m\u001b[43m,\u001b[49m\u001b[38;5;241;43m2\u001b[39;49m\u001b[43m,\u001b[49m\u001b[38;5;241;43m2\u001b[39;49m\u001b[43m)\u001b[49m \u001b[38;5;66;03m# the arrange function only take 3  argu. not more\u001b[39;00m\n",
      "\u001b[1;31mTypeError\u001b[0m: Cannot interpret '2' as a data type"
     ]
    }
   ],
   "source": [
    "np.arange(0,10,2,2) # the arrange function only take 3  argu. not more"
   ]
  },
  {
   "cell_type": "markdown",
   "id": "483cab81-0dce-4231-be33-c8c41c9e3191",
   "metadata": {},
   "source": [
    "### zeros() attribute\n",
    "  - it return 0 "
   ]
  },
  {
   "cell_type": "code",
   "execution_count": 226,
   "id": "4d88e80d-53bd-4c58-955c-82a4feb2d383",
   "metadata": {},
   "outputs": [
    {
     "data": {
      "text/plain": [
       "array([0., 0., 0., 0., 0., 0., 0., 0., 0., 0.])"
      ]
     },
     "execution_count": 226,
     "metadata": {},
     "output_type": "execute_result"
    }
   ],
   "source": [
    "np.zeros(10) # print zero(0) in a list by defult is float type"
   ]
  },
  {
   "cell_type": "code",
   "execution_count": 227,
   "id": "552ed03c-fad2-4da3-b2ae-f3a8b6965190",
   "metadata": {},
   "outputs": [
    {
     "data": {
      "text/plain": [
       "array([0, 0, 0, 0, 0, 0, 0, 0, 0, 0])"
      ]
     },
     "execution_count": 227,
     "metadata": {},
     "output_type": "execute_result"
    }
   ],
   "source": [
    "np.zeros(10,dtype=int) # to change data type we have to change its dtype to int"
   ]
  },
  {
   "cell_type": "code",
   "execution_count": 228,
   "id": "be447008-c2e2-486e-a682-063d436b63d9",
   "metadata": {},
   "outputs": [
    {
     "data": {
      "text/plain": [
       "array([[0, 0, 0, 0],\n",
       "       [0, 0, 0, 0],\n",
       "       [0, 0, 0, 0]])"
      ]
     },
     "execution_count": 228,
     "metadata": {},
     "output_type": "execute_result"
    }
   ],
   "source": [
    "np.zeros((3,4),dtype=int) # to print the zeros in matrix format\n"
   ]
  },
  {
   "cell_type": "markdown",
   "id": "5a59c34b-a348-4040-abe6-64085363a0fa",
   "metadata": {},
   "source": [
    "### one() attribute\n",
    "   - it return 1"
   ]
  },
  {
   "cell_type": "code",
   "execution_count": 229,
   "id": "7ff005d7-17d5-4433-b06f-f2819c8bd152",
   "metadata": {},
   "outputs": [
    {
     "data": {
      "text/plain": [
       "array([1., 1., 1., 1., 1., 1.])"
      ]
     },
     "execution_count": 229,
     "metadata": {},
     "output_type": "execute_result"
    }
   ],
   "source": [
    "np.ones(6) # print ones in a row format by defult its float \n",
    "           # its called parameter tuning means system defult value"
   ]
  },
  {
   "cell_type": "code",
   "execution_count": 230,
   "id": "81aff5d8-44ea-4c2f-a99d-af4b0ecfcd9c",
   "metadata": {},
   "outputs": [
    {
     "data": {
      "text/plain": [
       "array([1, 1, 1, 1, 1, 1, 1])"
      ]
     },
     "execution_count": 230,
     "metadata": {},
     "output_type": "execute_result"
    }
   ],
   "source": [
    "np.ones(7,dtype=int) # to chnge to int datatype\n",
    "                    # if user change as per use the its called hyper parameter tuning"
   ]
  },
  {
   "cell_type": "code",
   "execution_count": 231,
   "id": "90af5327-fb19-4b00-8ea0-b0c6fd9da030",
   "metadata": {},
   "outputs": [
    {
     "data": {
      "text/plain": [
       "array([[1, 1, 1, 1, 1],\n",
       "       [1, 1, 1, 1, 1],\n",
       "       [1, 1, 1, 1, 1]])"
      ]
     },
     "execution_count": 231,
     "metadata": {},
     "output_type": "execute_result"
    }
   ],
   "source": [
    "np.ones((3,5),dtype=int) # to print one in to matrix format"
   ]
  },
  {
   "cell_type": "code",
   "execution_count": 232,
   "id": "c2e0cac3-eb51-404b-a862-3ca41bad44ab",
   "metadata": {},
   "outputs": [
    {
     "ename": "AttributeError",
     "evalue": "module 'numpy' has no attribute 'tows'",
     "output_type": "error",
     "traceback": [
      "\u001b[1;31m---------------------------------------------------------------------------\u001b[0m",
      "\u001b[1;31mAttributeError\u001b[0m                            Traceback (most recent call last)",
      "Cell \u001b[1;32mIn[232], line 1\u001b[0m\n\u001b[1;32m----> 1\u001b[0m \u001b[43mnp\u001b[49m\u001b[38;5;241;43m.\u001b[39;49m\u001b[43mtows\u001b[49m(\u001b[38;5;241m4\u001b[39m) \u001b[38;5;66;03m# numpy only have ones and zeros attribute\u001b[39;00m\n",
      "File \u001b[1;32m~\\anaconda3\\Lib\\site-packages\\numpy\\__init__.py:333\u001b[0m, in \u001b[0;36m__getattr__\u001b[1;34m(attr)\u001b[0m\n\u001b[0;32m    330\u001b[0m     \u001b[38;5;124m\"\u001b[39m\u001b[38;5;124mRemoved in NumPy 1.25.0\u001b[39m\u001b[38;5;124m\"\u001b[39m\n\u001b[0;32m    331\u001b[0m     \u001b[38;5;28;01mraise\u001b[39;00m \u001b[38;5;167;01mRuntimeError\u001b[39;00m(\u001b[38;5;124m\"\u001b[39m\u001b[38;5;124mTester was removed in NumPy 1.25.\u001b[39m\u001b[38;5;124m\"\u001b[39m)\n\u001b[1;32m--> 333\u001b[0m \u001b[38;5;28;01mraise\u001b[39;00m \u001b[38;5;167;01mAttributeError\u001b[39;00m(\u001b[38;5;124m\"\u001b[39m\u001b[38;5;124mmodule \u001b[39m\u001b[38;5;132;01m{!r}\u001b[39;00m\u001b[38;5;124m has no attribute \u001b[39m\u001b[38;5;124m\"\u001b[39m\n\u001b[0;32m    334\u001b[0m                      \u001b[38;5;124m\"\u001b[39m\u001b[38;5;132;01m{!r}\u001b[39;00m\u001b[38;5;124m\"\u001b[39m\u001b[38;5;241m.\u001b[39mformat(\u001b[38;5;18m__name__\u001b[39m, attr))\n",
      "\u001b[1;31mAttributeError\u001b[0m: module 'numpy' has no attribute 'tows'"
     ]
    }
   ],
   "source": [
    "np.tows(4) # numpy only have ones and zeros attribute"
   ]
  },
  {
   "cell_type": "markdown",
   "id": "fd96ad18-c9aa-4ac3-bb18-3984cbeebbc6",
   "metadata": {},
   "source": [
    "### range() attribute\n",
    "   - generate sequence of number"
   ]
  },
  {
   "cell_type": "code",
   "execution_count": 233,
   "id": "90a5e4ae-368c-4a90-a137-d597961f9e9f",
   "metadata": {},
   "outputs": [
    {
     "ename": "AttributeError",
     "evalue": "module 'numpy' has no attribute 'range'",
     "output_type": "error",
     "traceback": [
      "\u001b[1;31m---------------------------------------------------------------------------\u001b[0m",
      "\u001b[1;31mAttributeError\u001b[0m                            Traceback (most recent call last)",
      "Cell \u001b[1;32mIn[233], line 1\u001b[0m\n\u001b[1;32m----> 1\u001b[0m \u001b[43mnp\u001b[49m\u001b[38;5;241;43m.\u001b[39;49m\u001b[43mrange\u001b[49m(\u001b[38;5;241m8\u001b[39m)\n",
      "File \u001b[1;32m~\\anaconda3\\Lib\\site-packages\\numpy\\__init__.py:333\u001b[0m, in \u001b[0;36m__getattr__\u001b[1;34m(attr)\u001b[0m\n\u001b[0;32m    330\u001b[0m     \u001b[38;5;124m\"\u001b[39m\u001b[38;5;124mRemoved in NumPy 1.25.0\u001b[39m\u001b[38;5;124m\"\u001b[39m\n\u001b[0;32m    331\u001b[0m     \u001b[38;5;28;01mraise\u001b[39;00m \u001b[38;5;167;01mRuntimeError\u001b[39;00m(\u001b[38;5;124m\"\u001b[39m\u001b[38;5;124mTester was removed in NumPy 1.25.\u001b[39m\u001b[38;5;124m\"\u001b[39m)\n\u001b[1;32m--> 333\u001b[0m \u001b[38;5;28;01mraise\u001b[39;00m \u001b[38;5;167;01mAttributeError\u001b[39;00m(\u001b[38;5;124m\"\u001b[39m\u001b[38;5;124mmodule \u001b[39m\u001b[38;5;132;01m{!r}\u001b[39;00m\u001b[38;5;124m has no attribute \u001b[39m\u001b[38;5;124m\"\u001b[39m\n\u001b[0;32m    334\u001b[0m                      \u001b[38;5;124m\"\u001b[39m\u001b[38;5;132;01m{!r}\u001b[39;00m\u001b[38;5;124m\"\u001b[39m\u001b[38;5;241m.\u001b[39mformat(\u001b[38;5;18m__name__\u001b[39m, attr))\n",
      "\u001b[1;31mAttributeError\u001b[0m: module 'numpy' has no attribute 'range'"
     ]
    }
   ],
   "source": [
    "np.range(8)"
   ]
  },
  {
   "cell_type": "code",
   "execution_count": 234,
   "id": "827aff52-84c5-45df-83e5-8a42cdee597d",
   "metadata": {},
   "outputs": [],
   "source": [
    "from numpy import* # it help to import all the function nd atribute "
   ]
  },
  {
   "cell_type": "code",
   "execution_count": 235,
   "id": "79be00ed-f2f4-4dfc-8acf-1edfbf3e234f",
   "metadata": {},
   "outputs": [
    {
     "data": {
      "text/plain": [
       "range(0, 4)"
      ]
     },
     "execution_count": 235,
     "metadata": {},
     "output_type": "execute_result"
    }
   ],
   "source": [
    "range(4)"
   ]
  },
  {
   "cell_type": "code",
   "execution_count": 236,
   "id": "91a4ded7-07b1-474c-9641-120c890fda8a",
   "metadata": {},
   "outputs": [
    {
     "data": {
      "text/plain": [
       "[0, 1, 2, 3]"
      ]
     },
     "execution_count": 236,
     "metadata": {},
     "output_type": "execute_result"
    }
   ],
   "source": [
    "list(range(4)) # to print range"
   ]
  },
  {
   "cell_type": "code",
   "execution_count": 237,
   "id": "dd89d7ee-0b78-4515-af56-1312341d0aff",
   "metadata": {},
   "outputs": [
    {
     "data": {
      "text/plain": [
       "array([0., 0., 0., 0., 0.])"
      ]
     },
     "execution_count": 237,
     "metadata": {},
     "output_type": "execute_result"
    }
   ],
   "source": [
    "zeros(5) # we can print this way also"
   ]
  },
  {
   "cell_type": "markdown",
   "id": "e2ea4bd3-300e-4ad4-bd21-9ebb8ed4ce04",
   "metadata": {},
   "source": [
    "## random.rand() ### --> use to generate random number decimal value"
   ]
  },
  {
   "cell_type": "code",
   "execution_count": 238,
   "id": "cd6759f8-4722-4da7-843f-c2289e7affd3",
   "metadata": {},
   "outputs": [
    {
     "data": {
      "text/plain": [
       "array([0.19768925, 0.54615219, 0.65395948, 0.02640258, 0.49330635,\n",
       "       0.21026219, 0.73229413, 0.82866594, 0.74957233])"
      ]
     },
     "execution_count": 238,
     "metadata": {},
     "output_type": "execute_result"
    }
   ],
   "source": [
    "a = np.random.rand(9) # it help to generate randon value \n",
    "a"
   ]
  },
  {
   "cell_type": "code",
   "execution_count": 239,
   "id": "73029a9c-a9f3-43e9-bff8-bb0350bf340c",
   "metadata": {},
   "outputs": [
    {
     "data": {
      "text/plain": [
       "array([ 8.41277122, 13.94552159, 11.02717587,  2.45095654, 34.9012508 ,\n",
       "       37.69930051, 77.32712645, 44.06177215, 89.781631  ])"
      ]
     },
     "execution_count": 239,
     "metadata": {},
     "output_type": "execute_result"
    }
   ],
   "source": [
    "np.random.rand(9)*100 # to get 2 desimal point"
   ]
  },
  {
   "cell_type": "code",
   "execution_count": 240,
   "id": "b30db68a-048b-4975-abb4-66e92319a792",
   "metadata": {},
   "outputs": [
    {
     "data": {
      "text/plain": [
       "array([56.,  0., 67., 33., 48., 94., 33.])"
      ]
     },
     "execution_count": 240,
     "metadata": {},
     "output_type": "execute_result"
    }
   ],
   "source": [
    "np.round(np.random.rand(7)*100) # to get round value of desimal value"
   ]
  },
  {
   "cell_type": "markdown",
   "id": "d12dc87b-d8e4-4eca-8029-2b737f58bd70",
   "metadata": {},
   "source": [
    "## random.randint() --> use to generate random integer number"
   ]
  },
  {
   "cell_type": "code",
   "execution_count": 241,
   "id": "24f3340c-5e47-4b81-8c28-de2d860dde8e",
   "metadata": {},
   "outputs": [
    {
     "data": {
      "text/plain": [
       "3"
      ]
     },
     "execution_count": 241,
     "metadata": {},
     "output_type": "execute_result"
    }
   ],
   "source": [
    "a = np.random.randint(7) #to generate rendom integer value till 7\n",
    "a"
   ]
  },
  {
   "cell_type": "code",
   "execution_count": 242,
   "id": "7823ea07-42ba-44bb-af29-4d5d03847eb0",
   "metadata": {},
   "outputs": [
    {
     "data": {
      "text/plain": [
       "8"
      ]
     },
     "execution_count": 242,
     "metadata": {},
     "output_type": "execute_result"
    }
   ],
   "source": [
    "np.random.randint(5,9) # to generate random integer value from 5 to 9"
   ]
  },
  {
   "cell_type": "code",
   "execution_count": 243,
   "id": "d8d0f203-df83-4b3c-b403-fee3e3e9050a",
   "metadata": {},
   "outputs": [
    {
     "data": {
      "text/plain": [
       "array([2, 3, 4, 3, 7, 7])"
      ]
     },
     "execution_count": 243,
     "metadata": {},
     "output_type": "execute_result"
    }
   ],
   "source": [
    "np.random.randint(2,8,6) # here number are generate in beween 2 to 8 and 6 number should be generated"
   ]
  },
  {
   "cell_type": "code",
   "execution_count": 244,
   "id": "625fd419-bde8-4c94-b767-a142f1c58e4f",
   "metadata": {},
   "outputs": [
    {
     "data": {
      "text/plain": [
       "array([[5, 5, 6, 2, 6],\n",
       "       [6, 3, 2, 6, 5],\n",
       "       [5, 2, 4, 5, 2],\n",
       "       [2, 4, 4, 4, 6],\n",
       "       [2, 4, 3, 5, 4]])"
      ]
     },
     "execution_count": 244,
     "metadata": {},
     "output_type": "execute_result"
    }
   ],
   "source": [
    "np.random.randint(2,7,(5,5)) # number are generated from 2 to 7 and in the matrix form of 5 x 5 or 25 elements"
   ]
  },
  {
   "cell_type": "markdown",
   "id": "23f47f20-2939-4c97-804a-d6b117479120",
   "metadata": {},
   "source": [
    "## Array slicing "
   ]
  },
  {
   "cell_type": "code",
   "execution_count": 245,
   "id": "1be9cc6c-ab76-496f-8f3a-6719f493344c",
   "metadata": {},
   "outputs": [
    {
     "name": "stdout",
     "output_type": "stream",
     "text": [
      "[[49 27 15 23 33 21 21 23]\n",
      " [42 42 40  7 30  9 38 15]\n",
      " [36 48 27 17 45 30 43 33]\n",
      " [27 45 23 48 46  1 17 15]\n",
      " [26 48  8 45 34 36 22  2]\n",
      " [42 11 44 25 17 10 19  2]\n",
      " [45  7 29 32 12 46 17 12]\n",
      " [42 44 37 35 25 21 38 19]]\n"
     ]
    }
   ],
   "source": [
    "a = np.random.randint(0,50,(8,8)) # number of matrix is generate from 0 to 50 with 8 x 8 marix\n",
    "print(a)"
   ]
  },
  {
   "cell_type": "code",
   "execution_count": 246,
   "id": "0cdcff43-2c94-4699-a95e-b754b69c37f3",
   "metadata": {},
   "outputs": [
    {
     "data": {
      "text/plain": [
       "array([[49, 27, 15, 23, 33, 21, 21, 23],\n",
       "       [42, 42, 40,  7, 30,  9, 38, 15],\n",
       "       [36, 48, 27, 17, 45, 30, 43, 33],\n",
       "       [27, 45, 23, 48, 46,  1, 17, 15],\n",
       "       [26, 48,  8, 45, 34, 36, 22,  2],\n",
       "       [42, 11, 44, 25, 17, 10, 19,  2],\n",
       "       [45,  7, 29, 32, 12, 46, 17, 12],\n",
       "       [42, 44, 37, 35, 25, 21, 38, 19]])"
      ]
     },
     "execution_count": 246,
     "metadata": {},
     "output_type": "execute_result"
    }
   ],
   "source": [
    "a"
   ]
  },
  {
   "cell_type": "code",
   "execution_count": 247,
   "id": "792ee610-92d9-4eaa-80f3-66d2c48a9682",
   "metadata": {},
   "outputs": [
    {
     "data": {
      "text/plain": [
       "array([[49, 27, 15, 23, 33, 21, 21, 23],\n",
       "       [42, 42, 40,  7, 30,  9, 38, 15],\n",
       "       [36, 48, 27, 17, 45, 30, 43, 33],\n",
       "       [27, 45, 23, 48, 46,  1, 17, 15],\n",
       "       [26, 48,  8, 45, 34, 36, 22,  2],\n",
       "       [42, 11, 44, 25, 17, 10, 19,  2],\n",
       "       [45,  7, 29, 32, 12, 46, 17, 12],\n",
       "       [42, 44, 37, 35, 25, 21, 38, 19]])"
      ]
     },
     "execution_count": 247,
     "metadata": {},
     "output_type": "execute_result"
    }
   ],
   "source": [
    "a[:] # print all the matrix value"
   ]
  },
  {
   "cell_type": "code",
   "execution_count": 248,
   "id": "1cf834bf-1de9-4af9-acee-07f99fe40b50",
   "metadata": {},
   "outputs": [
    {
     "data": {
      "text/plain": [
       "array([[27, 45, 23, 48, 46,  1, 17, 15],\n",
       "       [26, 48,  8, 45, 34, 36, 22,  2],\n",
       "       [42, 11, 44, 25, 17, 10, 19,  2],\n",
       "       [45,  7, 29, 32, 12, 46, 17, 12],\n",
       "       [42, 44, 37, 35, 25, 21, 38, 19]])"
      ]
     },
     "execution_count": 248,
     "metadata": {},
     "output_type": "execute_result"
    }
   ],
   "source": [
    "a[3:] # print the matrix 3rd indexrowto the end rows"
   ]
  },
  {
   "cell_type": "code",
   "execution_count": 249,
   "id": "981e7ef2-d0e8-4032-bdfa-6fd44fc66055",
   "metadata": {},
   "outputs": [
    {
     "data": {
      "text/plain": [
       "array([[49, 27, 15, 23, 33, 21, 21, 23],\n",
       "       [42, 42, 40,  7, 30,  9, 38, 15],\n",
       "       [36, 48, 27, 17, 45, 30, 43, 33],\n",
       "       [27, 45, 23, 48, 46,  1, 17, 15]])"
      ]
     },
     "execution_count": 249,
     "metadata": {},
     "output_type": "execute_result"
    }
   ],
   "source": [
    "a[:4] # print the matrix from 0 th index to (4-1)th index"
   ]
  },
  {
   "cell_type": "code",
   "execution_count": 250,
   "id": "ab4302c1-b36a-497c-9d5c-11b82325a493",
   "metadata": {},
   "outputs": [
    {
     "data": {
      "text/plain": [
       "array([[49, 27, 15, 23, 33, 21, 21, 23],\n",
       "       [42, 42, 40,  7, 30,  9, 38, 15],\n",
       "       [36, 48, 27, 17, 45, 30, 43, 33],\n",
       "       [27, 45, 23, 48, 46,  1, 17, 15],\n",
       "       [26, 48,  8, 45, 34, 36, 22,  2],\n",
       "       [42, 11, 44, 25, 17, 10, 19,  2],\n",
       "       [45,  7, 29, 32, 12, 46, 17, 12]])"
      ]
     },
     "execution_count": 250,
     "metadata": {},
     "output_type": "execute_result"
    }
   ],
   "source": [
    "a[0:-1] # it also print till -2 index rows value of the matrix"
   ]
  },
  {
   "cell_type": "code",
   "execution_count": 251,
   "id": "4a0a4bb5-a695-4e97-936d-abed84bd4119",
   "metadata": {},
   "outputs": [
    {
     "data": {
      "text/plain": [
       "array([[49, 27, 15, 23, 33, 21, 21, 23],\n",
       "       [42, 42, 40,  7, 30,  9, 38, 15],\n",
       "       [36, 48, 27, 17, 45, 30, 43, 33],\n",
       "       [27, 45, 23, 48, 46,  1, 17, 15],\n",
       "       [26, 48,  8, 45, 34, 36, 22,  2],\n",
       "       [42, 11, 44, 25, 17, 10, 19,  2],\n",
       "       [45,  7, 29, 32, 12, 46, 17, 12],\n",
       "       [42, 44, 37, 35, 25, 21, 38, 19]])"
      ]
     },
     "execution_count": 251,
     "metadata": {},
     "output_type": "execute_result"
    }
   ],
   "source": [
    "a"
   ]
  },
  {
   "cell_type": "code",
   "execution_count": 252,
   "id": "28f99425-634f-4ab6-9ce4-c9e2ca102ce9",
   "metadata": {},
   "outputs": [
    {
     "data": {
      "text/plain": [
       "array([[36, 48, 27, 17, 45, 30, 43, 33],\n",
       "       [27, 45, 23, 48, 46,  1, 17, 15],\n",
       "       [26, 48,  8, 45, 34, 36, 22,  2],\n",
       "       [42, 11, 44, 25, 17, 10, 19,  2],\n",
       "       [45,  7, 29, 32, 12, 46, 17, 12]])"
      ]
     },
     "execution_count": 252,
     "metadata": {},
     "output_type": "execute_result"
    }
   ],
   "source": [
    "a[2:-1] # it print from 2ndindex row to -1 index colums all values"
   ]
  },
  {
   "cell_type": "code",
   "execution_count": 253,
   "id": "3839589f-3c7f-42db-a305-6532ca4520d5",
   "metadata": {},
   "outputs": [
    {
     "data": {
      "text/plain": [
       "array([[26, 48,  8, 45, 34, 36, 22,  2],\n",
       "       [42, 11, 44, 25, 17, 10, 19,  2],\n",
       "       [45,  7, 29, 32, 12, 46, 17, 12]])"
      ]
     },
     "execution_count": 253,
     "metadata": {},
     "output_type": "execute_result"
    }
   ],
   "source": [
    "a[-4:-1] # print -4 index rows with -1 index column values"
   ]
  },
  {
   "cell_type": "code",
   "execution_count": 254,
   "id": "31176856-8eca-4c49-a564-c23c0efd5fed",
   "metadata": {},
   "outputs": [
    {
     "data": {
      "text/plain": [
       "17"
      ]
     },
     "execution_count": 254,
     "metadata": {},
     "output_type": "execute_result"
    }
   ],
   "source": [
    "a[3,6] # it gives the individual value from combination of 3rd index row and 6th index column"
   ]
  },
  {
   "cell_type": "code",
   "execution_count": 255,
   "id": "73d2cf1d-cb0b-4a8a-9fc8-ff974fb37266",
   "metadata": {},
   "outputs": [
    {
     "data": {
      "text/plain": [
       "45"
      ]
     },
     "execution_count": 255,
     "metadata": {},
     "output_type": "execute_result"
    }
   ],
   "source": [
    "a[2,-4] # it gives value 2ndindes row and -4 index value combination"
   ]
  },
  {
   "cell_type": "code",
   "execution_count": 256,
   "id": "1f7971f9-3525-4df0-9cd4-00bc84b95bf3",
   "metadata": {},
   "outputs": [
    {
     "data": {
      "text/plain": [
       "36"
      ]
     },
     "execution_count": 256,
     "metadata": {},
     "output_type": "execute_result"
    }
   ],
   "source": [
    "a[-4,-3] # combination of -4 index rows and -3 index columns"
   ]
  },
  {
   "cell_type": "code",
   "execution_count": 257,
   "id": "449b9e44-2ba4-4e86-a043-d8bc84dfaade",
   "metadata": {},
   "outputs": [
    {
     "data": {
      "text/plain": [
       "array([[49, 27, 15, 23, 33, 21, 21, 23],\n",
       "       [42, 42, 40,  7, 30,  9, 38, 15],\n",
       "       [36, 48, 27, 17, 45, 30, 43, 33],\n",
       "       [27, 45, 23, 48, 46,  1, 17, 15],\n",
       "       [26, 48,  8, 45, 34, 36, 22,  2],\n",
       "       [42, 11, 44, 25, 17, 10, 19,  2],\n",
       "       [45,  7, 29, 32, 12, 46, 17, 12],\n",
       "       [42, 44, 37, 35, 25, 21, 38, 19]])"
      ]
     },
     "execution_count": 257,
     "metadata": {},
     "output_type": "execute_result"
    }
   ],
   "source": [
    "a[::] # print all the matrix value"
   ]
  },
  {
   "cell_type": "code",
   "execution_count": 258,
   "id": "158b7642-3ae0-4bde-9e6f-507268cb18f3",
   "metadata": {},
   "outputs": [
    {
     "data": {
      "text/plain": [
       "array([[42, 44, 37, 35, 25, 21, 38, 19],\n",
       "       [45,  7, 29, 32, 12, 46, 17, 12],\n",
       "       [42, 11, 44, 25, 17, 10, 19,  2],\n",
       "       [26, 48,  8, 45, 34, 36, 22,  2],\n",
       "       [27, 45, 23, 48, 46,  1, 17, 15],\n",
       "       [36, 48, 27, 17, 45, 30, 43, 33],\n",
       "       [42, 42, 40,  7, 30,  9, 38, 15],\n",
       "       [49, 27, 15, 23, 33, 21, 21, 23]])"
      ]
     },
     "execution_count": 258,
     "metadata": {},
     "output_type": "execute_result"
    }
   ],
   "source": [
    "a[::-1] # it help to reverse the metrix row last row comes to first andso on"
   ]
  },
  {
   "cell_type": "code",
   "execution_count": 259,
   "id": "5a19b67b-5e7b-4895-be51-aa8d55a47f6b",
   "metadata": {},
   "outputs": [
    {
     "data": {
      "text/plain": [
       "array([[42, 44, 37, 35, 25, 21, 38, 19],\n",
       "       [42, 11, 44, 25, 17, 10, 19,  2],\n",
       "       [27, 45, 23, 48, 46,  1, 17, 15],\n",
       "       [42, 42, 40,  7, 30,  9, 38, 15]])"
      ]
     },
     "execution_count": 259,
     "metadata": {},
     "output_type": "execute_result"
    }
   ],
   "source": [
    "a[::-2] # it print from the last -2 indexingformat"
   ]
  },
  {
   "cell_type": "markdown",
   "id": "ad6eeeda-8640-4329-be52-570425394001",
   "metadata": {},
   "source": [
    "## Array operation"
   ]
  },
  {
   "cell_type": "code",
   "execution_count": 260,
   "id": "d02de17f-dde0-4089-90d5-c0bcd157f50c",
   "metadata": {},
   "outputs": [
    {
     "data": {
      "text/plain": [
       "array([[49, 27, 15, 23, 33, 21, 21, 23],\n",
       "       [42, 42, 40,  7, 30,  9, 38, 15],\n",
       "       [36, 48, 27, 17, 45, 30, 43, 33],\n",
       "       [27, 45, 23, 48, 46,  1, 17, 15],\n",
       "       [26, 48,  8, 45, 34, 36, 22,  2],\n",
       "       [42, 11, 44, 25, 17, 10, 19,  2],\n",
       "       [45,  7, 29, 32, 12, 46, 17, 12],\n",
       "       [42, 44, 37, 35, 25, 21, 38, 19]])"
      ]
     },
     "execution_count": 260,
     "metadata": {},
     "output_type": "execute_result"
    }
   ],
   "source": [
    "a"
   ]
  },
  {
   "cell_type": "code",
   "execution_count": 261,
   "id": "5250ae0b-ba96-4540-99ea-c77e1a722f14",
   "metadata": {},
   "outputs": [
    {
     "data": {
      "text/plain": [
       "1788"
      ]
     },
     "execution_count": 261,
     "metadata": {},
     "output_type": "execute_result"
    }
   ],
   "source": [
    "a.sum() # itgive sum of all the elements"
   ]
  },
  {
   "cell_type": "code",
   "execution_count": 262,
   "id": "f1d6ca86-d40d-42ee-b6c1-c42413ef2a64",
   "metadata": {},
   "outputs": [
    {
     "data": {
      "text/plain": [
       "27.9375"
      ]
     },
     "execution_count": 262,
     "metadata": {},
     "output_type": "execute_result"
    }
   ],
   "source": [
    "a.mean() # its calculate the average of the matrix value"
   ]
  },
  {
   "cell_type": "code",
   "execution_count": 263,
   "id": "67b1d451-1561-4ff5-9a3e-ce0d890e05a2",
   "metadata": {},
   "outputs": [
    {
     "data": {
      "text/plain": [
       "49"
      ]
     },
     "execution_count": 263,
     "metadata": {},
     "output_type": "execute_result"
    }
   ],
   "source": [
    "a.max() # it find the maximum value inthe matrix"
   ]
  },
  {
   "cell_type": "code",
   "execution_count": 264,
   "id": "1e03b8bc-4fb6-4fc1-bc58-a1994ed8a958",
   "metadata": {},
   "outputs": [
    {
     "data": {
      "text/plain": [
       "array([[49, 27, 15, 23, 33, 21, 21, 23],\n",
       "       [42, 42, 40,  7, 30,  9, 38, 15],\n",
       "       [36, 48, 27, 17, 45, 30, 43, 33],\n",
       "       [27, 45, 23, 48, 46,  1, 17, 15],\n",
       "       [26, 48,  8, 45, 34, 36, 22,  2],\n",
       "       [42, 11, 44, 25, 17, 10, 19,  2],\n",
       "       [45,  7, 29, 32, 12, 46, 17, 12],\n",
       "       [42, 44, 37, 35, 25, 21, 38, 19]])"
      ]
     },
     "execution_count": 264,
     "metadata": {},
     "output_type": "execute_result"
    }
   ],
   "source": [
    "a"
   ]
  },
  {
   "cell_type": "code",
   "execution_count": 265,
   "id": "8969c8f0-e4d7-4339-8417-46430aa74f4c",
   "metadata": {},
   "outputs": [
    {
     "data": {
      "text/plain": [
       "1"
      ]
     },
     "execution_count": 265,
     "metadata": {},
     "output_type": "execute_result"
    }
   ],
   "source": [
    "a.min() # it calculate minimum value of the matrix"
   ]
  },
  {
   "cell_type": "code",
   "execution_count": 266,
   "id": "5afd3919-da68-4931-94d6-afc274800b0e",
   "metadata": {},
   "outputs": [
    {
     "ename": "AttributeError",
     "evalue": "'numpy.ndarray' object has no attribute 'median'",
     "output_type": "error",
     "traceback": [
      "\u001b[1;31m---------------------------------------------------------------------------\u001b[0m",
      "\u001b[1;31mAttributeError\u001b[0m                            Traceback (most recent call last)",
      "Cell \u001b[1;32mIn[266], line 1\u001b[0m\n\u001b[1;32m----> 1\u001b[0m \u001b[43ma\u001b[49m\u001b[38;5;241;43m.\u001b[39;49m\u001b[43mmedian\u001b[49m()\n",
      "\u001b[1;31mAttributeError\u001b[0m: 'numpy.ndarray' object has no attribute 'median'"
     ]
    }
   ],
   "source": [
    "a.median()"
   ]
  },
  {
   "cell_type": "markdown",
   "id": "0b7c58d8-220f-43e7-a0f9-50c5b25201ea",
   "metadata": {},
   "source": [
    "#### To get median function we have  to do the following"
   ]
  },
  {
   "cell_type": "code",
   "execution_count": 267,
   "id": "8bc73a6c-6285-48f0-8032-11c6e3ca70c2",
   "metadata": {},
   "outputs": [
    {
     "data": {
      "text/plain": [
       "array([[49, 27, 15, 23, 33, 21, 21, 23],\n",
       "       [42, 42, 40,  7, 30,  9, 38, 15],\n",
       "       [36, 48, 27, 17, 45, 30, 43, 33],\n",
       "       [27, 45, 23, 48, 46,  1, 17, 15],\n",
       "       [26, 48,  8, 45, 34, 36, 22,  2],\n",
       "       [42, 11, 44, 25, 17, 10, 19,  2],\n",
       "       [45,  7, 29, 32, 12, 46, 17, 12],\n",
       "       [42, 44, 37, 35, 25, 21, 38, 19]])"
      ]
     },
     "execution_count": 267,
     "metadata": {},
     "output_type": "execute_result"
    }
   ],
   "source": [
    "from numpy import*\n",
    "a"
   ]
  },
  {
   "cell_type": "code",
   "execution_count": 268,
   "id": "95f9431a-68c1-48d4-89a2-5d5a3c71a2f2",
   "metadata": {},
   "outputs": [
    {
     "data": {
      "text/plain": [
       "27.0"
      ]
     },
     "execution_count": 268,
     "metadata": {},
     "output_type": "execute_result"
    }
   ],
   "source": [
    "median(a)"
   ]
  },
  {
   "cell_type": "markdown",
   "id": "e83a7238-5814-4648-94ba-5c2541a51692",
   "metadata": {},
   "source": [
    "### reshape() attribute\n",
    " - to give reshape to the array elements"
   ]
  },
  {
   "cell_type": "code",
   "execution_count": 269,
   "id": "c5240f85-6114-4713-8853-c826ebab830d",
   "metadata": {},
   "outputs": [],
   "source": [
    "b = np.random.randint(0,100,12) # generate 12 random number from 0 to 100"
   ]
  },
  {
   "cell_type": "code",
   "execution_count": 270,
   "id": "eb07d4de-b77e-412b-9e8b-bc535e183e11",
   "metadata": {},
   "outputs": [
    {
     "data": {
      "text/plain": [
       "array([76, 25, 71, 37, 87, 48, 45, 43, 41, 21, 90, 12])"
      ]
     },
     "execution_count": 270,
     "metadata": {},
     "output_type": "execute_result"
    }
   ],
   "source": [
    "b"
   ]
  },
  {
   "cell_type": "code",
   "execution_count": 271,
   "id": "d5544f53-203f-4804-8849-473a710b8c4f",
   "metadata": {},
   "outputs": [
    {
     "data": {
      "text/plain": [
       "array([76, 25, 71, 37, 87, 48, 45, 43, 41, 21, 90, 12])"
      ]
     },
     "execution_count": 271,
     "metadata": {},
     "output_type": "execute_result"
    }
   ],
   "source": [
    "b"
   ]
  },
  {
   "cell_type": "code",
   "execution_count": 272,
   "id": "d1f79b22-23c9-4a66-91bf-4b374d26036e",
   "metadata": {},
   "outputs": [
    {
     "data": {
      "text/plain": [
       "array([[76, 25, 71],\n",
       "       [37, 87, 48],\n",
       "       [45, 43, 41],\n",
       "       [21, 90, 12]])"
      ]
     },
     "execution_count": 272,
     "metadata": {},
     "output_type": "execute_result"
    }
   ],
   "source": [
    "b.reshape(4,3) # it arange the number in to a 4 x 3 matrix value\n"
   ]
  },
  {
   "cell_type": "code",
   "execution_count": 273,
   "id": "2bde37e0-95ff-47c4-bbbb-faa8fc3c12b4",
   "metadata": {},
   "outputs": [
    {
     "data": {
      "text/plain": [
       "array([[76, 25, 71, 37, 87, 48],\n",
       "       [45, 43, 41, 21, 90, 12]])"
      ]
     },
     "execution_count": 273,
     "metadata": {},
     "output_type": "execute_result"
    }
   ],
   "source": [
    "b.reshape(2,6) # it arange in to 2 x 6 matrix. N.B - reshape work when the total number is to be reshape is same with multiplication of reshape argu. "
   ]
  },
  {
   "cell_type": "code",
   "execution_count": 274,
   "id": "9ad1628f-46b9-4bf6-98f7-628566fedcc0",
   "metadata": {},
   "outputs": [
    {
     "data": {
      "text/plain": [
       "array([1, 2, 3, 4, 5, 6])"
      ]
     },
     "execution_count": 274,
     "metadata": {},
     "output_type": "execute_result"
    }
   ],
   "source": [
    "c = np.array([1,2,3,4,5,6])\n",
    "c"
   ]
  },
  {
   "cell_type": "code",
   "execution_count": 275,
   "id": "c40a5a28-fd6d-4949-a5f5-ef96db7282aa",
   "metadata": {},
   "outputs": [
    {
     "data": {
      "text/plain": [
       "array([[1, 2, 3],\n",
       "       [4, 5, 6]])"
      ]
     },
     "execution_count": 275,
     "metadata": {},
     "output_type": "execute_result"
    }
   ],
   "source": [
    "c.reshape(2,3)"
   ]
  },
  {
   "cell_type": "code",
   "execution_count": 276,
   "id": "c20292eb-f383-486b-b1b0-425d114de622",
   "metadata": {
    "scrolled": true
   },
   "outputs": [
    {
     "data": {
      "text/plain": [
       "array([[1, 2, 3],\n",
       "       [4, 5, 6]])"
      ]
     },
     "execution_count": 276,
     "metadata": {},
     "output_type": "execute_result"
    }
   ],
   "source": [
    "c.reshape(2,3,order='c') # order represent how the data will print here dta print in 'C' format"
   ]
  },
  {
   "cell_type": "code",
   "execution_count": 277,
   "id": "41b16060-93da-4fce-aae8-a8ab4f9b2dbc",
   "metadata": {},
   "outputs": [
    {
     "data": {
      "text/plain": [
       "array([[1, 3, 5],\n",
       "       [2, 4, 6]])"
      ]
     },
     "execution_count": 277,
     "metadata": {},
     "output_type": "execute_result"
    }
   ],
   "source": [
    "c.reshape(2,3,order='f') # here data are print in fortran format"
   ]
  },
  {
   "cell_type": "code",
   "execution_count": 278,
   "id": "f729c965-104a-46a9-bfab-726299f37dc4",
   "metadata": {},
   "outputs": [
    {
     "data": {
      "text/plain": [
       "array([[1, 2, 3],\n",
       "       [4, 5, 6]])"
      ]
     },
     "execution_count": 278,
     "metadata": {},
     "output_type": "execute_result"
    }
   ],
   "source": [
    "c.reshape(2,3,order='a') # here data are print in arbitrary / defult c type"
   ]
  },
  {
   "cell_type": "code",
   "execution_count": 279,
   "id": "d4207785-c73a-4604-81c9-39d71291fbbc",
   "metadata": {},
   "outputs": [
    {
     "data": {
      "text/plain": [
       "array([1, 2, 3, 4, 5, 6])"
      ]
     },
     "execution_count": 279,
     "metadata": {},
     "output_type": "execute_result"
    }
   ],
   "source": [
    "c"
   ]
  },
  {
   "cell_type": "code",
   "execution_count": 280,
   "id": "6c8b22f5-d2f0-4056-bcb4-81a94953a2b6",
   "metadata": {},
   "outputs": [
    {
     "ename": "ValueError",
     "evalue": "cannot reshape array of size 6 into shape (4,2)",
     "output_type": "error",
     "traceback": [
      "\u001b[1;31m---------------------------------------------------------------------------\u001b[0m",
      "\u001b[1;31mValueError\u001b[0m                                Traceback (most recent call last)",
      "Cell \u001b[1;32mIn[280], line 1\u001b[0m\n\u001b[1;32m----> 1\u001b[0m \u001b[43mc\u001b[49m\u001b[38;5;241;43m.\u001b[39;49m\u001b[43mreshape\u001b[49m\u001b[43m(\u001b[49m\u001b[38;5;241;43m4\u001b[39;49m\u001b[43m,\u001b[49m\u001b[38;5;241;43m2\u001b[39;49m\u001b[43m)\u001b[49m \u001b[38;5;66;03m# it show error becz 4*2 = 8, but only 6 value have to print, if the value no. are 8 then it work properly\u001b[39;00m\n",
      "\u001b[1;31mValueError\u001b[0m: cannot reshape array of size 6 into shape (4,2)"
     ]
    }
   ],
   "source": [
    "c.reshape(4,2) # it show error becz 4*2 = 8, but only 6 value have to print, if the value no. are 8 then it work properly"
   ]
  },
  {
   "cell_type": "markdown",
   "id": "9fbe95bc-0fd6-40fc-95ec-910b8360f6ef",
   "metadata": {},
   "source": [
    "### Array slicing concept that left"
   ]
  },
  {
   "cell_type": "code",
   "execution_count": 281,
   "id": "ceecd461-4aed-478d-9d66-5c5179aa6880",
   "metadata": {},
   "outputs": [
    {
     "data": {
      "text/plain": [
       "array([[49, 27, 15, 23, 33, 21, 21, 23],\n",
       "       [42, 42, 40,  7, 30,  9, 38, 15],\n",
       "       [36, 48, 27, 17, 45, 30, 43, 33],\n",
       "       [27, 45, 23, 48, 46,  1, 17, 15],\n",
       "       [26, 48,  8, 45, 34, 36, 22,  2],\n",
       "       [42, 11, 44, 25, 17, 10, 19,  2],\n",
       "       [45,  7, 29, 32, 12, 46, 17, 12],\n",
       "       [42, 44, 37, 35, 25, 21, 38, 19]])"
      ]
     },
     "execution_count": 281,
     "metadata": {},
     "output_type": "execute_result"
    }
   ],
   "source": [
    "a"
   ]
  },
  {
   "cell_type": "code",
   "execution_count": 282,
   "id": "06273b14-3a3e-4e1b-b71f-a333b14abded",
   "metadata": {},
   "outputs": [
    {
     "data": {
      "text/plain": [
       "array([27, 45, 23, 48, 46,  1, 17, 15])"
      ]
     },
     "execution_count": 282,
     "metadata": {},
     "output_type": "execute_result"
    }
   ],
   "source": [
    "a[3,:] # to get only one row as out put"
   ]
  },
  {
   "cell_type": "code",
   "execution_count": 283,
   "id": "eaa318da-b206-4c7a-983e-64462f195774",
   "metadata": {},
   "outputs": [
    {
     "data": {
      "text/plain": [
       "array([33, 30, 45, 46, 34, 17, 12, 25])"
      ]
     },
     "execution_count": 283,
     "metadata": {},
     "output_type": "execute_result"
    }
   ],
   "source": [
    "a[:,4] # to get only one column as out put"
   ]
  },
  {
   "cell_type": "code",
   "execution_count": 284,
   "id": "d61e7143-b6d0-4cab-8834-55f25110157f",
   "metadata": {},
   "outputs": [
    {
     "data": {
      "text/plain": [
       "array([[49, 27, 15, 23, 33, 21, 21, 23],\n",
       "       [42, 42, 40,  7, 30,  9, 38, 15],\n",
       "       [36, 48, 27, 17, 45, 30, 43, 33],\n",
       "       [27, 45, 23, 48, 46,  1, 17, 15],\n",
       "       [26, 48,  8, 45, 34, 36, 22,  2]])"
      ]
     },
     "execution_count": 284,
     "metadata": {},
     "output_type": "execute_result"
    }
   ],
   "source": [
    "a[0:5] # print values of all 5 columns"
   ]
  },
  {
   "cell_type": "code",
   "execution_count": 285,
   "id": "bdff8c3f-c004-4fb0-a60b-85ba4ed8e505",
   "metadata": {},
   "outputs": [
    {
     "data": {
      "text/plain": [
       "array([23, 15, 33, 15,  2,  2, 12, 19])"
      ]
     },
     "execution_count": 285,
     "metadata": {},
     "output_type": "execute_result"
    }
   ],
   "source": [
    "a[:,-1] # to get last columns only"
   ]
  },
  {
   "cell_type": "code",
   "execution_count": 286,
   "id": "3952848b-86fd-4c8f-befc-23c6645423c6",
   "metadata": {},
   "outputs": [
    {
     "data": {
      "text/plain": [
       "array([42, 44, 37, 35, 25, 21, 38, 19])"
      ]
     },
     "execution_count": 286,
     "metadata": {},
     "output_type": "execute_result"
    }
   ],
   "source": [
    "a[-1,:] # to get last rows only"
   ]
  },
  {
   "cell_type": "code",
   "execution_count": 287,
   "id": "6f583975-1b0e-4cbf-888b-61a15906d61c",
   "metadata": {},
   "outputs": [
    {
     "data": {
      "text/plain": [
       "array([[26, 48,  8, 45, 34, 36, 22,  2],\n",
       "       [42, 11, 44, 25, 17, 10, 19,  2],\n",
       "       [45,  7, 29, 32, 12, 46, 17, 12],\n",
       "       [42, 44, 37, 35, 25, 21, 38, 19]])"
      ]
     },
     "execution_count": 287,
     "metadata": {},
     "output_type": "execute_result"
    }
   ],
   "source": [
    "a[4:] # it print from 4th index rowto till last\n"
   ]
  },
  {
   "cell_type": "code",
   "execution_count": 288,
   "id": "510033e8-935a-43e0-ae0e-4c0c5f0d6636",
   "metadata": {},
   "outputs": [
    {
     "data": {
      "text/plain": [
       "array([[49, 27, 15, 23, 33, 21, 21, 23],\n",
       "       [42, 42, 40,  7, 30,  9, 38, 15],\n",
       "       [36, 48, 27, 17, 45, 30, 43, 33],\n",
       "       [27, 45, 23, 48, 46,  1, 17, 15],\n",
       "       [26, 48,  8, 45, 34, 36, 22,  2],\n",
       "       [42, 11, 44, 25, 17, 10, 19,  2],\n",
       "       [45,  7, 29, 32, 12, 46, 17, 12],\n",
       "       [42, 44, 37, 35, 25, 21, 38, 19]])"
      ]
     },
     "execution_count": 288,
     "metadata": {},
     "output_type": "execute_result"
    }
   ],
   "source": [
    "a"
   ]
  },
  {
   "cell_type": "code",
   "execution_count": 289,
   "id": "f967774b-6c97-4eef-9cac-d22812a07be9",
   "metadata": {},
   "outputs": [
    {
     "data": {
      "text/plain": [
       "array([[49, 27, 15, 23, 33, 21, 21, 23],\n",
       "       [36, 48, 27, 17, 45, 30, 43, 33],\n",
       "       [26, 48,  8, 45, 34, 36, 22,  2],\n",
       "       [45,  7, 29, 32, 12, 46, 17, 12]])"
      ]
     },
     "execution_count": 289,
     "metadata": {},
     "output_type": "execute_result"
    }
   ],
   "source": [
    "a[0:8:2] # step countprint "
   ]
  },
  {
   "cell_type": "code",
   "execution_count": 290,
   "id": "2abbedf9-363f-4a24-823d-04dc22d08c77",
   "metadata": {},
   "outputs": [
    {
     "data": {
      "text/plain": [
       "array([[49, 27, 15, 23, 33, 21, 21, 23],\n",
       "       [42, 42, 40,  7, 30,  9, 38, 15],\n",
       "       [36, 48, 27, 17, 45, 30, 43, 33],\n",
       "       [27, 45, 23, 48, 46,  1, 17, 15],\n",
       "       [26, 48,  8, 45, 34, 36, 22,  2],\n",
       "       [42, 11, 44, 25, 17, 10, 19,  2],\n",
       "       [45,  7, 29, 32, 12, 46, 17, 12],\n",
       "       [42, 44, 37, 35, 25, 21, 38, 19]])"
      ]
     },
     "execution_count": 290,
     "metadata": {},
     "output_type": "execute_result"
    }
   ],
   "source": [
    "a"
   ]
  },
  {
   "cell_type": "code",
   "execution_count": 291,
   "id": "45b6d529-54ee-45fc-aa11-883d5f6163ee",
   "metadata": {},
   "outputs": [
    {
     "data": {
      "text/plain": [
       "21"
      ]
     },
     "execution_count": 291,
     "metadata": {},
     "output_type": "execute_result"
    }
   ],
   "source": [
    "a[0,6] # use comma to get specific value"
   ]
  },
  {
   "cell_type": "code",
   "execution_count": 292,
   "id": "fe7bfc62-9d8d-4dba-92b6-d1d168379b14",
   "metadata": {},
   "outputs": [
    {
     "data": {
      "text/plain": [
       "array([[49, 27, 15, 23, 33, 21, 21, 23],\n",
       "       [42, 42, 40,  7, 30,  9, 38, 15],\n",
       "       [36, 48, 27, 17, 45, 30, 43, 33],\n",
       "       [27, 45, 23, 48, 46,  1, 17, 15],\n",
       "       [26, 48,  8, 45, 34, 36, 22,  2],\n",
       "       [42, 11, 44, 25, 17, 10, 19,  2]])"
      ]
     },
     "execution_count": 292,
     "metadata": {},
     "output_type": "execute_result"
    }
   ],
   "source": [
    "a[0:6] # use colon to gate the array values"
   ]
  },
  {
   "cell_type": "code",
   "execution_count": 293,
   "id": "17a98b50-9aa3-4bfd-921d-276853e1aeb4",
   "metadata": {},
   "outputs": [
    {
     "data": {
      "text/plain": [
       "array([[49, 27, 15, 23, 33, 21, 21, 23],\n",
       "       [42, 42, 40,  7, 30,  9, 38, 15],\n",
       "       [36, 48, 27, 17, 45, 30, 43, 33],\n",
       "       [27, 45, 23, 48, 46,  1, 17, 15],\n",
       "       [26, 48,  8, 45, 34, 36, 22,  2],\n",
       "       [42, 11, 44, 25, 17, 10, 19,  2],\n",
       "       [45,  7, 29, 32, 12, 46, 17, 12],\n",
       "       [42, 44, 37, 35, 25, 21, 38, 19]])"
      ]
     },
     "execution_count": 293,
     "metadata": {},
     "output_type": "execute_result"
    }
   ],
   "source": [
    "a"
   ]
  },
  {
   "cell_type": "code",
   "execution_count": 294,
   "id": "973428a5-7bca-4604-ac20-541c468f63f6",
   "metadata": {},
   "outputs": [
    {
     "data": {
      "text/plain": [
       "array([[40,  7, 30],\n",
       "       [27, 17, 45],\n",
       "       [23, 48, 46],\n",
       "       [ 8, 45, 34]])"
      ]
     },
     "execution_count": 294,
     "metadata": {},
     "output_type": "execute_result"
    }
   ],
   "source": [
    "a[1:5,2:5] # 1:5 indicate row part , 2:5indicate column part"
   ]
  },
  {
   "cell_type": "code",
   "execution_count": 295,
   "id": "cae5eec3-9681-4f40-9077-b4c21e66ed0e",
   "metadata": {},
   "outputs": [
    {
     "data": {
      "text/plain": [
       "array([[27]])"
      ]
     },
     "execution_count": 295,
     "metadata": {},
     "output_type": "execute_result"
    }
   ],
   "source": [
    "a[2:3,2:3] # 2:3 indicate row part , 2:3 indicate column part\n"
   ]
  },
  {
   "cell_type": "code",
   "execution_count": 296,
   "id": "bb4d7bbb-78ea-4a7a-a47e-40d4a33f9283",
   "metadata": {},
   "outputs": [
    {
     "data": {
      "text/plain": [
       "1686873063760"
      ]
     },
     "execution_count": 296,
     "metadata": {},
     "output_type": "execute_result"
    }
   ],
   "source": [
    "id(a)"
   ]
  },
  {
   "cell_type": "markdown",
   "id": "fb8a7c77-9e5f-4cf3-8ca5-d56295129763",
   "metadata": {},
   "source": [
    "## Masking"
   ]
  },
  {
   "cell_type": "code",
   "execution_count": 297,
   "id": "6d8d4ea6-7239-4293-901c-b48d15f878bf",
   "metadata": {},
   "outputs": [
    {
     "data": {
      "text/plain": [
       "array([[ 0,  1,  2,  3,  4],\n",
       "       [ 5,  6,  7,  8,  9],\n",
       "       [10, 11, 12, 13, 14],\n",
       "       [15, 16, 17, 18, 19],\n",
       "       [20, 21, 22, 23, 24]])"
      ]
     },
     "execution_count": 297,
     "metadata": {},
     "output_type": "execute_result"
    }
   ],
   "source": [
    "b = np.arange(0,25).reshape(5,5)\n",
    "b"
   ]
  },
  {
   "cell_type": "code",
   "execution_count": 298,
   "id": "91c36faf-2598-4505-ab2b-06001589f52e",
   "metadata": {},
   "outputs": [
    {
     "data": {
      "text/plain": [
       "array([[False, False, False, False, False],\n",
       "       [False, False, False, False, False],\n",
       "       [False,  True,  True,  True,  True],\n",
       "       [ True,  True,  True,  True,  True],\n",
       "       [ True,  True,  True,  True,  True]])"
      ]
     },
     "execution_count": 298,
     "metadata": {},
     "output_type": "execute_result"
    }
   ],
   "source": [
    "b >10 # it give where the b value greater that 10return true otherwise false"
   ]
  },
  {
   "cell_type": "code",
   "execution_count": 299,
   "id": "026fc591-ebda-4d2c-aa30-e9fa62b02044",
   "metadata": {},
   "outputs": [
    {
     "data": {
      "text/plain": [
       "array([[49, 27, 15, 23, 33, 21, 21, 23],\n",
       "       [42, 42, 40,  7, 30,  9, 38, 15],\n",
       "       [36, 48, 27, 17, 45, 30, 43, 33],\n",
       "       [27, 45, 23, 48, 46,  1, 17, 15],\n",
       "       [26, 48,  8, 45, 34, 36, 22,  2],\n",
       "       [42, 11, 44, 25, 17, 10, 19,  2],\n",
       "       [45,  7, 29, 32, 12, 46, 17, 12],\n",
       "       [42, 44, 37, 35, 25, 21, 38, 19]])"
      ]
     },
     "execution_count": 299,
     "metadata": {},
     "output_type": "execute_result"
    }
   ],
   "source": [
    "a"
   ]
  },
  {
   "cell_type": "code",
   "execution_count": 300,
   "id": "2772b8ce-7c5c-4f5c-9515-8743fa6bcb4e",
   "metadata": {},
   "outputs": [
    {
     "data": {
      "text/plain": [
       "array([[False, False,  True, False, False, False, False, False],\n",
       "       [False, False, False,  True, False,  True, False,  True],\n",
       "       [False, False, False,  True, False, False, False, False],\n",
       "       [False, False, False, False, False,  True,  True,  True],\n",
       "       [False, False,  True, False, False, False, False,  True],\n",
       "       [False,  True, False, False,  True,  True,  True,  True],\n",
       "       [False,  True, False, False,  True, False,  True,  True],\n",
       "       [False, False, False, False, False, False, False,  True]])"
      ]
     },
     "execution_count": 300,
     "metadata": {},
     "output_type": "execute_result"
    }
   ],
   "source": [
    "a < 20 # it give where the a value less that 20 return true otherwise false"
   ]
  },
  {
   "cell_type": "code",
   "execution_count": 301,
   "id": "c5518246-6671-4bc3-aa60-feba82e1ccd9",
   "metadata": {},
   "outputs": [
    {
     "data": {
      "text/plain": [
       "array([[ 0,  1,  2,  3,  4],\n",
       "       [ 5,  6,  7,  8,  9],\n",
       "       [10, 11, 12, 13, 14],\n",
       "       [15, 16, 17, 18, 19],\n",
       "       [20, 21, 22, 23, 24]])"
      ]
     },
     "execution_count": 301,
     "metadata": {},
     "output_type": "execute_result"
    }
   ],
   "source": [
    "b"
   ]
  },
  {
   "cell_type": "code",
   "execution_count": 302,
   "id": "139ec53a-d574-4fd4-8c5a-5323ef5473c2",
   "metadata": {},
   "outputs": [
    {
     "data": {
      "text/plain": [
       "array([[False, False, False, False, False],\n",
       "       [False, False, False, False, False],\n",
       "       [False, False, False, False,  True],\n",
       "       [False, False, False, False, False],\n",
       "       [False, False, False, False, False]])"
      ]
     },
     "execution_count": 302,
     "metadata": {},
     "output_type": "execute_result"
    }
   ],
   "source": [
    "b ==14 # where the value of 14 is available it return true else false"
   ]
  },
  {
   "cell_type": "code",
   "execution_count": 303,
   "id": "6b89103d-f118-4afa-bc72-1a3a8d943730",
   "metadata": {},
   "outputs": [
    {
     "data": {
      "text/plain": [
       "array([[False, False, False, False, False],\n",
       "       [False, False, False, False, False],\n",
       "       [False, False, False, False, False],\n",
       "       [ True,  True,  True,  True,  True],\n",
       "       [ True,  True,  True,  True,  True]])"
      ]
     },
     "execution_count": 303,
     "metadata": {},
     "output_type": "execute_result"
    }
   ],
   "source": [
    "b >= 15 # value including 15 greater value return true else false\n"
   ]
  },
  {
   "cell_type": "code",
   "execution_count": 304,
   "id": "02b9e00e-be0d-453f-bbcd-4c7bccc8290a",
   "metadata": {},
   "outputs": [
    {
     "data": {
      "text/plain": [
       "array([[49, 27, 15, 23, 33, 21, 21, 23],\n",
       "       [42, 42, 40,  7, 30,  9, 38, 15],\n",
       "       [36, 48, 27, 17, 45, 30, 43, 33],\n",
       "       [27, 45, 23, 48, 46,  1, 17, 15],\n",
       "       [26, 48,  8, 45, 34, 36, 22,  2],\n",
       "       [42, 11, 44, 25, 17, 10, 19,  2],\n",
       "       [45,  7, 29, 32, 12, 46, 17, 12],\n",
       "       [42, 44, 37, 35, 25, 21, 38, 19]])"
      ]
     },
     "execution_count": 304,
     "metadata": {},
     "output_type": "execute_result"
    }
   ],
   "source": [
    "a"
   ]
  },
  {
   "cell_type": "code",
   "execution_count": 305,
   "id": "90eac1e8-953b-4865-a1bd-6778a1009e6d",
   "metadata": {},
   "outputs": [
    {
     "data": {
      "text/plain": [
       "array([[ 0,  1,  2,  3,  4],\n",
       "       [ 5,  6,  7,  8,  9],\n",
       "       [10, 11, 12, 13, 14],\n",
       "       [15, 16, 17, 18, 19],\n",
       "       [20, 21, 22, 23, 24]])"
      ]
     },
     "execution_count": 305,
     "metadata": {},
     "output_type": "execute_result"
    }
   ],
   "source": [
    "b"
   ]
  },
  {
   "cell_type": "code",
   "execution_count": 306,
   "id": "c1127036-4ee8-4707-8a13-92549cf37117",
   "metadata": {},
   "outputs": [
    {
     "data": {
      "text/plain": [
       "array([8])"
      ]
     },
     "execution_count": 306,
     "metadata": {},
     "output_type": "execute_result"
    }
   ],
   "source": [
    "b[b == 8] # it print the value is equal to 8"
   ]
  },
  {
   "cell_type": "code",
   "execution_count": 307,
   "id": "3c01b270-e0b2-4f98-b0f5-dcc0430b931e",
   "metadata": {},
   "outputs": [
    {
     "data": {
      "text/plain": [
       "array([ 9, 10, 11, 12, 13, 14, 15, 16, 17, 18, 19, 20, 21, 22, 23, 24])"
      ]
     },
     "execution_count": 307,
     "metadata": {},
     "output_type": "execute_result"
    }
   ],
   "source": [
    "b[ b > 8] # it print the value from greater to 8"
   ]
  },
  {
   "cell_type": "code",
   "execution_count": 308,
   "id": "43a9a0ca-1959-4e83-abad-16799609b73e",
   "metadata": {},
   "outputs": [
    {
     "data": {
      "text/plain": [
       "array([ 8,  9, 10, 11, 12, 13, 14, 15, 16, 17, 18, 19, 20, 21, 22, 23, 24])"
      ]
     },
     "execution_count": 308,
     "metadata": {},
     "output_type": "execute_result"
    }
   ],
   "source": [
    "b[b >= 8] # including 8 and avobe value are print"
   ]
  },
  {
   "cell_type": "code",
   "execution_count": 309,
   "id": "f4fa75cd-8071-4cd9-a918-55ecc83747ba",
   "metadata": {},
   "outputs": [
    {
     "data": {
      "text/plain": [
       "array([], dtype=int32)"
      ]
     },
     "execution_count": 309,
     "metadata": {},
     "output_type": "execute_result"
    }
   ],
   "source": [
    "b[b == 90] # if valuenot in the array it return empty value"
   ]
  },
  {
   "cell_type": "markdown",
   "id": "ae2418b1-92d8-4219-bfdb-81d809b99299",
   "metadata": {},
   "source": [
    "## "
   ]
  },
  {
   "cell_type": "code",
   "execution_count": null,
   "id": "18216ed9-106e-4282-b419-68e37512f675",
   "metadata": {},
   "outputs": [],
   "source": []
  },
  {
   "cell_type": "markdown",
   "id": "3c2f0faa-2dd9-4ab1-ad05-0b7f65e1a1cf",
   "metadata": {},
   "source": [
    "## Basic Numpy complete"
   ]
  },
  {
   "cell_type": "code",
   "execution_count": null,
   "id": "eb8467b8-f7cf-4c45-844e-f4fe6a385713",
   "metadata": {},
   "outputs": [],
   "source": []
  }
 ],
 "metadata": {
  "kernelspec": {
   "display_name": "Python 3 (ipykernel)",
   "language": "python",
   "name": "python3"
  },
  "language_info": {
   "codemirror_mode": {
    "name": "ipython",
    "version": 3
   },
   "file_extension": ".py",
   "mimetype": "text/x-python",
   "name": "python",
   "nbconvert_exporter": "python",
   "pygments_lexer": "ipython3",
   "version": "3.12.4"
  }
 },
 "nbformat": 4,
 "nbformat_minor": 5
}
