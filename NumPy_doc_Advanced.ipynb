{
 "cells": [
  {
   "cell_type": "markdown",
   "id": "eb8fa6d1-7d58-451a-ae3d-34ac6b25ce53",
   "metadata": {},
   "source": [
    "# NumPy Library¶\n",
    "  - NumPy is a python Library which help to do operation on multidimentional array\n",
    "  - Using NumPy we do fast operations on arrays, including mathematical, logical, shape manipulation, sorting, selecting, I/O, discret Fourier transforms, basic line r algebra, basic statistical operations, random simulati etc.\n",
    "  - NumPy is a ndarry(n-dimentional array) Object\n",
    "  - The data must be in homogenious on"
   ]
  },
  {
   "cell_type": "code",
   "execution_count": 1,
   "id": "5b414a73-8291-4274-ab74-ff4082a3aa17",
   "metadata": {},
   "outputs": [],
   "source": [
    "import numpy as np # Syntax to import the numpy library np stands for numpy"
   ]
  },
  {
   "cell_type": "code",
   "execution_count": 2,
   "id": "dbc5f499-be03-4a1f-be21-15878aaf1157",
   "metadata": {},
   "outputs": [
    {
     "data": {
      "text/plain": [
       "'1.26.4'"
      ]
     },
     "execution_count": 2,
     "metadata": {},
     "output_type": "execute_result"
    }
   ],
   "source": [
    "np.__version__ #check the version of NumPy"
   ]
  },
  {
   "cell_type": "markdown",
   "id": "dd7f3126-9e77-4dd2-b348-388fefa25073",
   "metadata": {},
   "source": [
    "# Array are Three Type\n",
    "  - 1D array -->[1,2,3,4] (value store in a one direction)\n",
    "  - 2D array -->( value are store in two rows and two columns format)\n",
    "  - nD array / multidimentional --> Data are store in multiple rows and columns formatmat"
   ]
  },
  {
   "cell_type": "code",
   "execution_count": 3,
   "id": "9975d243-7669-45d5-a107-ebd648558470",
   "metadata": {},
   "outputs": [
    {
     "data": {
      "text/plain": [
       "array([1, 2, 3, 4, 5])"
      ]
     },
     "execution_count": 3,
     "metadata": {},
     "output_type": "execute_result"
    }
   ],
   "source": [
    "np.array([1,2,3,4,5]) # 1D array declaration"
   ]
  },
  {
   "cell_type": "code",
   "execution_count": 4,
   "id": "e90117a3-2bcf-4bac-bc7b-ea20b80a9a63",
   "metadata": {},
   "outputs": [
    {
     "name": "stdout",
     "output_type": "stream",
     "text": [
      "[ 3  5  6  7  8 78]\n"
     ]
    }
   ],
   "source": [
    "arr = np.array([3,5,6,7,8,78])\n",
    "print(arr)\n"
   ]
  },
  {
   "cell_type": "code",
   "execution_count": 5,
   "id": "17431e4a-5c23-4906-9a2e-90d57a4ef0df",
   "metadata": {},
   "outputs": [
    {
     "data": {
      "text/plain": [
       "array([[2, 4, 6, 8],\n",
       "       [5, 7, 8, 9]])"
      ]
     },
     "execution_count": 5,
     "metadata": {},
     "output_type": "execute_result"
    }
   ],
   "source": [
    "arra1 = np.array([[2,4,6,8],[5,7,8,9]]) # 2D array declaration\n",
    "arra1"
   ]
  },
  {
   "cell_type": "code",
   "execution_count": 6,
   "id": "979fab4c-35ca-4524-a3a8-f1fcbd43a4aa",
   "metadata": {},
   "outputs": [
    {
     "name": "stdout",
     "output_type": "stream",
     "text": [
      "[[ 23  56  67  87]\n",
      " [ 90  78   7   8]\n",
      " [ 65   4   3   8]\n",
      " [  8   7   8  56]\n",
      " [ 44  21  43  65]\n",
      " [  9 789  77  32]]\n"
     ]
    }
   ],
   "source": [
    "arra2 = np.array([[23,56,67,87],[90,78,7,8],[65,4,3,8],[8,7,8,56],[44,21,43,65],[9,789,77,32]]) # N-D array declaration\n",
    "print(arra2)"
   ]
  },
  {
   "cell_type": "code",
   "execution_count": 7,
   "id": "e62bab6b-5aa1-492c-9e1a-b935c334f600",
   "metadata": {},
   "outputs": [
    {
     "name": "stdout",
     "output_type": "stream",
     "text": [
      "[[ 23.  56.  67.  87.]\n",
      " [ 90.  78.   7.   8.]\n",
      " [ 65.   4.   3.   8.]\n",
      " [  8.   7.   8.  56.]\n",
      " [ 44.  21.  43.  65.]\n",
      " [  9. 789.  77.  32.]]\n"
     ]
    }
   ],
   "source": [
    "arra3 = np.array([[23,56,67,87],[90,78,7,8],[65,4,3,8],[8,7,8,56],[44,21,43,65],[9,789,77,32]],dtype=float) # N-D array declaration of float type\n",
    "print(arra3)"
   ]
  },
  {
   "cell_type": "code",
   "execution_count": 8,
   "id": "cab5d4ca-6a5e-494a-bfed-586011478ab9",
   "metadata": {},
   "outputs": [
    {
     "name": "stdout",
     "output_type": "stream",
     "text": [
      "[ True False  True  True]\n"
     ]
    }
   ],
   "source": [
    "array = np.array([56,0,34,78],dtype=bool) # array element with boolean data type\n",
    "print(array)"
   ]
  },
  {
   "cell_type": "code",
   "execution_count": 9,
   "id": "31410eec-a16e-46c4-bb40-1d8a0be0338b",
   "metadata": {},
   "outputs": [
    {
     "name": "stdout",
     "output_type": "stream",
     "text": [
      "[[78.+0.j  8.+0.j  3.+0.j  5.+0.j  6.+0.j]\n",
      " [ 5.+0.j  1.+0.j 13.+0.j  6.+0.j  8.+0.j]]\n"
     ]
    }
   ],
   "source": [
    "array = np.array([[78,8,3,5,6],[5,1,6+7,6,8]], dtype=complex) # array element with complex data type\n",
    "print(array)"
   ]
  },
  {
   "cell_type": "markdown",
   "id": "f61a44d7-bacb-4390-8fbd-2882aa886674",
   "metadata": {},
   "source": [
    "### Numpy Vs Python\n",
    "  - NumPy array are fixed size but Python list are growable\n",
    "  - if want to creat nd array then creat new one delete orginal one that exist\n",
    "  - The element of NumPy array are same type but in Python its not\n",
    "  - NumPy array element allow to do advance ,athematical operation on array of large number of data its very easy compair to Python operation\n",
    "    "
   ]
  },
  {
   "cell_type": "markdown",
   "id": "7998e1c8-a807-4432-ac81-e614bba00eb2",
   "metadata": {},
   "source": [
    "## Some built-in Function in Numpy library\n",
    "   - arange(), reshape(), zeros(),ones(),linspace()"
   ]
  },
  {
   "cell_type": "code",
   "execution_count": 10,
   "id": "d8af8413-9645-4c20-a1ce-bf16b5ff6ec5",
   "metadata": {},
   "outputs": [
    {
     "name": "stdout",
     "output_type": "stream",
     "text": [
      "[ 0  1  2  3  4  5  6  7  8  9 10 11]\n"
     ]
    }
   ],
   "source": [
    "a = np.arange(12) # when we pass one arguments to arange function it consider 0 as strating index and go for (n-1) till value print sequence\n",
    "print(a)"
   ]
  },
  {
   "cell_type": "code",
   "execution_count": 11,
   "id": "b55e8cff-e335-45ee-b588-92db5953fb6c",
   "metadata": {},
   "outputs": [
    {
     "name": "stdout",
     "output_type": "stream",
     "text": [
      "[2 3 4 5 6 7 8]\n"
     ]
    }
   ],
   "source": [
    "b = np.arange(2,9) # when we pass two argument it take first argu. as starting index and second value as ending index and print the sequence\n",
    "print(b)"
   ]
  },
  {
   "cell_type": "code",
   "execution_count": 12,
   "id": "cf2298cc-93d4-4e70-98d8-a5426c68986c",
   "metadata": {},
   "outputs": [
    {
     "name": "stdout",
     "output_type": "stream",
     "text": [
      "[ 3  5  7  9 11 13 15 17 19]\n"
     ]
    }
   ],
   "source": [
    "c = np.arange(3,20,2) # when we pass 3 argumnet the first argu. as starting value, 2nd argu. as ending value and 3rd argu. as step value\n",
    "print(c)"
   ]
  },
  {
   "cell_type": "code",
   "execution_count": 13,
   "id": "8a1dae9a-56dc-4d5a-ae2c-3e08120ce891",
   "metadata": {},
   "outputs": [
    {
     "ename": "TypeError",
     "evalue": "Cannot interpret '3' as a data type",
     "output_type": "error",
     "traceback": [
      "\u001b[1;31m---------------------------------------------------------------------------\u001b[0m",
      "\u001b[1;31mTypeError\u001b[0m                                 Traceback (most recent call last)",
      "Cell \u001b[1;32mIn[13], line 1\u001b[0m\n\u001b[1;32m----> 1\u001b[0m d \u001b[38;5;241m=\u001b[39m \u001b[43mnp\u001b[49m\u001b[38;5;241;43m.\u001b[39;49m\u001b[43marange\u001b[49m\u001b[43m(\u001b[49m\u001b[38;5;241;43m1\u001b[39;49m\u001b[43m,\u001b[49m\u001b[38;5;241;43m8\u001b[39;49m\u001b[43m,\u001b[49m\u001b[38;5;241;43m2\u001b[39;49m\u001b[43m,\u001b[49m\u001b[38;5;241;43m3\u001b[39;49m\u001b[43m)\u001b[49m \u001b[38;5;66;03m# when we pass three argu. then its got error bcz arange function at most take three argu. not more\u001b[39;00m\n\u001b[0;32m      2\u001b[0m \u001b[38;5;28mprint\u001b[39m(d)\n",
      "\u001b[1;31mTypeError\u001b[0m: Cannot interpret '3' as a data type"
     ]
    }
   ],
   "source": [
    "d = np.arange(1,8,2,3) # when we pass three argu. then its got error bcz arange function at most take three argu. not more\n",
    "print(d)"
   ]
  },
  {
   "cell_type": "code",
   "execution_count": null,
   "id": "39646f55-b6b6-4b19-bbe2-d7e084a8ae74",
   "metadata": {},
   "outputs": [],
   "source": [
    "a = np.arange(1,13).reshape(4,3)# it print the element 1 to 12, with 4 rows and 3 columns, N.B-arange number(12) == reshape multiplication value(4*3=12)\n",
    "print(a)"
   ]
  },
  {
   "cell_type": "code",
   "execution_count": 14,
   "id": "4fbac34a-8dfd-4889-9dd6-cc533ee04d80",
   "metadata": {},
   "outputs": [
    {
     "data": {
      "text/plain": [
       "array([[ 1,  2,  3,  4,  5,  6],\n",
       "       [ 7,  8,  9, 10, 11, 12]])"
      ]
     },
     "execution_count": 14,
     "metadata": {},
     "output_type": "execute_result"
    }
   ],
   "source": [
    "np.arange(1,13).reshape(2,6) # arenge 12 number = reshape (2*6=12)"
   ]
  },
  {
   "cell_type": "code",
   "execution_count": 15,
   "id": "1da97097-a705-4edd-8a18-073347873f33",
   "metadata": {},
   "outputs": [
    {
     "data": {
      "text/plain": [
       "array([0., 0., 0., 0., 0.])"
      ]
     },
     "execution_count": 15,
     "metadata": {},
     "output_type": "execute_result"
    }
   ],
   "source": [
    "np.zeros(5) # print only zero(0) = number of argu. by defult its float"
   ]
  },
  {
   "cell_type": "code",
   "execution_count": 16,
   "id": "662acf4d-5809-428c-b65e-abd4e6989a19",
   "metadata": {},
   "outputs": [
    {
     "data": {
      "text/plain": [
       "array([0, 0, 0, 0, 0, 0, 0])"
      ]
     },
     "execution_count": 16,
     "metadata": {},
     "output_type": "execute_result"
    }
   ],
   "source": [
    "np.zeros(7,dtype=int) # turn the zero data type float to integer"
   ]
  },
  {
   "cell_type": "code",
   "execution_count": 17,
   "id": "e469bf10-318c-4ba8-aa10-2cb7deaedfca",
   "metadata": {},
   "outputs": [
    {
     "data": {
      "text/plain": [
       "array([[0., 0., 0., 0.],\n",
       "       [0., 0., 0., 0.],\n",
       "       [0., 0., 0., 0.]])"
      ]
     },
     "execution_count": 17,
     "metadata": {},
     "output_type": "execute_result"
    }
   ],
   "source": [
    "np.zeros((3,4)) # print zeros(0) in nd array with float zeros"
   ]
  },
  {
   "cell_type": "code",
   "execution_count": 18,
   "id": "8dbd43a9-791e-4fe8-a029-a6feba991fbc",
   "metadata": {},
   "outputs": [
    {
     "data": {
      "text/plain": [
       "array([[0, 0, 0, 0, 0],\n",
       "       [0, 0, 0, 0, 0]])"
      ]
     },
     "execution_count": 18,
     "metadata": {},
     "output_type": "execute_result"
    }
   ],
   "source": [
    "np.zeros((2,5),dtype=int) # turn these zero into integer data type in nd array"
   ]
  },
  {
   "cell_type": "code",
   "execution_count": 19,
   "id": "1e7db5ec-4400-456f-87f7-0602ccc4da9b",
   "metadata": {},
   "outputs": [
    {
     "data": {
      "text/plain": [
       "array([[0, 0],\n",
       "       [0, 0],\n",
       "       [0, 0],\n",
       "       [0, 0],\n",
       "       [0, 0]])"
      ]
     },
     "execution_count": 19,
     "metadata": {},
     "output_type": "execute_result"
    }
   ],
   "source": [
    "np.zeros((5,2),dtype=int)"
   ]
  },
  {
   "cell_type": "code",
   "execution_count": 20,
   "id": "db81d22f-56f1-4a50-9f9c-eb3638872ad5",
   "metadata": {},
   "outputs": [
    {
     "name": "stdout",
     "output_type": "stream",
     "text": [
      "[1. 1. 1. 1. 1.]\n"
     ]
    }
   ],
   "source": [
    "b = np.ones(5) # ones() function give the array with values one, by defult its float datatype\n",
    "print(b)"
   ]
  },
  {
   "cell_type": "code",
   "execution_count": 21,
   "id": "9d3b46d6-2e52-4498-9c66-4beedef60267",
   "metadata": {},
   "outputs": [
    {
     "data": {
      "text/plain": [
       "array([1, 1, 1, 1, 1, 1])"
      ]
     },
     "execution_count": 21,
     "metadata": {},
     "output_type": "execute_result"
    }
   ],
   "source": [
    "np.ones(6,dtype=int) # to change the float data to integer data we have to change data type to int "
   ]
  },
  {
   "cell_type": "code",
   "execution_count": 22,
   "id": "3fc59d7b-aa57-4a57-8dca-f008c84eef13",
   "metadata": {},
   "outputs": [
    {
     "data": {
      "text/plain": [
       "array([[1, 1, 1, 1],\n",
       "       [1, 1, 1, 1]])"
      ]
     },
     "execution_count": 22,
     "metadata": {},
     "output_type": "execute_result"
    }
   ],
   "source": [
    "np.ones((2,4),dtype=int) # the first argu. is taken as rows number and 2nd argu. taken as column number where the valus of once are filled with"
   ]
  },
  {
   "cell_type": "code",
   "execution_count": 23,
   "id": "f60e4b3f-cc5d-4a09-8f5f-899d74a4d4ab",
   "metadata": {},
   "outputs": [
    {
     "name": "stdout",
     "output_type": "stream",
     "text": [
      "[[1 1 1 1 1 1]\n",
      " [1 1 1 1 1 1]\n",
      " [1 1 1 1 1 1]]\n"
     ]
    }
   ],
   "source": [
    "a = np.ones((3,6),dtype=int)\n",
    "print(a)"
   ]
  },
  {
   "cell_type": "code",
   "execution_count": 24,
   "id": "dfd664e4-adf4-4b26-9294-d959dfad6aea",
   "metadata": {},
   "outputs": [
    {
     "data": {
      "text/plain": [
       "array([ 2.        ,  3.47368421,  4.94736842,  6.42105263,  7.89473684,\n",
       "        9.36842105, 10.84210526, 12.31578947, 13.78947368, 15.26315789,\n",
       "       16.73684211, 18.21052632, 19.68421053, 21.15789474, 22.63157895,\n",
       "       24.10526316, 25.57894737, 27.05263158, 28.52631579, 30.        ])"
      ]
     },
     "execution_count": 24,
     "metadata": {},
     "output_type": "execute_result"
    }
   ],
   "source": [
    "np.linspace(2,30,20) # linspace function use to number where start 1st argu. and end 2nd argu., 3rd argu. is the to no. of o/p"
   ]
  },
  {
   "cell_type": "code",
   "execution_count": 25,
   "id": "54f03833-89fd-42da-a554-5c95572c8273",
   "metadata": {},
   "outputs": [
    {
     "data": {
      "text/plain": [
       "array([-2. ,  0.8,  3.6,  6.4,  9.2, 12. ])"
      ]
     },
     "execution_count": 25,
     "metadata": {},
     "output_type": "execute_result"
    }
   ],
   "source": [
    "np.linspace(-2,12,6) # in this function number to be generate is 6, starting value is -2, end value is 12, expecting the 12 there is 5 value\n",
    "                    # rest value to print is 5 so (12-(-2)=14), the difference between teo no. should be 14/5(as last value already given) = 2.8\n",
    "                    # it print the value from -2 to 20 with 2.8 interval"
   ]
  },
  {
   "cell_type": "markdown",
   "id": "285fad84-0be8-4012-a053-70335a687d02",
   "metadata": {},
   "source": [
    "# Identity matrix\n",
    "   - the diagonal values are one only others are zeros"
   ]
  },
  {
   "cell_type": "code",
   "execution_count": 26,
   "id": "85294190-1ab6-4c6d-b760-5ae81b6348b0",
   "metadata": {},
   "outputs": [
    {
     "data": {
      "text/plain": [
       "array([[1., 0., 0., 0., 0.],\n",
       "       [0., 1., 0., 0., 0.],\n",
       "       [0., 0., 1., 0., 0.],\n",
       "       [0., 0., 0., 1., 0.],\n",
       "       [0., 0., 0., 0., 1.]])"
      ]
     },
     "execution_count": 26,
     "metadata": {},
     "output_type": "execute_result"
    }
   ],
   "source": [
    "np.identity(5)"
   ]
  },
  {
   "cell_type": "code",
   "execution_count": 27,
   "id": "556d0c69-ed80-43a5-9bc4-bdf656f5a952",
   "metadata": {},
   "outputs": [
    {
     "data": {
      "text/plain": [
       "array([[1, 0, 0, 0],\n",
       "       [0, 1, 0, 0],\n",
       "       [0, 0, 1, 0],\n",
       "       [0, 0, 0, 1]])"
      ]
     },
     "execution_count": 27,
     "metadata": {},
     "output_type": "execute_result"
    }
   ],
   "source": [
    "np.identity(4,dtype=int) # it generate 5 X 5 matrix with integer type"
   ]
  },
  {
   "cell_type": "markdown",
   "id": "c837dad3-bade-4c82-8c0d-0be63fcded8f",
   "metadata": {},
   "source": [
    "## ndim atribute ---> to find the array dimentional value wheather it 1d, 2D or nd"
   ]
  },
  {
   "cell_type": "code",
   "execution_count": 28,
   "id": "5d7602cc-7747-4726-bc0c-6b355cc921e6",
   "metadata": {},
   "outputs": [
    {
     "data": {
      "text/plain": [
       "array([[1, 1, 1, 1, 1, 1],\n",
       "       [1, 1, 1, 1, 1, 1],\n",
       "       [1, 1, 1, 1, 1, 1]])"
      ]
     },
     "execution_count": 28,
     "metadata": {},
     "output_type": "execute_result"
    }
   ],
   "source": [
    "a"
   ]
  },
  {
   "cell_type": "code",
   "execution_count": 29,
   "id": "22885024-f932-448b-9f57-ad7f59973d39",
   "metadata": {},
   "outputs": [
    {
     "data": {
      "text/plain": [
       "2"
      ]
     },
     "execution_count": 29,
     "metadata": {},
     "output_type": "execute_result"
    }
   ],
   "source": [
    "a.ndim # as the array in 2 dimentional"
   ]
  },
  {
   "cell_type": "code",
   "execution_count": 30,
   "id": "a92f3510-383b-4df6-a151-cb9382ccf653",
   "metadata": {},
   "outputs": [
    {
     "data": {
      "text/plain": [
       "array([ 3,  5,  6,  7,  8, 78])"
      ]
     },
     "execution_count": 30,
     "metadata": {},
     "output_type": "execute_result"
    }
   ],
   "source": [
    "arr"
   ]
  },
  {
   "cell_type": "code",
   "execution_count": 31,
   "id": "409a723d-1ecc-445c-a246-11ae20b1bc8b",
   "metadata": {},
   "outputs": [
    {
     "data": {
      "text/plain": [
       "1"
      ]
     },
     "execution_count": 31,
     "metadata": {},
     "output_type": "execute_result"
    }
   ],
   "source": [
    "arr.ndim # the aray is one dimention"
   ]
  },
  {
   "cell_type": "code",
   "execution_count": 32,
   "id": "78ed977e-c250-46ba-88d7-1537c9460c2d",
   "metadata": {},
   "outputs": [
    {
     "data": {
      "text/plain": [
       "array([[[0, 1],\n",
       "        [2, 3]],\n",
       "\n",
       "       [[4, 5],\n",
       "        [6, 7]]])"
      ]
     },
     "execution_count": 32,
     "metadata": {},
     "output_type": "execute_result"
    }
   ],
   "source": [
    "arra = np.arange(8,dtype=int).reshape(2,2,2) # 3 D array\n",
    "arra"
   ]
  },
  {
   "cell_type": "code",
   "execution_count": 33,
   "id": "6f76845b-9677-4a3b-8712-03ec18fd05a7",
   "metadata": {},
   "outputs": [
    {
     "data": {
      "text/plain": [
       "3"
      ]
     },
     "execution_count": 33,
     "metadata": {},
     "output_type": "execute_result"
    }
   ],
   "source": [
    "arra.ndim # it gives 3D array"
   ]
  },
  {
   "cell_type": "markdown",
   "id": "9b99c86d-8fe1-4f3b-a253-ddcda3dbcc8a",
   "metadata": {},
   "source": [
    "## shape() \n",
    "    - this attribute gives what is the number of rows and columns by taking argu. as array name"
   ]
  },
  {
   "cell_type": "code",
   "execution_count": 34,
   "id": "b0069ac9-31c4-4cac-a00e-f1fda5e9ad24",
   "metadata": {},
   "outputs": [
    {
     "data": {
      "text/plain": [
       "(3, 6)"
      ]
     },
     "execution_count": 34,
     "metadata": {},
     "output_type": "execute_result"
    }
   ],
   "source": [
    "np.shape(a) # a array is 3 rows and 6 columns"
   ]
  },
  {
   "cell_type": "code",
   "execution_count": 35,
   "id": "4330fee0-5705-46cf-9805-ba7639272031",
   "metadata": {},
   "outputs": [
    {
     "data": {
      "text/plain": [
       "(6,)"
      ]
     },
     "execution_count": 35,
     "metadata": {},
     "output_type": "execute_result"
    }
   ],
   "source": [
    "np.shape(arr) # arr array have 6 column"
   ]
  },
  {
   "cell_type": "code",
   "execution_count": 36,
   "id": "c3babb40-b9b6-482a-abad-21a932a14a2a",
   "metadata": {},
   "outputs": [
    {
     "data": {
      "text/plain": [
       "(2, 2, 2)"
      ]
     },
     "execution_count": 36,
     "metadata": {},
     "output_type": "execute_result"
    }
   ],
   "source": [
    "np.shape(arra) # arra array have 2 rows, 2 column, and 2 dimentions"
   ]
  },
  {
   "cell_type": "markdown",
   "id": "96bcd578-c179-4771-b289-f5b30abb94cd",
   "metadata": {},
   "source": [
    "### Size() \n",
    "   - This attribute give the the size of array or total number of items array has"
   ]
  },
  {
   "cell_type": "code",
   "execution_count": 37,
   "id": "315d35f6-b188-446f-909f-720a8ed69f0b",
   "metadata": {},
   "outputs": [
    {
     "data": {
      "text/plain": [
       "array([[1, 1, 1, 1, 1, 1],\n",
       "       [1, 1, 1, 1, 1, 1],\n",
       "       [1, 1, 1, 1, 1, 1]])"
      ]
     },
     "execution_count": 37,
     "metadata": {},
     "output_type": "execute_result"
    }
   ],
   "source": [
    "a"
   ]
  },
  {
   "cell_type": "code",
   "execution_count": 38,
   "id": "993116b1-4961-4ac5-8d2c-10f37c277cea",
   "metadata": {},
   "outputs": [
    {
     "data": {
      "text/plain": [
       "18"
      ]
     },
     "execution_count": 38,
     "metadata": {},
     "output_type": "execute_result"
    }
   ],
   "source": [
    "np.size(a) # the array have 18 elements on it"
   ]
  },
  {
   "cell_type": "code",
   "execution_count": 39,
   "id": "ba2cebfd-ec07-4b9e-8e48-98a4cca451ef",
   "metadata": {},
   "outputs": [
    {
     "data": {
      "text/plain": [
       "array([ 3,  5,  6,  7,  8, 78])"
      ]
     },
     "execution_count": 39,
     "metadata": {},
     "output_type": "execute_result"
    }
   ],
   "source": [
    "arr"
   ]
  },
  {
   "cell_type": "code",
   "execution_count": 40,
   "id": "2ffb03e5-f6d8-49cf-a80c-166a2211a5f5",
   "metadata": {},
   "outputs": [
    {
     "data": {
      "text/plain": [
       "6"
      ]
     },
     "execution_count": 40,
     "metadata": {},
     "output_type": "execute_result"
    }
   ],
   "source": [
    "np.size(arr)"
   ]
  },
  {
   "cell_type": "code",
   "execution_count": 41,
   "id": "a96b3acd-e787-4523-813f-c2326f56fa4a",
   "metadata": {},
   "outputs": [
    {
     "data": {
      "text/plain": [
       "array([[[0, 1],\n",
       "        [2, 3]],\n",
       "\n",
       "       [[4, 5],\n",
       "        [6, 7]]])"
      ]
     },
     "execution_count": 41,
     "metadata": {},
     "output_type": "execute_result"
    }
   ],
   "source": [
    "arra"
   ]
  },
  {
   "cell_type": "code",
   "execution_count": 42,
   "id": "dd6fc865-c5c7-4b50-b69d-b542abef97c7",
   "metadata": {},
   "outputs": [
    {
     "data": {
      "text/plain": [
       "8"
      ]
     },
     "execution_count": 42,
     "metadata": {},
     "output_type": "execute_result"
    }
   ],
   "source": [
    "np.size(arra)"
   ]
  },
  {
   "cell_type": "code",
   "execution_count": 43,
   "id": "799a69b6-4685-45b1-b1e1-ee5336c3e1f0",
   "metadata": {},
   "outputs": [
    {
     "data": {
      "text/plain": [
       "8"
      ]
     },
     "execution_count": 43,
     "metadata": {},
     "output_type": "execute_result"
    }
   ],
   "source": [
    "arra.size # we can write in this format to print the size of the array"
   ]
  },
  {
   "cell_type": "markdown",
   "id": "327d3ffa-b437-475d-89db-672a7941af49",
   "metadata": {},
   "source": [
    "### itemsize attriute"
   ]
  },
  {
   "cell_type": "code",
   "execution_count": 44,
   "id": "ddb611bc-ebff-4608-aefb-a35dd2a543b0",
   "metadata": {},
   "outputs": [
    {
     "data": {
      "text/plain": [
       "array([[1, 1, 1, 1, 1, 1],\n",
       "       [1, 1, 1, 1, 1, 1],\n",
       "       [1, 1, 1, 1, 1, 1]])"
      ]
     },
     "execution_count": 44,
     "metadata": {},
     "output_type": "execute_result"
    }
   ],
   "source": [
    "a"
   ]
  },
  {
   "cell_type": "code",
   "execution_count": 45,
   "id": "89a71830-ba53-47f5-b659-ea043cd80cc3",
   "metadata": {},
   "outputs": [
    {
     "data": {
      "text/plain": [
       "4"
      ]
     },
     "execution_count": 45,
     "metadata": {},
     "output_type": "execute_result"
    }
   ],
   "source": [
    "a.itemsize # as the values are integer32 the it one item size to 4byte data to store"
   ]
  },
  {
   "cell_type": "code",
   "execution_count": 46,
   "id": "cfc05d46-6167-4ac1-9c1a-46f97a225770",
   "metadata": {},
   "outputs": [
    {
     "data": {
      "text/plain": [
       "array([1., 1., 1., 1., 1.])"
      ]
     },
     "execution_count": 46,
     "metadata": {},
     "output_type": "execute_result"
    }
   ],
   "source": [
    " b"
   ]
  },
  {
   "cell_type": "code",
   "execution_count": 47,
   "id": "1194b147-6ea8-4561-bea1-b83cb3ac40cd",
   "metadata": {},
   "outputs": [
    {
     "data": {
      "text/plain": [
       "8"
      ]
     },
     "execution_count": 47,
     "metadata": {},
     "output_type": "execute_result"
    }
   ],
   "source": [
    "b.itemsize # as the values are float64 the it one item size to 8 byte data to store"
   ]
  },
  {
   "cell_type": "markdown",
   "id": "e6fd01cf-a540-4af1-9bf1-1b90a8511b15",
   "metadata": {},
   "source": [
    "## dtype \n",
    " - it gives the data type ofthe array\n",
    " - syntax- array_name.dtype"
   ]
  },
  {
   "cell_type": "code",
   "execution_count": 48,
   "id": "ae07e0b4-e2c7-4328-9550-be5fac2a53ba",
   "metadata": {},
   "outputs": [
    {
     "data": {
      "text/plain": [
       "dtype('int32')"
      ]
     },
     "execution_count": 48,
     "metadata": {},
     "output_type": "execute_result"
    }
   ],
   "source": [
    "a.dtype"
   ]
  },
  {
   "cell_type": "code",
   "execution_count": 49,
   "id": "754c5f75-a54c-45db-b4fc-6698a52e428c",
   "metadata": {},
   "outputs": [
    {
     "data": {
      "text/plain": [
       "dtype('float64')"
      ]
     },
     "execution_count": 49,
     "metadata": {},
     "output_type": "execute_result"
    }
   ],
   "source": [
    "b.dtype"
   ]
  },
  {
   "cell_type": "code",
   "execution_count": 50,
   "id": "5847e5c3-ff4d-419a-aa1c-73aa0eae179d",
   "metadata": {},
   "outputs": [
    {
     "data": {
      "text/plain": [
       "dtype('int32')"
      ]
     },
     "execution_count": 50,
     "metadata": {},
     "output_type": "execute_result"
    }
   ],
   "source": [
    "arra.dtype"
   ]
  },
  {
   "cell_type": "code",
   "execution_count": 51,
   "id": "4c08b906-28c3-433d-85c0-e4e68df6b2ec",
   "metadata": {},
   "outputs": [
    {
     "data": {
      "text/plain": [
       "dtype('int32')"
      ]
     },
     "execution_count": 51,
     "metadata": {},
     "output_type": "execute_result"
    }
   ],
   "source": [
    "arr.dtype"
   ]
  },
  {
   "cell_type": "markdown",
   "id": "c190a440-cc10-4bff-a702-c39c2cce5f6b",
   "metadata": {},
   "source": [
    "## Change Data type\n",
    "  ### astype(int,float)\n",
    "        - It help to chage the data type from exitng data type"
   ]
  },
  {
   "cell_type": "code",
   "execution_count": 52,
   "id": "228dc0a7-bca5-4de8-bb4d-d2840c8d85dc",
   "metadata": {},
   "outputs": [
    {
     "data": {
      "text/plain": [
       "array([[1, 1, 1, 1, 1, 1],\n",
       "       [1, 1, 1, 1, 1, 1],\n",
       "       [1, 1, 1, 1, 1, 1]])"
      ]
     },
     "execution_count": 52,
     "metadata": {},
     "output_type": "execute_result"
    }
   ],
   "source": [
    "a"
   ]
  },
  {
   "cell_type": "code",
   "execution_count": 53,
   "id": "1e752849-30d7-4342-b8be-2264f472e256",
   "metadata": {},
   "outputs": [
    {
     "data": {
      "text/plain": [
       "array([[1., 1., 1., 1., 1., 1.],\n",
       "       [1., 1., 1., 1., 1., 1.],\n",
       "       [1., 1., 1., 1., 1., 1.]])"
      ]
     },
     "execution_count": 53,
     "metadata": {},
     "output_type": "execute_result"
    }
   ],
   "source": [
    "a.astype(float) # it change the data type of array integer to float"
   ]
  },
  {
   "cell_type": "code",
   "execution_count": 54,
   "id": "14d34756-5a08-4d30-9e2b-5b0627ec3a05",
   "metadata": {},
   "outputs": [
    {
     "data": {
      "text/plain": [
       "array([1., 1., 1., 1., 1.])"
      ]
     },
     "execution_count": 54,
     "metadata": {},
     "output_type": "execute_result"
    }
   ],
   "source": [
    "b"
   ]
  },
  {
   "cell_type": "code",
   "execution_count": 55,
   "id": "c21c5199-283e-46c5-8453-7aac19445403",
   "metadata": {},
   "outputs": [
    {
     "data": {
      "text/plain": [
       "array([1, 1, 1, 1, 1])"
      ]
     },
     "execution_count": 55,
     "metadata": {},
     "output_type": "execute_result"
    }
   ],
   "source": [
    "b.astype(int) # float to intiger data type change"
   ]
  },
  {
   "cell_type": "markdown",
   "id": "48a209e8-e823-4ffb-a14f-3469cfecb350",
   "metadata": {},
   "source": [
    "## Array operation "
   ]
  },
  {
   "cell_type": "markdown",
   "id": "19f05f1c-44b5-48e4-a132-7e95b272ba80",
   "metadata": {},
   "source": [
    "### Addition"
   ]
  },
  {
   "cell_type": "code",
   "execution_count": 56,
   "id": "8f1d83f1-2238-4d30-a004-f1914a3a668d",
   "metadata": {},
   "outputs": [
    {
     "data": {
      "text/plain": [
       "array([[1, 1, 1, 1, 1, 1],\n",
       "       [1, 1, 1, 1, 1, 1],\n",
       "       [1, 1, 1, 1, 1, 1]])"
      ]
     },
     "execution_count": 56,
     "metadata": {},
     "output_type": "execute_result"
    }
   ],
   "source": [
    "a"
   ]
  },
  {
   "cell_type": "code",
   "execution_count": 57,
   "id": "93041a81-b1ef-4238-a53a-6dfebc29d96b",
   "metadata": {},
   "outputs": [
    {
     "name": "stdout",
     "output_type": "stream",
     "text": [
      "[[4 4 4 4 4 4]\n",
      " [4 4 4 4 4 4]\n",
      " [4 4 4 4 4 4]]\n"
     ]
    }
   ],
   "source": [
    "a=a+3 # add 3 in avvery elements of the array its\n",
    "print(a)"
   ]
  },
  {
   "cell_type": "code",
   "execution_count": 58,
   "id": "1a8130d3-1020-4700-826b-81d326ba627b",
   "metadata": {},
   "outputs": [
    {
     "data": {
      "text/plain": [
       "array([ 3,  5,  6,  7,  8, 78])"
      ]
     },
     "execution_count": 58,
     "metadata": {},
     "output_type": "execute_result"
    }
   ],
   "source": [
    "arr"
   ]
  },
  {
   "cell_type": "code",
   "execution_count": 59,
   "id": "0671cd4a-6d23-4a89-a951-89c66980a246",
   "metadata": {},
   "outputs": [
    {
     "data": {
      "text/plain": [
       "array([ 3.8,  5.8,  6.8,  7.8,  8.8, 78.8])"
      ]
     },
     "execution_count": 59,
     "metadata": {},
     "output_type": "execute_result"
    }
   ],
   "source": [
    "arr + 0.8"
   ]
  },
  {
   "cell_type": "markdown",
   "id": "13161cea-b9aa-42c8-9aa8-e124bac02752",
   "metadata": {},
   "source": [
    "### Subtraction"
   ]
  },
  {
   "cell_type": "code",
   "execution_count": 60,
   "id": "7efac69f-a995-47dc-b04a-0e933133cf64",
   "metadata": {},
   "outputs": [
    {
     "data": {
      "text/plain": [
       "array([[4, 4, 4, 4, 4, 4],\n",
       "       [4, 4, 4, 4, 4, 4],\n",
       "       [4, 4, 4, 4, 4, 4]])"
      ]
     },
     "execution_count": 60,
     "metadata": {},
     "output_type": "execute_result"
    }
   ],
   "source": [
    "a"
   ]
  },
  {
   "cell_type": "code",
   "execution_count": 61,
   "id": "d9c17cc0-22ea-4a9d-87e3-20af48a9364b",
   "metadata": {},
   "outputs": [
    {
     "name": "stdout",
     "output_type": "stream",
     "text": [
      "[[1 1 1 1 1 1]\n",
      " [1 1 1 1 1 1]\n",
      " [1 1 1 1 1 1]]\n"
     ]
    }
   ],
   "source": [
    "a=a-3 # subtraction\n",
    "print(a)"
   ]
  },
  {
   "cell_type": "code",
   "execution_count": 62,
   "id": "5f75ce75-dec1-406f-b87f-b0339ed8c469",
   "metadata": {},
   "outputs": [
    {
     "data": {
      "text/plain": [
       "array([1., 1., 1., 1., 1.])"
      ]
     },
     "execution_count": 62,
     "metadata": {},
     "output_type": "execute_result"
    }
   ],
   "source": [
    "b"
   ]
  },
  {
   "cell_type": "code",
   "execution_count": 63,
   "id": "a33d8dbd-88a4-4cd1-b8be-9053e470f3d2",
   "metadata": {},
   "outputs": [
    {
     "data": {
      "text/plain": [
       "array([ 3,  5,  6,  7,  8, 78])"
      ]
     },
     "execution_count": 63,
     "metadata": {},
     "output_type": "execute_result"
    }
   ],
   "source": [
    "arr"
   ]
  },
  {
   "cell_type": "code",
   "execution_count": 64,
   "id": "7f9b42cd-875e-44e1-8da2-7e79513e3a3b",
   "metadata": {},
   "outputs": [
    {
     "data": {
      "text/plain": [
       "array([ 1,  3,  4,  5,  6, 76])"
      ]
     },
     "execution_count": 64,
     "metadata": {},
     "output_type": "execute_result"
    }
   ],
   "source": [
    "arr-2"
   ]
  },
  {
   "cell_type": "markdown",
   "id": "89116415-19c8-499b-b2dd-e6b08fdc6acb",
   "metadata": {},
   "source": [
    "### Multiplication"
   ]
  },
  {
   "cell_type": "code",
   "execution_count": 65,
   "id": "8a378d11-118d-42fd-b3c9-9ae8b2afb9dd",
   "metadata": {},
   "outputs": [
    {
     "data": {
      "text/plain": [
       "array([ 3,  5,  6,  7,  8, 78])"
      ]
     },
     "execution_count": 65,
     "metadata": {},
     "output_type": "execute_result"
    }
   ],
   "source": [
    "arr"
   ]
  },
  {
   "cell_type": "code",
   "execution_count": 66,
   "id": "f1d39406-3373-4a2d-8362-8d64ecbb5274",
   "metadata": {},
   "outputs": [
    {
     "data": {
      "text/plain": [
       "array([ 12,  20,  24,  28,  32, 312])"
      ]
     },
     "execution_count": 66,
     "metadata": {},
     "output_type": "execute_result"
    }
   ],
   "source": [
    "arr*4 # multiply 4 in every element"
   ]
  },
  {
   "cell_type": "code",
   "execution_count": 67,
   "id": "77fe369c-6125-4441-ba23-fb88ecbf16c8",
   "metadata": {},
   "outputs": [
    {
     "data": {
      "text/plain": [
       "array([[[0, 1],\n",
       "        [2, 3]],\n",
       "\n",
       "       [[4, 5],\n",
       "        [6, 7]]])"
      ]
     },
     "execution_count": 67,
     "metadata": {},
     "output_type": "execute_result"
    }
   ],
   "source": [
    "arra"
   ]
  },
  {
   "cell_type": "code",
   "execution_count": 68,
   "id": "d34bdc43-8698-4454-ab26-0d0977e0cbb7",
   "metadata": {},
   "outputs": [
    {
     "data": {
      "text/plain": [
       "array([[[ 0,  2],\n",
       "        [ 4,  6]],\n",
       "\n",
       "       [[ 8, 10],\n",
       "        [12, 14]]])"
      ]
     },
     "execution_count": 68,
     "metadata": {},
     "output_type": "execute_result"
    }
   ],
   "source": [
    "arra*2 # multiply 2 "
   ]
  },
  {
   "cell_type": "code",
   "execution_count": 69,
   "id": "ab27d22f-bcc5-45dd-8c69-809aa4005654",
   "metadata": {},
   "outputs": [
    {
     "name": "stdout",
     "output_type": "stream",
     "text": [
      "[[1 2 3 4]\n",
      " [5 6 7 8]]\n"
     ]
    }
   ],
   "source": [
    "a1=np.array([[1,2,3,4],[5,6,7,8]])\n",
    "print(a1)"
   ]
  },
  {
   "cell_type": "code",
   "execution_count": 70,
   "id": "440c78ad-4d10-4e0e-b139-4b37c274b944",
   "metadata": {},
   "outputs": [
    {
     "data": {
      "text/plain": [
       "array([[ 2,  4,  6,  8],\n",
       "       [10, 12, 14, 16]])"
      ]
     },
     "execution_count": 70,
     "metadata": {},
     "output_type": "execute_result"
    }
   ],
   "source": [
    "a1*2 # multiply 2 in a1 array"
   ]
  },
  {
   "cell_type": "markdown",
   "id": "444238a3-dee4-4d52-a7a4-5a99a1e1006f",
   "metadata": {},
   "source": [
    "### Division"
   ]
  },
  {
   "cell_type": "code",
   "execution_count": 71,
   "id": "734b6aea-b496-4f89-86d3-23c0cbab7889",
   "metadata": {},
   "outputs": [
    {
     "data": {
      "text/plain": [
       "array([[0.5, 1. , 1.5, 2. ],\n",
       "       [2.5, 3. , 3.5, 4. ]])"
      ]
     },
     "execution_count": 71,
     "metadata": {},
     "output_type": "execute_result"
    }
   ],
   "source": [
    "a1/2 # devide 2 in a1 array"
   ]
  },
  {
   "cell_type": "code",
   "execution_count": 72,
   "id": "f8af0899-1dec-4217-bda9-cdfb6c4bfad6",
   "metadata": {},
   "outputs": [
    {
     "data": {
      "text/plain": [
       "array([[1, 1, 1, 1, 1, 1],\n",
       "       [1, 1, 1, 1, 1, 1],\n",
       "       [1, 1, 1, 1, 1, 1]])"
      ]
     },
     "execution_count": 72,
     "metadata": {},
     "output_type": "execute_result"
    }
   ],
   "source": [
    "a"
   ]
  },
  {
   "cell_type": "code",
   "execution_count": 73,
   "id": "8a912d48-5ecf-4dab-948f-41709800093d",
   "metadata": {},
   "outputs": [
    {
     "data": {
      "text/plain": [
       "array([[0.33333333, 0.33333333, 0.33333333, 0.33333333, 0.33333333,\n",
       "        0.33333333],\n",
       "       [0.33333333, 0.33333333, 0.33333333, 0.33333333, 0.33333333,\n",
       "        0.33333333],\n",
       "       [0.33333333, 0.33333333, 0.33333333, 0.33333333, 0.33333333,\n",
       "        0.33333333]])"
      ]
     },
     "execution_count": 73,
     "metadata": {},
     "output_type": "execute_result"
    }
   ],
   "source": [
    "a/3"
   ]
  },
  {
   "cell_type": "markdown",
   "id": "920e6416-99ab-4f3f-8789-0d55e647d3f0",
   "metadata": {},
   "source": [
    "### modul"
   ]
  },
  {
   "cell_type": "code",
   "execution_count": 74,
   "id": "0bb48963-9f9c-4815-8905-1cb1b3cebc32",
   "metadata": {},
   "outputs": [
    {
     "data": {
      "text/plain": [
       "array([[1, 2, 3, 4],\n",
       "       [5, 6, 7, 8]])"
      ]
     },
     "execution_count": 74,
     "metadata": {},
     "output_type": "execute_result"
    }
   ],
   "source": [
    "a1"
   ]
  },
  {
   "cell_type": "code",
   "execution_count": 75,
   "id": "09e85c5b-f5f0-41a5-9fd7-341f31fab02d",
   "metadata": {},
   "outputs": [
    {
     "data": {
      "text/plain": [
       "array([[1, 0, 1, 0],\n",
       "       [1, 0, 1, 0]], dtype=int32)"
      ]
     },
     "execution_count": 75,
     "metadata": {},
     "output_type": "execute_result"
    }
   ],
   "source": [
    "a1%2 # it give the module value"
   ]
  },
  {
   "cell_type": "code",
   "execution_count": 76,
   "id": "c4f257af-1bcd-4f82-8e15-f151fb7f2ca0",
   "metadata": {},
   "outputs": [
    {
     "data": {
      "text/plain": [
       "array([ 3,  5,  6,  7,  8, 78])"
      ]
     },
     "execution_count": 76,
     "metadata": {},
     "output_type": "execute_result"
    }
   ],
   "source": [
    "arr"
   ]
  },
  {
   "cell_type": "code",
   "execution_count": 77,
   "id": "6ebc4517-92b4-4fa2-b0f1-24d13fa1a3cc",
   "metadata": {},
   "outputs": [
    {
     "data": {
      "text/plain": [
       "array([0, 2, 0, 1, 2, 0], dtype=int32)"
      ]
     },
     "execution_count": 77,
     "metadata": {},
     "output_type": "execute_result"
    }
   ],
   "source": [
    "arr%3"
   ]
  },
  {
   "cell_type": "markdown",
   "id": "2632a48b-d3c9-4a95-bb03-670e1301db1e",
   "metadata": {},
   "source": [
    "### Power"
   ]
  },
  {
   "cell_type": "code",
   "execution_count": 78,
   "id": "bdd04199-7a66-484a-a0c9-401d502418a5",
   "metadata": {},
   "outputs": [
    {
     "data": {
      "text/plain": [
       "array([[1, 2, 3, 4],\n",
       "       [5, 6, 7, 8]])"
      ]
     },
     "execution_count": 78,
     "metadata": {},
     "output_type": "execute_result"
    }
   ],
   "source": [
    "a1"
   ]
  },
  {
   "cell_type": "code",
   "execution_count": 79,
   "id": "6f7fb5b9-4c10-4df9-bb25-c20e7d801b73",
   "metadata": {},
   "outputs": [
    {
     "data": {
      "text/plain": [
       "array([[  1,   8,  27,  64],\n",
       "       [125, 216, 343, 512]], dtype=int32)"
      ]
     },
     "execution_count": 79,
     "metadata": {},
     "output_type": "execute_result"
    }
   ],
   "source": [
    "a1**3 # it give the power of every element of the  array"
   ]
  },
  {
   "cell_type": "code",
   "execution_count": 80,
   "id": "d38e8806-a4d2-4172-a0be-a01c0e605cd4",
   "metadata": {},
   "outputs": [
    {
     "data": {
      "text/plain": [
       "array([[1, 1, 1, 1, 1, 1],\n",
       "       [1, 1, 1, 1, 1, 1],\n",
       "       [1, 1, 1, 1, 1, 1]])"
      ]
     },
     "execution_count": 80,
     "metadata": {},
     "output_type": "execute_result"
    }
   ],
   "source": [
    "a"
   ]
  },
  {
   "cell_type": "code",
   "execution_count": 81,
   "id": "71a50fcb-3cf7-453a-b616-c973e720e1af",
   "metadata": {},
   "outputs": [
    {
     "data": {
      "text/plain": [
       "array([[1, 1, 1, 1, 1, 1],\n",
       "       [1, 1, 1, 1, 1, 1],\n",
       "       [1, 1, 1, 1, 1, 1]])"
      ]
     },
     "execution_count": 81,
     "metadata": {},
     "output_type": "execute_result"
    }
   ],
   "source": [
    "a**2"
   ]
  },
  {
   "cell_type": "code",
   "execution_count": 82,
   "id": "0fc78ef4-0ba4-4991-8d54-723ed1cf23f6",
   "metadata": {},
   "outputs": [
    {
     "data": {
      "text/plain": [
       "array([ 3,  5,  6,  7,  8, 78])"
      ]
     },
     "execution_count": 82,
     "metadata": {},
     "output_type": "execute_result"
    }
   ],
   "source": [
    "arr"
   ]
  },
  {
   "cell_type": "code",
   "execution_count": 83,
   "id": "8bfa7829-fbfa-485f-b0db-f40bc90e8686",
   "metadata": {},
   "outputs": [
    {
     "data": {
      "text/plain": [
       "array([      81,      625,     1296,     2401,     4096, 37015056],\n",
       "      dtype=int32)"
      ]
     },
     "execution_count": 83,
     "metadata": {},
     "output_type": "execute_result"
    }
   ],
   "source": [
    "arr**4"
   ]
  },
  {
   "cell_type": "markdown",
   "id": "ce5e8a9d-9964-4ee9-95dc-561250abff74",
   "metadata": {},
   "source": [
    "## Relational operatior"
   ]
  },
  {
   "cell_type": "code",
   "execution_count": 84,
   "id": "42493eff-6377-4daa-b93c-a35ba0f42855",
   "metadata": {},
   "outputs": [
    {
     "data": {
      "text/plain": [
       "array([[1, 2, 3, 4],\n",
       "       [5, 6, 7, 8]])"
      ]
     },
     "execution_count": 84,
     "metadata": {},
     "output_type": "execute_result"
    }
   ],
   "source": [
    "a1"
   ]
  },
  {
   "cell_type": "code",
   "execution_count": 85,
   "id": "3001cf49-1aba-43ba-8deb-951f32d6b411",
   "metadata": {},
   "outputs": [
    {
     "data": {
      "text/plain": [
       "array([[ True,  True,  True, False],\n",
       "       [False, False, False, False]])"
      ]
     },
     "execution_count": 85,
     "metadata": {},
     "output_type": "execute_result"
    }
   ],
   "source": [
    "a1<4 # a1 each value compair with 4 which get true return true other wise retun fulse"
   ]
  },
  {
   "cell_type": "code",
   "execution_count": 86,
   "id": "dd4cc991-d28f-4015-8ab4-ffcc10cc1d22",
   "metadata": {},
   "outputs": [
    {
     "data": {
      "text/plain": [
       "array([[False, False, False,  True],\n",
       "       [ True,  True,  True,  True]])"
      ]
     },
     "execution_count": 86,
     "metadata": {},
     "output_type": "execute_result"
    }
   ],
   "source": [
    "a1>=4 # it return true if the valye is greater then 4 else false"
   ]
  },
  {
   "cell_type": "code",
   "execution_count": 87,
   "id": "0d33d4e2-30f9-4eee-8d00-2c7ed97e9d85",
   "metadata": {},
   "outputs": [
    {
     "data": {
      "text/plain": [
       "array([[False, False, False, False],\n",
       "       [ True, False, False, False]])"
      ]
     },
     "execution_count": 87,
     "metadata": {},
     "output_type": "execute_result"
    }
   ],
   "source": [
    "a1 ==5 # it return true where the value is 5 else false"
   ]
  },
  {
   "cell_type": "code",
   "execution_count": 88,
   "id": "a7f8b036-ccf7-4c27-9bf4-f42f930d9710",
   "metadata": {},
   "outputs": [
    {
     "data": {
      "text/plain": [
       "array([[ True, False,  True,  True],\n",
       "       [ True,  True,  True,  True]])"
      ]
     },
     "execution_count": 88,
     "metadata": {},
     "output_type": "execute_result"
    }
   ],
   "source": [
    "a1 != 2 # it false where 2 is exit other wise true"
   ]
  },
  {
   "cell_type": "markdown",
   "id": "9adbbaaa-b04a-4330-9c0b-ee80e3b9cfa0",
   "metadata": {},
   "source": [
    "## Vector operation"
   ]
  },
  {
   "cell_type": "code",
   "execution_count": 89,
   "id": "f82cd0e3-adc9-4669-a874-1ca676c5f639",
   "metadata": {},
   "outputs": [
    {
     "name": "stdout",
     "output_type": "stream",
     "text": [
      "[[1 2 3 4 5]\n",
      " [1 2 3 4 5]]\n"
     ]
    }
   ],
   "source": [
    "z = np.array([[1,2,3,4,5,],[1,2,3,4,5]])\n",
    "print(z)"
   ]
  },
  {
   "cell_type": "code",
   "execution_count": 90,
   "id": "d4afe5c0-99eb-4326-aa24-e04610efbef1",
   "metadata": {},
   "outputs": [
    {
     "name": "stdout",
     "output_type": "stream",
     "text": [
      "[[1 2 3 4 5]\n",
      " [1 2 3 4 5]]\n"
     ]
    }
   ],
   "source": [
    "z1 =np.array([[1,2,3,4,5,],[1,2,3,4,5]])\n",
    "print(z1)"
   ]
  },
  {
   "cell_type": "code",
   "execution_count": 91,
   "id": "58f3e85f-e910-47eb-a9f8-e83346f4ba6c",
   "metadata": {},
   "outputs": [
    {
     "data": {
      "text/plain": [
       "array([[ 2,  4,  6,  8, 10],\n",
       "       [ 2,  4,  6,  8, 10]])"
      ]
     },
     "execution_count": 91,
     "metadata": {},
     "output_type": "execute_result"
    }
   ],
   "source": [
    "z+z1 # both array size should be same to add each item accordingly"
   ]
  },
  {
   "cell_type": "code",
   "execution_count": 92,
   "id": "aaa27f81-a2fd-4cf7-bfd2-e5f617fd3b45",
   "metadata": {},
   "outputs": [
    {
     "data": {
      "text/plain": [
       "array([[0, 0, 0, 0, 0],\n",
       "       [0, 0, 0, 0, 0]])"
      ]
     },
     "execution_count": 92,
     "metadata": {},
     "output_type": "execute_result"
    }
   ],
   "source": [
    "z - z1 # both array size should be same to subtract with each item accordingly"
   ]
  },
  {
   "cell_type": "code",
   "execution_count": 93,
   "id": "954ab0f7-a57c-4f50-93e9-5181b53e93ad",
   "metadata": {},
   "outputs": [
    {
     "data": {
      "text/plain": [
       "array([[ 1,  4,  9, 16, 25],\n",
       "       [ 1,  4,  9, 16, 25]])"
      ]
     },
     "execution_count": 93,
     "metadata": {},
     "output_type": "execute_result"
    }
   ],
   "source": [
    "z*z1 # both array size should be same to multiply each item accordingly"
   ]
  },
  {
   "cell_type": "code",
   "execution_count": 94,
   "id": "25ddab7d-ae17-4f72-90cd-89b65d82389e",
   "metadata": {},
   "outputs": [
    {
     "data": {
      "text/plain": [
       "array([[1., 1., 1., 1., 1.],\n",
       "       [1., 1., 1., 1., 1.]])"
      ]
     },
     "execution_count": 94,
     "metadata": {},
     "output_type": "execute_result"
    }
   ],
   "source": [
    "z / z1 # both array size should be same to devide with each item accordingly"
   ]
  },
  {
   "cell_type": "markdown",
   "id": "630f18cc-12b0-440e-92b1-7ec441feac41",
   "metadata": {},
   "source": [
    "# Array function"
   ]
  },
  {
   "cell_type": "code",
   "execution_count": 95,
   "id": "6fd5b7bf-cf1a-4ea3-a221-648919363f2f",
   "metadata": {},
   "outputs": [
    {
     "name": "stdout",
     "output_type": "stream",
     "text": [
      "[[34. 17. 15.]\n",
      " [ 3. 70. 74.]\n",
      " [21. 26. 24.]]\n"
     ]
    }
   ],
   "source": [
    "k = np.random.random((3,3)) # Creat random array with 3 x 3 matrix\n",
    "k = np.round(k*100) # its helps to round the value\n",
    "print(k)"
   ]
  },
  {
   "cell_type": "code",
   "execution_count": 96,
   "id": "5740ab4d-f437-478c-b830-a67d6115ea5d",
   "metadata": {},
   "outputs": [
    {
     "data": {
      "text/plain": [
       "74.0"
      ]
     },
     "execution_count": 96,
     "metadata": {},
     "output_type": "execute_result"
    }
   ],
   "source": [
    "np.max(k) # gives the maximum number in the array"
   ]
  },
  {
   "cell_type": "code",
   "execution_count": 97,
   "id": "f68476b3-7314-4c5a-897f-257895e146c7",
   "metadata": {},
   "outputs": [
    {
     "data": {
      "text/plain": [
       "3.0"
      ]
     },
     "execution_count": 97,
     "metadata": {},
     "output_type": "execute_result"
    }
   ],
   "source": [
    "np.min(k) # It gives the minimum number in the array is present"
   ]
  },
  {
   "cell_type": "code",
   "execution_count": 98,
   "id": "730c7a52-b308-4957-a6ae-3be98954024b",
   "metadata": {},
   "outputs": [
    {
     "data": {
      "text/plain": [
       "31.555555555555557"
      ]
     },
     "execution_count": 98,
     "metadata": {},
     "output_type": "execute_result"
    }
   ],
   "source": [
    "np.average(k) # It calculate the average of all the elements are present in the array"
   ]
  },
  {
   "cell_type": "code",
   "execution_count": 99,
   "id": "df7f1f8c-df28-4ece-bb26-688b55a6ac0c",
   "metadata": {},
   "outputs": [
    {
     "data": {
      "text/plain": [
       "284.0"
      ]
     },
     "execution_count": 99,
     "metadata": {},
     "output_type": "execute_result"
    }
   ],
   "source": [
    "np.sum(k) # It gives the sum of all the elements presenat in the array\n"
   ]
  },
  {
   "cell_type": "code",
   "execution_count": 100,
   "id": "74aae428-d1a8-4bce-843e-71b3c09870c5",
   "metadata": {},
   "outputs": [
    {
     "data": {
      "text/plain": [
       "1765525507200.0"
      ]
     },
     "execution_count": 100,
     "metadata": {},
     "output_type": "execute_result"
    }
   ],
   "source": [
    "np.prod(k) # Return The product of all array elements"
   ]
  },
  {
   "cell_type": "code",
   "execution_count": 101,
   "id": "ccb9b6f3-8ee7-41e7-abb1-1c46cdf2d57c",
   "metadata": {},
   "outputs": [
    {
     "data": {
      "text/plain": [
       "array([34., 74., 26.])"
      ]
     },
     "execution_count": 101,
     "metadata": {},
     "output_type": "execute_result"
    }
   ],
   "source": [
    "np.max(k,axis=1) # it gives the maximum value in every rows individually"
   ]
  },
  {
   "cell_type": "code",
   "execution_count": 102,
   "id": "ad2de445-3f52-4ca7-9577-4e534d400cc4",
   "metadata": {},
   "outputs": [
    {
     "data": {
      "text/plain": [
       "array([[34., 17., 15.],\n",
       "       [ 3., 70., 74.],\n",
       "       [21., 26., 24.]])"
      ]
     },
     "execution_count": 102,
     "metadata": {},
     "output_type": "execute_result"
    }
   ],
   "source": [
    "k"
   ]
  },
  {
   "cell_type": "code",
   "execution_count": 103,
   "id": "0a6fba37-94c7-4016-8642-b8dad661d2b7",
   "metadata": {},
   "outputs": [
    {
     "data": {
      "text/plain": [
       "array([34., 70., 74.])"
      ]
     },
     "execution_count": 103,
     "metadata": {},
     "output_type": "execute_result"
    }
   ],
   "source": [
    "np.max(k,axis=0) # it gives the maximum value in every column individually"
   ]
  },
  {
   "cell_type": "code",
   "execution_count": 104,
   "id": "e88bb277-083b-451d-bf3c-539322b5203f",
   "metadata": {},
   "outputs": [
    {
     "data": {
      "text/plain": [
       "array([ 8670., 15540., 13104.])"
      ]
     },
     "execution_count": 104,
     "metadata": {},
     "output_type": "execute_result"
    }
   ],
   "source": [
    "np.prod(k,axis=1) # it gives the product of every rows individually"
   ]
  },
  {
   "cell_type": "code",
   "execution_count": 105,
   "id": "687fcc95-ef46-4f03-bfd5-e211814895ee",
   "metadata": {},
   "outputs": [
    {
     "data": {
      "text/plain": [
       "array([ 2142., 30940., 26640.])"
      ]
     },
     "execution_count": 105,
     "metadata": {},
     "output_type": "execute_result"
    }
   ],
   "source": [
    "np.prod(k,axis=0) # it gives the product of every column individually"
   ]
  },
  {
   "cell_type": "markdown",
   "id": "6ccfdf8c-3ce4-40cd-839e-6203430b6424",
   "metadata": {},
   "source": [
    "### Statistical function"
   ]
  },
  {
   "cell_type": "code",
   "execution_count": 106,
   "id": "c48d734d-9231-4049-a03c-f95419e8cf53",
   "metadata": {},
   "outputs": [
    {
     "data": {
      "text/plain": [
       "31.555555555555557"
      ]
     },
     "execution_count": 106,
     "metadata": {},
     "output_type": "execute_result"
    }
   ],
   "source": [
    "np.mean(k) # it give the mean value of the array"
   ]
  },
  {
   "cell_type": "code",
   "execution_count": 107,
   "id": "218d30c9-3422-4d5e-b4ca-8bc45634ed34",
   "metadata": {},
   "outputs": [
    {
     "data": {
      "text/plain": [
       "array([22.        , 49.        , 23.66666667])"
      ]
     },
     "execution_count": 107,
     "metadata": {},
     "output_type": "execute_result"
    }
   ],
   "source": [
    "np.mean(k,axis=1) # mean by individual rows"
   ]
  },
  {
   "cell_type": "code",
   "execution_count": 108,
   "id": "e243e1e6-20d8-4de0-8dd8-ccd19acb674c",
   "metadata": {},
   "outputs": [
    {
     "data": {
      "text/plain": [
       "array([19.33333333, 37.66666667, 37.66666667])"
      ]
     },
     "execution_count": 108,
     "metadata": {},
     "output_type": "execute_result"
    }
   ],
   "source": [
    "np.mean(k,axis=0) # mean by individual column"
   ]
  },
  {
   "cell_type": "code",
   "execution_count": 109,
   "id": "4e2bc8a6-c62e-47cc-9499-31b004b53fde",
   "metadata": {},
   "outputs": [
    {
     "data": {
      "text/plain": [
       "24.0"
      ]
     },
     "execution_count": 109,
     "metadata": {},
     "output_type": "execute_result"
    }
   ],
   "source": [
    "np.median(k) # it give the median value of the array"
   ]
  },
  {
   "cell_type": "code",
   "execution_count": 110,
   "id": "851af318-ccd6-4040-9d19-8a5684648f98",
   "metadata": {},
   "outputs": [
    {
     "data": {
      "text/plain": [
       "array([17., 70., 24.])"
      ]
     },
     "execution_count": 110,
     "metadata": {},
     "output_type": "execute_result"
    }
   ],
   "source": [
    "np.median(k,axis=1) # median by individual rows"
   ]
  },
  {
   "cell_type": "code",
   "execution_count": 111,
   "id": "b53e667d-d385-4076-95c3-ffb2b916fa3d",
   "metadata": {},
   "outputs": [
    {
     "data": {
      "text/plain": [
       "array([21., 26., 24.])"
      ]
     },
     "execution_count": 111,
     "metadata": {},
     "output_type": "execute_result"
    }
   ],
   "source": [
    "np.median(k,axis=0) # median by individual columns"
   ]
  },
  {
   "cell_type": "code",
   "execution_count": 112,
   "id": "c09799ec-223f-404c-ba89-a9abe24131cd",
   "metadata": {},
   "outputs": [
    {
     "data": {
      "text/plain": [
       "23.060842767249476"
      ]
     },
     "execution_count": 112,
     "metadata": {},
     "output_type": "execute_result"
    }
   ],
   "source": [
    "np.std(k) # calculate the standard deviation of an array"
   ]
  },
  {
   "cell_type": "code",
   "execution_count": 113,
   "id": "10d736a9-b9b3-4d07-b01c-34b933bf8b02",
   "metadata": {},
   "outputs": [
    {
     "data": {
      "text/plain": [
       "array([ 8.52447457, 32.56787783,  2.05480467])"
      ]
     },
     "execution_count": 113,
     "metadata": {},
     "output_type": "execute_result"
    }
   ],
   "source": [
    "np.std(k,axis=1) # standard deviation by individual rows"
   ]
  },
  {
   "cell_type": "code",
   "execution_count": 114,
   "id": "52e978cb-c77e-43d7-a4af-13bf99293558",
   "metadata": {},
   "outputs": [
    {
     "data": {
      "text/plain": [
       "array([12.71045064, 23.15647258, 25.95294888])"
      ]
     },
     "execution_count": 114,
     "metadata": {},
     "output_type": "execute_result"
    }
   ],
   "source": [
    "np.std(k,axis=0) # standard deviation by individual columns"
   ]
  },
  {
   "cell_type": "code",
   "execution_count": 115,
   "id": "a66a9baa-b42e-451c-99ce-ef447bfba0b6",
   "metadata": {},
   "outputs": [
    {
     "data": {
      "text/plain": [
       "531.8024691358024"
      ]
     },
     "execution_count": 115,
     "metadata": {},
     "output_type": "execute_result"
    }
   ],
   "source": [
    "np.var(k) # calculate variance of the array"
   ]
  },
  {
   "cell_type": "code",
   "execution_count": 116,
   "id": "201a4126-1a76-4505-84f9-6fc084bddd51",
   "metadata": {},
   "outputs": [
    {
     "data": {
      "text/plain": [
       "array([  72.66666667, 1060.66666667,    4.22222222])"
      ]
     },
     "execution_count": 116,
     "metadata": {},
     "output_type": "execute_result"
    }
   ],
   "source": [
    "np.var(k,axis=1) # variance by individual rows"
   ]
  },
  {
   "cell_type": "code",
   "execution_count": 117,
   "id": "ffd3e81c-368b-4302-8b01-2be98ff1f7db",
   "metadata": {},
   "outputs": [
    {
     "data": {
      "text/plain": [
       "array([161.55555556, 536.22222222, 673.55555556])"
      ]
     },
     "execution_count": 117,
     "metadata": {},
     "output_type": "execute_result"
    }
   ],
   "source": [
    "np.var(k,axis=0) # variance  by individual columns"
   ]
  },
  {
   "cell_type": "markdown",
   "id": "621d1f46-f4d5-48ef-a84a-8466b773e1cf",
   "metadata": {},
   "source": [
    "### Trigonometry Function "
   ]
  },
  {
   "cell_type": "code",
   "execution_count": 118,
   "id": "6fd09265-2081-4421-bf7c-b07ea72ab186",
   "metadata": {},
   "outputs": [
    {
     "data": {
      "text/plain": [
       "array([[34., 17., 15.],\n",
       "       [ 3., 70., 74.],\n",
       "       [21., 26., 24.]])"
      ]
     },
     "execution_count": 118,
     "metadata": {},
     "output_type": "execute_result"
    }
   ],
   "source": [
    "k"
   ]
  },
  {
   "cell_type": "code",
   "execution_count": 119,
   "id": "53722295-d100-42d0-8599-56ab8fc0cb65",
   "metadata": {},
   "outputs": [
    {
     "data": {
      "text/plain": [
       "array([[ 0.52908269, -0.96139749,  0.65028784],\n",
       "       [ 0.14112001,  0.77389068, -0.98514626],\n",
       "       [ 0.83665564,  0.76255845, -0.90557836]])"
      ]
     },
     "execution_count": 119,
     "metadata": {},
     "output_type": "execute_result"
    }
   ],
   "source": [
    "np.sin(k) # it calculate sin of every value in the array"
   ]
  },
  {
   "cell_type": "code",
   "execution_count": 120,
   "id": "810bc6d7-4997-4679-92c8-5eff25e00bbc",
   "metadata": {},
   "outputs": [
    {
     "data": {
      "text/plain": [
       "array([[-0.84857027, -0.27516334, -0.75968791],\n",
       "       [-0.9899925 ,  0.6333192 ,  0.17171734],\n",
       "       [-0.54772926,  0.64691932,  0.42417901]])"
      ]
     },
     "execution_count": 120,
     "metadata": {},
     "output_type": "execute_result"
    }
   ],
   "source": [
    "np.cos(k) # it calculate cos of every value of array "
   ]
  },
  {
   "cell_type": "code",
   "execution_count": 121,
   "id": "568f466b-7374-427d-a40f-863314d89445",
   "metadata": {},
   "outputs": [
    {
     "data": {
      "text/plain": [
       "array([[-0.62349896,  3.49391565, -0.8559934 ],\n",
       "       [-0.14254654,  1.22195992, -5.73702254],\n",
       "       [-1.52749853,  1.17875355, -2.1348967 ]])"
      ]
     },
     "execution_count": 121,
     "metadata": {},
     "output_type": "execute_result"
    }
   ],
   "source": [
    "np.tan(k) # it calculate tan of every value of the array"
   ]
  },
  {
   "cell_type": "code",
   "execution_count": 122,
   "id": "cc9f32ec-3971-4eba-8f3e-ff0977627def",
   "metadata": {},
   "outputs": [
    {
     "ename": "AttributeError",
     "evalue": "module 'numpy' has no attribute 'sec'",
     "output_type": "error",
     "traceback": [
      "\u001b[1;31m---------------------------------------------------------------------------\u001b[0m",
      "\u001b[1;31mAttributeError\u001b[0m                            Traceback (most recent call last)",
      "Cell \u001b[1;32mIn[122], line 1\u001b[0m\n\u001b[1;32m----> 1\u001b[0m \u001b[43mnp\u001b[49m\u001b[38;5;241;43m.\u001b[39;49m\u001b[43msec\u001b[49m(k) \u001b[38;5;66;03m# the numpy have only trigonomerty attribute sin(),cos(),and tan()\u001b[39;00m\n",
      "File \u001b[1;32m~\\anaconda3\\Lib\\site-packages\\numpy\\__init__.py:333\u001b[0m, in \u001b[0;36m__getattr__\u001b[1;34m(attr)\u001b[0m\n\u001b[0;32m    330\u001b[0m     \u001b[38;5;124m\"\u001b[39m\u001b[38;5;124mRemoved in NumPy 1.25.0\u001b[39m\u001b[38;5;124m\"\u001b[39m\n\u001b[0;32m    331\u001b[0m     \u001b[38;5;28;01mraise\u001b[39;00m \u001b[38;5;167;01mRuntimeError\u001b[39;00m(\u001b[38;5;124m\"\u001b[39m\u001b[38;5;124mTester was removed in NumPy 1.25.\u001b[39m\u001b[38;5;124m\"\u001b[39m)\n\u001b[1;32m--> 333\u001b[0m \u001b[38;5;28;01mraise\u001b[39;00m \u001b[38;5;167;01mAttributeError\u001b[39;00m(\u001b[38;5;124m\"\u001b[39m\u001b[38;5;124mmodule \u001b[39m\u001b[38;5;132;01m{!r}\u001b[39;00m\u001b[38;5;124m has no attribute \u001b[39m\u001b[38;5;124m\"\u001b[39m\n\u001b[0;32m    334\u001b[0m                      \u001b[38;5;124m\"\u001b[39m\u001b[38;5;132;01m{!r}\u001b[39;00m\u001b[38;5;124m\"\u001b[39m\u001b[38;5;241m.\u001b[39mformat(\u001b[38;5;18m__name__\u001b[39m, attr))\n",
      "\u001b[1;31mAttributeError\u001b[0m: module 'numpy' has no attribute 'sec'"
     ]
    }
   ],
   "source": [
    "np.sec(k) # the numpy have only trigonomerty attribute sin(),cos(),and tan()"
   ]
  },
  {
   "cell_type": "markdown",
   "id": "0be3da52-6fe9-4912-9b0a-1391cd88b41b",
   "metadata": {},
   "source": [
    "### dot product attribute"
   ]
  },
  {
   "cell_type": "code",
   "execution_count": 123,
   "id": "4d3b39ac-76cb-490d-bb55-0965c6e45d47",
   "metadata": {},
   "outputs": [
    {
     "data": {
      "text/plain": [
       "array([[12, 13, 14],\n",
       "       [15, 16, 17],\n",
       "       [18, 19, 20],\n",
       "       [21, 22, 23]])"
      ]
     },
     "execution_count": 123,
     "metadata": {},
     "output_type": "execute_result"
    }
   ],
   "source": [
    "m = np.arange(12,24).reshape(4,3)\n",
    "m"
   ]
  },
  {
   "cell_type": "code",
   "execution_count": 124,
   "id": "540b632a-b835-43ad-b99a-bee2b69b43e9",
   "metadata": {},
   "outputs": [
    {
     "data": {
      "text/plain": [
       "array([[ 0,  1,  2,  3],\n",
       "       [ 4,  5,  6,  7],\n",
       "       [ 8,  9, 10, 11]])"
      ]
     },
     "execution_count": 124,
     "metadata": {},
     "output_type": "execute_result"
    }
   ],
   "source": [
    "n = np.arange(0,12).reshape(3,4)\n",
    "n"
   ]
  },
  {
   "cell_type": "code",
   "execution_count": 125,
   "id": "65ccaaed-7656-46ce-9dd2-97a5d0ded710",
   "metadata": {},
   "outputs": [
    {
     "data": {
      "text/plain": [
       "array([[164, 203, 242, 281],\n",
       "       [200, 248, 296, 344],\n",
       "       [236, 293, 350, 407],\n",
       "       [272, 338, 404, 470]])"
      ]
     },
     "execution_count": 125,
     "metadata": {},
     "output_type": "execute_result"
    }
   ],
   "source": [
    "np.dot(m,n) # dot product of m and n"
   ]
  },
  {
   "cell_type": "markdown",
   "id": "79c788c5-0926-48f6-a2f2-6cfca0ff6593",
   "metadata": {},
   "source": [
    "### log and exponential"
   ]
  },
  {
   "cell_type": "code",
   "execution_count": 126,
   "id": "976c4085-00bc-46ec-8262-0b26cbe609cb",
   "metadata": {},
   "outputs": [
    {
     "data": {
      "text/plain": [
       "array([[5.83461743e+14, 2.41549528e+07, 3.26901737e+06],\n",
       "       [2.00855369e+01, 2.51543867e+30, 1.37338298e+32],\n",
       "       [1.31881573e+09, 1.95729609e+11, 2.64891221e+10]])"
      ]
     },
     "execution_count": 126,
     "metadata": {},
     "output_type": "execute_result"
    }
   ],
   "source": [
    "np.exp(k) # it gives the exponential value of the array"
   ]
  },
  {
   "cell_type": "code",
   "execution_count": 127,
   "id": "b03e9263-0573-4b49-8533-2aee7fe79333",
   "metadata": {},
   "outputs": [
    {
     "data": {
      "text/plain": [
       "array([[3.52636052, 2.83321334, 2.7080502 ],\n",
       "       [1.09861229, 4.24849524, 4.30406509],\n",
       "       [3.04452244, 3.25809654, 3.17805383]])"
      ]
     },
     "execution_count": 127,
     "metadata": {},
     "output_type": "execute_result"
    }
   ],
   "source": [
    "np.log(k) # Logarithm value of the array\n"
   ]
  },
  {
   "cell_type": "markdown",
   "id": "9a56987e-be13-48c5-9b61-84b6226ea1e3",
   "metadata": {},
   "source": [
    "## Round \n",
    "  - in NumPy library round() function use to round off the value with the near integer value"
   ]
  },
  {
   "cell_type": "code",
   "execution_count": 128,
   "id": "03f3ec60-f210-44fd-99c3-3fdf0bfa530b",
   "metadata": {},
   "outputs": [
    {
     "data": {
      "text/plain": [
       "array([ 1.5 ,  4.55,  6.7 ,  8.9 , 56.6 , 78.  ])"
      ]
     },
     "execution_count": 128,
     "metadata": {},
     "output_type": "execute_result"
    }
   ],
   "source": [
    "m = np.array([1.5,4.55,6.7,8.9,56.6,78])\n",
    "m"
   ]
  },
  {
   "cell_type": "code",
   "execution_count": 129,
   "id": "af804777-0b09-4cc2-a677-16014d01cabf",
   "metadata": {},
   "outputs": [
    {
     "data": {
      "text/plain": [
       "array([ 2.,  5.,  7.,  9., 57., 78.])"
      ]
     },
     "execution_count": 129,
     "metadata": {},
     "output_type": "execute_result"
    }
   ],
   "source": [
    "np.round(m) # round of the elemnent in the array with the nearest integer value"
   ]
  },
  {
   "cell_type": "code",
   "execution_count": 130,
   "id": "75d8e657-6655-4734-b7eb-9d58cf4ffd06",
   "metadata": {},
   "outputs": [
    {
     "data": {
      "text/plain": [
       "array([ 1.2344 ,  3.4535 ,  4.5567 ,  8.9909 , 56.77667])"
      ]
     },
     "execution_count": 130,
     "metadata": {},
     "output_type": "execute_result"
    }
   ],
   "source": [
    " n = np.array([1.2344,3.4535,4.5567,8.9909,56.77667])\n",
    "n"
   ]
  },
  {
   "cell_type": "code",
   "execution_count": 131,
   "id": "25b7e7ec-f259-4c90-8595-073e9ffdff2f",
   "metadata": {},
   "outputs": [
    {
     "data": {
      "text/plain": [
       "array([ 1.234,  3.454,  4.557,  8.991, 56.777])"
      ]
     },
     "execution_count": 131,
     "metadata": {},
     "output_type": "execute_result"
    }
   ],
   "source": [
    "np.round(n,decimals=3) # it take 3 decimal value to roundup with near intiger value"
   ]
  },
  {
   "cell_type": "code",
   "execution_count": 132,
   "id": "dada99dd-7fba-4220-bc4c-3d2842c0b5a2",
   "metadata": {},
   "outputs": [
    {
     "data": {
      "text/plain": [
       "array([[14.01239517,  5.60799614, 99.84973262, 30.22212408],\n",
       "       [27.41152426, 75.40008797, 67.99627406, 35.65468496],\n",
       "       [51.74954144, 90.98847497, 77.74134069, 68.00169524]])"
      ]
     },
     "execution_count": 132,
     "metadata": {},
     "output_type": "execute_result"
    }
   ],
   "source": [
    "a =np.random.random((3,4))*100\n",
    "a"
   ]
  },
  {
   "cell_type": "code",
   "execution_count": 133,
   "id": "a205ab16-f94a-4d28-a2e5-0ca5d5e57052",
   "metadata": {},
   "outputs": [
    {
     "data": {
      "text/plain": [
       "array([[ 14.,   6., 100.,  30.],\n",
       "       [ 27.,  75.,  68.,  36.],\n",
       "       [ 52.,  91.,  78.,  68.]])"
      ]
     },
     "execution_count": 133,
     "metadata": {},
     "output_type": "execute_result"
    }
   ],
   "source": [
    "np.round(a)"
   ]
  },
  {
   "cell_type": "code",
   "execution_count": 134,
   "id": "bd1767f2-0588-4686-8102-a3187636e064",
   "metadata": {},
   "outputs": [
    {
     "data": {
      "text/plain": [
       "array([[91.,  9., 11., 35.],\n",
       "       [71., 46., 84., 52.],\n",
       "       [60., 14., 63., 59.]])"
      ]
     },
     "execution_count": 134,
     "metadata": {},
     "output_type": "execute_result"
    }
   ],
   "source": [
    "np.round(np.random.random((3,4))*100)  # above two line combine into one line"
   ]
  },
  {
   "cell_type": "markdown",
   "id": "736a9156-26e7-4ff5-8318-407314818811",
   "metadata": {},
   "source": [
    "## Floor\n",
    "   - in NumPy library floor() function use to find the integer value from the float value\n",
    "   - ex- 3.78668 is turned as 3"
   ]
  },
  {
   "cell_type": "code",
   "execution_count": 135,
   "id": "b1e2da3d-4efa-4d34-ab49-e8482bb0c475",
   "metadata": {},
   "outputs": [
    {
     "data": {
      "text/plain": [
       "array([12.4454,  3.5   , 66.7   , 45.87  , 67.9997])"
      ]
     },
     "execution_count": 135,
     "metadata": {},
     "output_type": "execute_result"
    }
   ],
   "source": [
    " a = np.array([12.4454,3.5,66.7,45.87,67.9997])\n",
    "a"
   ]
  },
  {
   "cell_type": "code",
   "execution_count": 136,
   "id": "49b0260d-0ef6-48a6-8334-0af29f22da0d",
   "metadata": {},
   "outputs": [
    {
     "data": {
      "text/plain": [
       "array([12.,  3., 66., 45., 67.])"
      ]
     },
     "execution_count": 136,
     "metadata": {},
     "output_type": "execute_result"
    }
   ],
   "source": [
    "np.floor(a) # It ruturn the integer velue of the all array float value"
   ]
  },
  {
   "cell_type": "code",
   "execution_count": 137,
   "id": "dcdb31f8-4434-43e4-9570-fe54de90777d",
   "metadata": {},
   "outputs": [
    {
     "data": {
      "text/plain": [
       "array([[64., 57., 31., 44., 60.],\n",
       "       [ 7., 43., 81., 88., 28.],\n",
       "       [11., 10., 35.,  9., 21.]])"
      ]
     },
     "execution_count": 137,
     "metadata": {},
     "output_type": "execute_result"
    }
   ],
   "source": [
    "np.floor(np.random.random((3,5))*100) # to generate random number with floor"
   ]
  },
  {
   "cell_type": "markdown",
   "id": "6d2a9b27-7737-472c-91de-f1486c6e65e0",
   "metadata": {},
   "source": [
    "## ceil\n",
    "   - it give in output as highest integer value\n",
    "   - ex 2.3 = 3, 3.7 = 4 , 9.0 = 9"
   ]
  },
  {
   "cell_type": "code",
   "execution_count": 138,
   "id": "4b934db0-2f53-47a0-bf3c-f81dd073bcf4",
   "metadata": {},
   "outputs": [
    {
     "data": {
      "text/plain": [
       "array([1.2, 3.4, 3.5, 5.6, 7.8, 9. ])"
      ]
     },
     "execution_count": 138,
     "metadata": {},
     "output_type": "execute_result"
    }
   ],
   "source": [
    "a = np.array([1.2,3.4,3.5,5.6,7.8,9.0])\n",
    "a"
   ]
  },
  {
   "cell_type": "code",
   "execution_count": 139,
   "id": "25235052-6f58-410e-bc73-751c44f2dba0",
   "metadata": {},
   "outputs": [
    {
     "data": {
      "text/plain": [
       "array([2., 4., 4., 6., 8., 9.])"
      ]
     },
     "execution_count": 139,
     "metadata": {},
     "output_type": "execute_result"
    }
   ],
   "source": [
    "np.ceil(a) # it give highest integer value or equal value (9.0 = 9)"
   ]
  },
  {
   "cell_type": "code",
   "execution_count": 140,
   "id": "d3dd49b0-929d-4beb-9a3c-a0634cc9fb2b",
   "metadata": {},
   "outputs": [
    {
     "data": {
      "text/plain": [
       "array([[80.25423258, 16.68823872, 98.544642  ],\n",
       "       [19.62089866, 38.70302549,  3.90854657]])"
      ]
     },
     "execution_count": 140,
     "metadata": {},
     "output_type": "execute_result"
    }
   ],
   "source": [
    "b = np.random.random((2,3))*100\n",
    "b"
   ]
  },
  {
   "cell_type": "code",
   "execution_count": 141,
   "id": "6711b556-874e-46e5-8e72-8dcd55f49dcb",
   "metadata": {},
   "outputs": [
    {
     "data": {
      "text/plain": [
       "array([[81., 17., 99.],\n",
       "       [20., 39.,  4.]])"
      ]
     },
     "execution_count": 141,
     "metadata": {},
     "output_type": "execute_result"
    }
   ],
   "source": [
    "np.ceil(b)"
   ]
  },
  {
   "cell_type": "code",
   "execution_count": 142,
   "id": "3035dc8f-c0dc-4269-ab20-b7a260b88c4c",
   "metadata": {},
   "outputs": [
    {
     "data": {
      "text/plain": [
       "array([[46., 83., 80.],\n",
       "       [11., 22., 47.]])"
      ]
     },
     "execution_count": 142,
     "metadata": {},
     "output_type": "execute_result"
    }
   ],
   "source": [
    "np.ceil(np.random.random((2,3))*100) # generate random value after combine above two line into one"
   ]
  },
  {
   "cell_type": "markdown",
   "id": "dc11074a-4d60-44e8-88bd-0657ffc9b9a1",
   "metadata": {},
   "source": [
    "## indeex slicing\n",
    "  - "
   ]
  },
  {
   "cell_type": "code",
   "execution_count": 143,
   "id": "cbad58e5-4dad-4562-9648-1c020777f898",
   "metadata": {},
   "outputs": [],
   "source": [
    "a = np.random.randint(1,10,(5,5)) # generate random integer value from 1 to 10 with 5 x 5 matrix"
   ]
  },
  {
   "cell_type": "code",
   "execution_count": 144,
   "id": "436abab6-28c4-4aea-93a2-e185b0ae0f24",
   "metadata": {},
   "outputs": [
    {
     "data": {
      "text/plain": [
       "array([[3, 7, 2, 1, 3],\n",
       "       [5, 9, 6, 5, 1],\n",
       "       [9, 8, 7, 6, 7],\n",
       "       [7, 3, 4, 5, 8],\n",
       "       [9, 2, 3, 5, 7]])"
      ]
     },
     "execution_count": 144,
     "metadata": {},
     "output_type": "execute_result"
    }
   ],
   "source": [
    "a"
   ]
  },
  {
   "cell_type": "code",
   "execution_count": 145,
   "id": "40dbef30-8fee-418b-a4dd-3da7ef137eae",
   "metadata": {},
   "outputs": [
    {
     "data": {
      "text/plain": [
       "array([[3, 7, 2, 1, 3],\n",
       "       [5, 9, 6, 5, 1],\n",
       "       [9, 8, 7, 6, 7],\n",
       "       [7, 3, 4, 5, 8],\n",
       "       [9, 2, 3, 5, 7]])"
      ]
     },
     "execution_count": 145,
     "metadata": {},
     "output_type": "execute_result"
    }
   ],
   "source": [
    "a[:] # to print all the element of the 2D array use these"
   ]
  },
  {
   "cell_type": "code",
   "execution_count": 146,
   "id": "622b0371-64ae-4f5d-a2d9-8b90fd13be0e",
   "metadata": {},
   "outputs": [
    {
     "data": {
      "text/plain": [
       "array([[3, 7, 2, 1, 3],\n",
       "       [5, 9, 6, 5, 1],\n",
       "       [9, 8, 7, 6, 7],\n",
       "       [7, 3, 4, 5, 8]])"
      ]
     },
     "execution_count": 146,
     "metadata": {},
     "output_type": "execute_result"
    }
   ],
   "source": [
    "a[:-1] # also this is the format to print the element of array excepting lasr rows"
   ]
  },
  {
   "cell_type": "code",
   "execution_count": 147,
   "id": "535ce2f8-c2c0-473a-84f3-1de36c2f4fab",
   "metadata": {},
   "outputs": [
    {
     "data": {
      "text/plain": [
       "array([[5, 9, 6, 5, 1],\n",
       "       [9, 8, 7, 6, 7]])"
      ]
     },
     "execution_count": 147,
     "metadata": {},
     "output_type": "execute_result"
    }
   ],
   "source": [
    "a[1:3] # 1st argu. represent the starting index and 2nd argu represent 3rd iindex it print accordingly "
   ]
  },
  {
   "cell_type": "code",
   "execution_count": 148,
   "id": "d9fc5b8e-3713-467b-8747-6b91554fece2",
   "metadata": {},
   "outputs": [
    {
     "data": {
      "text/plain": [
       "array([[3, 7, 2, 1, 3],\n",
       "       [5, 9, 6, 5, 1],\n",
       "       [9, 8, 7, 6, 7],\n",
       "       [7, 3, 4, 5, 8],\n",
       "       [9, 2, 3, 5, 7]])"
      ]
     },
     "execution_count": 148,
     "metadata": {},
     "output_type": "execute_result"
    }
   ],
   "source": [
    "a"
   ]
  },
  {
   "cell_type": "code",
   "execution_count": 149,
   "id": "10093e67-3309-433a-82db-0663090144ef",
   "metadata": {},
   "outputs": [
    {
     "data": {
      "text/plain": [
       "array([[9, 8, 7, 6, 7],\n",
       "       [7, 3, 4, 5, 8]])"
      ]
     },
     "execution_count": 149,
     "metadata": {},
     "output_type": "execute_result"
    }
   ],
   "source": [
    "a[-3:-1] "
   ]
  },
  {
   "cell_type": "code",
   "execution_count": 150,
   "id": "afd71347-8435-4f82-99e7-ff662d089cf1",
   "metadata": {},
   "outputs": [
    {
     "data": {
      "text/plain": [
       "array([[6],\n",
       "       [7]])"
      ]
     },
     "execution_count": 150,
     "metadata": {},
     "output_type": "execute_result"
    }
   ],
   "source": [
    "a[1:3,2:3] # 1st 1:3 represnt to the rows and 2nd 2:3 represent the columns for calculations"
   ]
  },
  {
   "cell_type": "code",
   "execution_count": 151,
   "id": "767763ea-e7b8-49c0-9d84-5acfb34e8f38",
   "metadata": {},
   "outputs": [],
   "source": [
    "b= np.arange(1,101).reshape(10,10)"
   ]
  },
  {
   "cell_type": "code",
   "execution_count": 152,
   "id": "d18a4eb2-0a16-49c7-a845-58affc48ba0a",
   "metadata": {},
   "outputs": [
    {
     "data": {
      "text/plain": [
       "array([[  1,   2,   3,   4,   5,   6,   7,   8,   9,  10],\n",
       "       [ 11,  12,  13,  14,  15,  16,  17,  18,  19,  20],\n",
       "       [ 21,  22,  23,  24,  25,  26,  27,  28,  29,  30],\n",
       "       [ 31,  32,  33,  34,  35,  36,  37,  38,  39,  40],\n",
       "       [ 41,  42,  43,  44,  45,  46,  47,  48,  49,  50],\n",
       "       [ 51,  52,  53,  54,  55,  56,  57,  58,  59,  60],\n",
       "       [ 61,  62,  63,  64,  65,  66,  67,  68,  69,  70],\n",
       "       [ 71,  72,  73,  74,  75,  76,  77,  78,  79,  80],\n",
       "       [ 81,  82,  83,  84,  85,  86,  87,  88,  89,  90],\n",
       "       [ 91,  92,  93,  94,  95,  96,  97,  98,  99, 100]])"
      ]
     },
     "execution_count": 152,
     "metadata": {},
     "output_type": "execute_result"
    }
   ],
   "source": [
    "b"
   ]
  },
  {
   "cell_type": "code",
   "execution_count": 153,
   "id": "ba8cb4eb-f2af-4774-b768-50b533a42ceb",
   "metadata": {},
   "outputs": [
    {
     "data": {
      "text/plain": [
       "array([[ 1,  2,  3,  4,  5,  6,  7,  8,  9, 10],\n",
       "       [21, 22, 23, 24, 25, 26, 27, 28, 29, 30],\n",
       "       [41, 42, 43, 44, 45, 46, 47, 48, 49, 50],\n",
       "       [61, 62, 63, 64, 65, 66, 67, 68, 69, 70],\n",
       "       [81, 82, 83, 84, 85, 86, 87, 88, 89, 90]])"
      ]
     },
     "execution_count": 153,
     "metadata": {},
     "output_type": "execute_result"
    }
   ],
   "source": [
    "b[0:10:2] # print start from 0th index end index is 10th and step to print the value is 2"
   ]
  },
  {
   "cell_type": "code",
   "execution_count": 154,
   "id": "f69cf0b6-25a2-4351-a21c-aae3d70c411b",
   "metadata": {},
   "outputs": [
    {
     "data": {
      "text/plain": [
       "array([41, 42, 43, 44, 45, 46, 47, 48, 49, 50])"
      ]
     },
     "execution_count": 154,
     "metadata": {},
     "output_type": "execute_result"
    }
   ],
   "source": [
    "b[4] # printing only rows"
   ]
  },
  {
   "cell_type": "code",
   "execution_count": 155,
   "id": "be7988d6-8ad7-467d-bd24-5b4f64d4da6b",
   "metadata": {},
   "outputs": [
    {
     "data": {
      "text/plain": [
       "array([41, 42, 43, 44, 45, 46, 47, 48, 49, 50])"
      ]
     },
     "execution_count": 155,
     "metadata": {},
     "output_type": "execute_result"
    }
   ],
   "source": [
    "b[4,:] # also this way we can print the rows"
   ]
  },
  {
   "cell_type": "code",
   "execution_count": 156,
   "id": "0ad17836-af8f-4f3c-ad40-df0eaca65752",
   "metadata": {},
   "outputs": [
    {
     "data": {
      "text/plain": [
       "array([ 4, 14, 24, 34, 44, 54, 64, 74, 84, 94])"
      ]
     },
     "execution_count": 156,
     "metadata": {},
     "output_type": "execute_result"
    }
   ],
   "source": [
    "b[:,3] #printing only columns "
   ]
  },
  {
   "cell_type": "code",
   "execution_count": 157,
   "id": "53247ddb-0652-4c0d-8fb7-d97b176eedc1",
   "metadata": {},
   "outputs": [],
   "source": [
    "n1 = np.arange(1,9)\n",
    "n2 = np.arange(1,13).reshape(4,3)\n",
    "n3 = np.arange(1,28).reshape(3,3,3)"
   ]
  },
  {
   "cell_type": "code",
   "execution_count": 158,
   "id": "9db8402d-d39d-4e6c-a381-b82b1a3c5f27",
   "metadata": {},
   "outputs": [
    {
     "data": {
      "text/plain": [
       "array([1, 2, 3, 4, 5, 6, 7, 8])"
      ]
     },
     "execution_count": 158,
     "metadata": {},
     "output_type": "execute_result"
    }
   ],
   "source": [
    "n1"
   ]
  },
  {
   "cell_type": "code",
   "execution_count": 159,
   "id": "594d2ab5-9c04-4215-a82a-a1f051719164",
   "metadata": {},
   "outputs": [
    {
     "data": {
      "text/plain": [
       "6"
      ]
     },
     "execution_count": 159,
     "metadata": {},
     "output_type": "execute_result"
    }
   ],
   "source": [
    "# our desire element is 6\n",
    "n1[5]"
   ]
  },
  {
   "cell_type": "code",
   "execution_count": 160,
   "id": "50c02ccf-5cfb-46a5-9e08-3225d4488125",
   "metadata": {},
   "outputs": [
    {
     "data": {
      "text/plain": [
       "7"
      ]
     },
     "execution_count": 160,
     "metadata": {},
     "output_type": "execute_result"
    }
   ],
   "source": [
    "# our desire element is 7\n",
    "n1[-2]"
   ]
  },
  {
   "cell_type": "code",
   "execution_count": 161,
   "id": "761f7b10-7aba-4de4-8739-c528854863fc",
   "metadata": {},
   "outputs": [
    {
     "data": {
      "text/plain": [
       "36"
      ]
     },
     "execution_count": 161,
     "metadata": {},
     "output_type": "execute_result"
    }
   ],
   "source": [
    "np.sum(n1)"
   ]
  },
  {
   "cell_type": "code",
   "execution_count": 162,
   "id": "13e28437-7288-4320-9d34-1647945ee01a",
   "metadata": {},
   "outputs": [
    {
     "data": {
      "text/plain": [
       "array([[ 1,  2,  3],\n",
       "       [ 4,  5,  6],\n",
       "       [ 7,  8,  9],\n",
       "       [10, 11, 12]])"
      ]
     },
     "execution_count": 162,
     "metadata": {},
     "output_type": "execute_result"
    }
   ],
   "source": [
    "n2"
   ]
  },
  {
   "cell_type": "code",
   "execution_count": 163,
   "id": "3b6e0992-59cc-45d3-8386-33f8239bcdb9",
   "metadata": {},
   "outputs": [
    {
     "data": {
      "text/plain": [
       "8"
      ]
     },
     "execution_count": 163,
     "metadata": {},
     "output_type": "execute_result"
    }
   ],
   "source": [
    "# desire element is 8 \n",
    "n2[2,1]   # positive indexing"
   ]
  },
  {
   "cell_type": "code",
   "execution_count": 164,
   "id": "ee5205fe-c6a3-42e2-a0e1-418d81b33b54",
   "metadata": {},
   "outputs": [
    {
     "data": {
      "text/plain": [
       "6"
      ]
     },
     "execution_count": 164,
     "metadata": {},
     "output_type": "execute_result"
    }
   ],
   "source": [
    "# desire element is 6\n",
    "n2[-3,-1] # negative indexing"
   ]
  },
  {
   "cell_type": "code",
   "execution_count": 165,
   "id": "c6d861e9-3bce-4f18-be5d-36283d25247c",
   "metadata": {},
   "outputs": [
    {
     "data": {
      "text/plain": [
       "7"
      ]
     },
     "execution_count": 165,
     "metadata": {},
     "output_type": "execute_result"
    }
   ],
   "source": [
    "# desire element is 7 using positive and negaative indexing\n",
    "n2[-2,0]"
   ]
  },
  {
   "cell_type": "code",
   "execution_count": 166,
   "id": "123a663a-3089-4fcd-b50e-204a1eecec56",
   "metadata": {},
   "outputs": [
    {
     "data": {
      "text/plain": [
       "array([[[ 1,  2,  3],\n",
       "        [ 4,  5,  6],\n",
       "        [ 7,  8,  9]],\n",
       "\n",
       "       [[10, 11, 12],\n",
       "        [13, 14, 15],\n",
       "        [16, 17, 18]],\n",
       "\n",
       "       [[19, 20, 21],\n",
       "        [22, 23, 24],\n",
       "        [25, 26, 27]]])"
      ]
     },
     "execution_count": 166,
     "metadata": {},
     "output_type": "execute_result"
    }
   ],
   "source": [
    "n3"
   ]
  },
  {
   "cell_type": "code",
   "execution_count": 167,
   "id": "778270ef-2134-43bf-9495-17dc009f5b06",
   "metadata": {},
   "outputs": [
    {
     "data": {
      "text/plain": [
       "17"
      ]
     },
     "execution_count": 167,
     "metadata": {},
     "output_type": "execute_result"
    }
   ],
   "source": [
    "# desire element is 17\n",
    "n3[1,2,1]\n"
   ]
  },
  {
   "cell_type": "code",
   "execution_count": 168,
   "id": "867fada1-613c-4dd0-9aa2-5d543c1a8770",
   "metadata": {},
   "outputs": [
    {
     "data": {
      "text/plain": [
       "23"
      ]
     },
     "execution_count": 168,
     "metadata": {},
     "output_type": "execute_result"
    }
   ],
   "source": [
    "# desire element is 23\n",
    "n3[2,1,1]"
   ]
  },
  {
   "cell_type": "code",
   "execution_count": 169,
   "id": "b68c1d5a-b70e-45cb-9787-eecedb647293",
   "metadata": {},
   "outputs": [
    {
     "data": {
      "text/plain": [
       "27"
      ]
     },
     "execution_count": 169,
     "metadata": {},
     "output_type": "execute_result"
    }
   ],
   "source": [
    "# desire element 27\n",
    "n3[2,2,2] # 1st argu act as which matrix , 2nd argu as rows and 3rd argu as column"
   ]
  },
  {
   "cell_type": "markdown",
   "id": "7f7d1811-0a52-4f5e-a8bf-0a9e6ae6bbc5",
   "metadata": {},
   "source": [
    "### slicing in 3D"
   ]
  },
  {
   "cell_type": "code",
   "execution_count": 170,
   "id": "e5689b3e-df84-4203-a67b-37568d57f254",
   "metadata": {},
   "outputs": [
    {
     "data": {
      "text/plain": [
       "array([[[ 1,  2,  3],\n",
       "        [ 4,  5,  6],\n",
       "        [ 7,  8,  9]],\n",
       "\n",
       "       [[10, 11, 12],\n",
       "        [13, 14, 15],\n",
       "        [16, 17, 18]],\n",
       "\n",
       "       [[19, 20, 21],\n",
       "        [22, 23, 24],\n",
       "        [25, 26, 27]]])"
      ]
     },
     "execution_count": 170,
     "metadata": {},
     "output_type": "execute_result"
    }
   ],
   "source": [
    "n3"
   ]
  },
  {
   "cell_type": "code",
   "execution_count": 171,
   "id": "277dbb16-f581-475b-8785-5868161a0a52",
   "metadata": {},
   "outputs": [
    {
     "data": {
      "text/plain": [
       "array([[10, 11, 12],\n",
       "       [13, 14, 15],\n",
       "       [16, 17, 18]])"
      ]
     },
     "execution_count": 171,
     "metadata": {},
     "output_type": "execute_result"
    }
   ],
   "source": [
    "n3[1] # it gives 2nd array of 2D bcz array index start from 0"
   ]
  },
  {
   "cell_type": "code",
   "execution_count": 172,
   "id": "985dcba8-b121-4e88-b593-1a004c99b1a8",
   "metadata": {},
   "outputs": [
    {
     "data": {
      "text/plain": [
       "array([[[ 1,  2,  3],\n",
       "        [ 4,  5,  6],\n",
       "        [ 7,  8,  9]],\n",
       "\n",
       "       [[19, 20, 21],\n",
       "        [22, 23, 24],\n",
       "        [25, 26, 27]]])"
      ]
     },
     "execution_count": 172,
     "metadata": {},
     "output_type": "execute_result"
    }
   ],
   "source": [
    "n3[::2] # starting from 0 to last index with step 2"
   ]
  },
  {
   "cell_type": "code",
   "execution_count": 173,
   "id": "36745702-b47e-4a15-8c41-12f933f5a0f8",
   "metadata": {},
   "outputs": [
    {
     "data": {
      "text/plain": [
       "array([[[ 1,  2,  3],\n",
       "        [ 4,  5,  6],\n",
       "        [ 7,  8,  9]],\n",
       "\n",
       "       [[10, 11, 12],\n",
       "        [13, 14, 15],\n",
       "        [16, 17, 18]],\n",
       "\n",
       "       [[19, 20, 21],\n",
       "        [22, 23, 24],\n",
       "        [25, 26, 27]]])"
      ]
     },
     "execution_count": 173,
     "metadata": {},
     "output_type": "execute_result"
    }
   ],
   "source": [
    "n3"
   ]
  },
  {
   "cell_type": "code",
   "execution_count": 174,
   "id": "3a66be94-518a-491f-af0f-a306addd5ca5",
   "metadata": {},
   "outputs": [
    {
     "data": {
      "text/plain": [
       "array([13, 14, 15])"
      ]
     },
     "execution_count": 174,
     "metadata": {},
     "output_type": "execute_result"
    }
   ],
   "source": [
    "# fetch 13,14,15\n",
    "n3[1,1,:]"
   ]
  },
  {
   "cell_type": "code",
   "execution_count": 175,
   "id": "df7a92bb-4f53-4791-9281-90b471c6f654",
   "metadata": {},
   "outputs": [
    {
     "data": {
      "text/plain": [
       "array([20, 23, 26])"
      ]
     },
     "execution_count": 175,
     "metadata": {},
     "output_type": "execute_result"
    }
   ],
   "source": [
    "# fatch 20,23,26\n",
    "n3[2,:,1]"
   ]
  },
  {
   "cell_type": "markdown",
   "id": "3f2b3d40-c29c-4f79-837e-6d62f25cc928",
   "metadata": {},
   "source": [
    "## iterating array"
   ]
  },
  {
   "cell_type": "code",
   "execution_count": 176,
   "id": "47b91e19-4c11-4749-9919-8e34af156a01",
   "metadata": {},
   "outputs": [
    {
     "data": {
      "text/plain": [
       "array([1, 2, 3, 4, 5, 6, 7, 8])"
      ]
     },
     "execution_count": 176,
     "metadata": {},
     "output_type": "execute_result"
    }
   ],
   "source": [
    "n1"
   ]
  },
  {
   "cell_type": "code",
   "execution_count": 177,
   "id": "b9c30969-f8c4-45ba-a809-e214fa111114",
   "metadata": {},
   "outputs": [
    {
     "data": {
      "text/plain": [
       "array([[ 1,  2,  3],\n",
       "       [ 4,  5,  6],\n",
       "       [ 7,  8,  9],\n",
       "       [10, 11, 12]])"
      ]
     },
     "execution_count": 177,
     "metadata": {},
     "output_type": "execute_result"
    }
   ],
   "source": [
    "n2"
   ]
  },
  {
   "cell_type": "code",
   "execution_count": 178,
   "id": "05064756-61a6-4b46-b97e-b290e29d5e79",
   "metadata": {},
   "outputs": [
    {
     "data": {
      "text/plain": [
       "array([[[ 1,  2,  3],\n",
       "        [ 4,  5,  6],\n",
       "        [ 7,  8,  9]],\n",
       "\n",
       "       [[10, 11, 12],\n",
       "        [13, 14, 15],\n",
       "        [16, 17, 18]],\n",
       "\n",
       "       [[19, 20, 21],\n",
       "        [22, 23, 24],\n",
       "        [25, 26, 27]]])"
      ]
     },
     "execution_count": 178,
     "metadata": {},
     "output_type": "execute_result"
    }
   ],
   "source": [
    "n3\n"
   ]
  },
  {
   "cell_type": "code",
   "execution_count": 180,
   "id": "cf2b414b-071f-44e4-a946-f9d3bdeae7f9",
   "metadata": {},
   "outputs": [
    {
     "name": "stdout",
     "output_type": "stream",
     "text": [
      "1\n",
      "2\n",
      "3\n",
      "4\n",
      "5\n",
      "6\n",
      "7\n",
      "8\n"
     ]
    }
   ],
   "source": [
    "for i in n1:\n",
    "    print(i)"
   ]
  },
  {
   "cell_type": "code",
   "execution_count": 181,
   "id": "fd383695-2081-4275-8926-7a1aa6bba56b",
   "metadata": {},
   "outputs": [
    {
     "name": "stdout",
     "output_type": "stream",
     "text": [
      "[1 2 3]\n",
      "[4 5 6]\n",
      "[7 8 9]\n",
      "[10 11 12]\n"
     ]
    }
   ],
   "source": [
    "for i in n2:\n",
    "    print(i)"
   ]
  },
  {
   "cell_type": "code",
   "execution_count": 182,
   "id": "32a6f499-751f-4519-a0bc-8a17d0cc43b6",
   "metadata": {},
   "outputs": [
    {
     "name": "stdout",
     "output_type": "stream",
     "text": [
      "[[1 2 3]\n",
      " [4 5 6]\n",
      " [7 8 9]]\n",
      "[[10 11 12]\n",
      " [13 14 15]\n",
      " [16 17 18]]\n",
      "[[19 20 21]\n",
      " [22 23 24]\n",
      " [25 26 27]]\n"
     ]
    }
   ],
   "source": [
    "for i in n3:\n",
    "    print(i)"
   ]
  },
  {
   "cell_type": "code",
   "execution_count": 183,
   "id": "33a068f0-e3e3-4a88-91c1-3b0189c85fc6",
   "metadata": {},
   "outputs": [
    {
     "name": "stdout",
     "output_type": "stream",
     "text": [
      "1\n",
      "2\n",
      "3\n",
      "4\n",
      "5\n",
      "6\n",
      "7\n",
      "8\n",
      "9\n",
      "10\n",
      "11\n",
      "12\n"
     ]
    }
   ],
   "source": [
    "# print 2D  array element into a 1d array\n",
    "for i in np.nditer(n2): # nd.nditer() help to print the array element of 2d and 3d element into a single ist\n",
    "    print(i)"
   ]
  },
  {
   "cell_type": "code",
   "execution_count": 185,
   "id": "dc7363d2-11aa-443c-8126-27df4ea08078",
   "metadata": {},
   "outputs": [
    {
     "name": "stdout",
     "output_type": "stream",
     "text": [
      "1\n",
      "2\n",
      "3\n",
      "4\n",
      "5\n",
      "6\n",
      "7\n",
      "8\n",
      "9\n",
      "10\n",
      "11\n",
      "12\n",
      "13\n",
      "14\n",
      "15\n",
      "16\n",
      "17\n",
      "18\n",
      "19\n",
      "20\n",
      "21\n",
      "22\n",
      "23\n",
      "24\n",
      "25\n",
      "26\n",
      "27\n"
     ]
    }
   ],
   "source": [
    "for i in np.nditer(n3): # print 3d array element into a single list\n",
    "    print(i)"
   ]
  },
  {
   "cell_type": "code",
   "execution_count": 186,
   "id": "b4548e9f-444b-4425-be2c-ee2d971b2d3d",
   "metadata": {},
   "outputs": [
    {
     "data": {
      "text/plain": [
       "array([[ 1,  2,  3],\n",
       "       [ 4,  5,  6],\n",
       "       [ 7,  8,  9],\n",
       "       [10, 11, 12]])"
      ]
     },
     "execution_count": 186,
     "metadata": {},
     "output_type": "execute_result"
    }
   ],
   "source": [
    "n2"
   ]
  },
  {
   "cell_type": "code",
   "execution_count": 187,
   "id": "a6876f7f-ceec-4df4-ac58-5b521786d31b",
   "metadata": {},
   "outputs": [
    {
     "data": {
      "text/plain": [
       "array([[ 1,  4,  7, 10],\n",
       "       [ 2,  5,  8, 11],\n",
       "       [ 3,  6,  9, 12]])"
      ]
     },
     "execution_count": 187,
     "metadata": {},
     "output_type": "execute_result"
    }
   ],
   "source": [
    "np.transpose(n2) # it print the transpose of the given matrix array means rows become columns and columns become rows"
   ]
  },
  {
   "cell_type": "code",
   "execution_count": 188,
   "id": "f914806a-6746-4117-a0d1-70b7f4f3bc7b",
   "metadata": {},
   "outputs": [
    {
     "data": {
      "text/plain": [
       "array([[ 1,  4,  7, 10],\n",
       "       [ 2,  5,  8, 11],\n",
       "       [ 3,  6,  9, 12]])"
      ]
     },
     "execution_count": 188,
     "metadata": {},
     "output_type": "execute_result"
    }
   ],
   "source": [
    "n2.T # it is an another method to print transpose of matrix"
   ]
  },
  {
   "cell_type": "markdown",
   "id": "fee5005a-2d31-4697-954f-8398e9cae7f6",
   "metadata": {},
   "source": [
    "### ravel()\n",
    "  - The ravel function help to change the 2d and 3d array in to 1d array"
   ]
  },
  {
   "cell_type": "code",
   "execution_count": 189,
   "id": "56d0426b-e50b-46f1-a331-ef266cf9abe1",
   "metadata": {},
   "outputs": [
    {
     "data": {
      "text/plain": [
       "array([[ 1,  2,  3],\n",
       "       [ 4,  5,  6],\n",
       "       [ 7,  8,  9],\n",
       "       [10, 11, 12]])"
      ]
     },
     "execution_count": 189,
     "metadata": {},
     "output_type": "execute_result"
    }
   ],
   "source": [
    "n2"
   ]
  },
  {
   "cell_type": "code",
   "execution_count": 191,
   "id": "6cce27d5-bfec-4eb3-bc00-640cea3c7d68",
   "metadata": {},
   "outputs": [
    {
     "data": {
      "text/plain": [
       "array([ 1,  2,  3,  4,  5,  6,  7,  8,  9, 10, 11, 12])"
      ]
     },
     "execution_count": 191,
     "metadata": {},
     "output_type": "execute_result"
    }
   ],
   "source": [
    "np.ravel(n2) # it generate the all element of the n2 array which is 2d return to 1d"
   ]
  },
  {
   "cell_type": "code",
   "execution_count": 192,
   "id": "5507f4a4-935e-449b-a057-94dcaf8098d3",
   "metadata": {},
   "outputs": [
    {
     "data": {
      "text/plain": [
       "array([[[ 1,  2,  3],\n",
       "        [ 4,  5,  6],\n",
       "        [ 7,  8,  9]],\n",
       "\n",
       "       [[10, 11, 12],\n",
       "        [13, 14, 15],\n",
       "        [16, 17, 18]],\n",
       "\n",
       "       [[19, 20, 21],\n",
       "        [22, 23, 24],\n",
       "        [25, 26, 27]]])"
      ]
     },
     "execution_count": 192,
     "metadata": {},
     "output_type": "execute_result"
    }
   ],
   "source": [
    "n3"
   ]
  },
  {
   "cell_type": "code",
   "execution_count": 193,
   "id": "7192e20a-009c-4d79-bfd1-d5d44517dc6a",
   "metadata": {},
   "outputs": [
    {
     "data": {
      "text/plain": [
       "array([ 1,  2,  3,  4,  5,  6,  7,  8,  9, 10, 11, 12, 13, 14, 15, 16, 17,\n",
       "       18, 19, 20, 21, 22, 23, 24, 25, 26, 27])"
      ]
     },
     "execution_count": 193,
     "metadata": {},
     "output_type": "execute_result"
    }
   ],
   "source": [
    "np.ravel(n3) # it return the 3d array element into  1d array as return"
   ]
  },
  {
   "cell_type": "markdown",
   "id": "ebf183f5-20e4-4c25-9c10-e3a71d2b69a5",
   "metadata": {},
   "source": [
    "## Stacking\n",
    "   - Fpr stacking use hstack(),vstack() function\n",
    "   - here stacking done in more than 2 array\n",
    "   - here we can do two type of stacking hstack(), vstack()\n",
    "   - hstack()--> add the matrix into horizontal manner\n",
    "   - vstack()--> add the matrix into vertical manner"
   ]
  },
  {
   "cell_type": "code",
   "execution_count": 201,
   "id": "570d6544-a6e2-43b5-8fac-83a342799348",
   "metadata": {},
   "outputs": [],
   "source": [
    "h = np.arange(1,13).reshape(4,3)\n",
    "h1 = np.arange(13,25).reshape(4,3)\n"
   ]
  },
  {
   "cell_type": "code",
   "execution_count": 202,
   "id": "7d020d81-37ea-4460-980a-66e85d8999dc",
   "metadata": {},
   "outputs": [
    {
     "data": {
      "text/plain": [
       "array([[ 1,  2,  3],\n",
       "       [ 4,  5,  6],\n",
       "       [ 7,  8,  9],\n",
       "       [10, 11, 12]])"
      ]
     },
     "execution_count": 202,
     "metadata": {},
     "output_type": "execute_result"
    }
   ],
   "source": [
    "h"
   ]
  },
  {
   "cell_type": "code",
   "execution_count": 203,
   "id": "6f89a7a5-6739-4b89-8dbd-cdbe6355fb4b",
   "metadata": {},
   "outputs": [
    {
     "data": {
      "text/plain": [
       "array([[13, 14, 15],\n",
       "       [16, 17, 18],\n",
       "       [19, 20, 21],\n",
       "       [22, 23, 24]])"
      ]
     },
     "execution_count": 203,
     "metadata": {},
     "output_type": "execute_result"
    }
   ],
   "source": [
    "h1"
   ]
  },
  {
   "cell_type": "code",
   "execution_count": 205,
   "id": "31033c2b-9310-4897-972d-74c578c3f6a6",
   "metadata": {},
   "outputs": [
    {
     "data": {
      "text/plain": [
       "array([[ 1,  2,  3, 13, 14, 15],\n",
       "       [ 4,  5,  6, 16, 17, 18],\n",
       "       [ 7,  8,  9, 19, 20, 21],\n",
       "       [10, 11, 12, 22, 23, 24]])"
      ]
     },
     "execution_count": 205,
     "metadata": {},
     "output_type": "execute_result"
    }
   ],
   "source": [
    "np.hstack((h,h1)) # here hstack add the two array in horizontal manner\n"
   ]
  },
  {
   "cell_type": "code",
   "execution_count": 206,
   "id": "6bc3c72d-9fa7-4391-968f-720659a31d1d",
   "metadata": {},
   "outputs": [
    {
     "data": {
      "text/plain": [
       "array([[13, 14, 15,  1,  2,  3],\n",
       "       [16, 17, 18,  4,  5,  6],\n",
       "       [19, 20, 21,  7,  8,  9],\n",
       "       [22, 23, 24, 10, 11, 12]])"
      ]
     },
     "execution_count": 206,
     "metadata": {},
     "output_type": "execute_result"
    }
   ],
   "source": [
    "np.hstack((h1,h)) # change the array appearance"
   ]
  },
  {
   "cell_type": "code",
   "execution_count": 207,
   "id": "bae630c3-82a6-486e-9c83-36f0775d8e82",
   "metadata": {},
   "outputs": [
    {
     "data": {
      "text/plain": [
       "array([[ 1,  2,  3],\n",
       "       [ 4,  5,  6],\n",
       "       [ 7,  8,  9],\n",
       "       [10, 11, 12]])"
      ]
     },
     "execution_count": 207,
     "metadata": {},
     "output_type": "execute_result"
    }
   ],
   "source": [
    "h"
   ]
  },
  {
   "cell_type": "code",
   "execution_count": 208,
   "id": "9def0e32-c5f2-47ff-a163-bddb8f00f7b1",
   "metadata": {},
   "outputs": [
    {
     "data": {
      "text/plain": [
       "array([[13, 14, 15],\n",
       "       [16, 17, 18],\n",
       "       [19, 20, 21],\n",
       "       [22, 23, 24]])"
      ]
     },
     "execution_count": 208,
     "metadata": {},
     "output_type": "execute_result"
    }
   ],
   "source": [
    "h1"
   ]
  },
  {
   "cell_type": "code",
   "execution_count": 210,
   "id": "bae8170d-9d2f-46ef-b94e-9b9c7861da35",
   "metadata": {},
   "outputs": [
    {
     "data": {
      "text/plain": [
       "array([[ 1,  2,  3],\n",
       "       [ 4,  5,  6],\n",
       "       [ 7,  8,  9],\n",
       "       [10, 11, 12],\n",
       "       [13, 14, 15],\n",
       "       [16, 17, 18],\n",
       "       [19, 20, 21],\n",
       "       [22, 23, 24]])"
      ]
     },
     "execution_count": 210,
     "metadata": {},
     "output_type": "execute_result"
    }
   ],
   "source": [
    "np.vstack((h,h1)) # it add the array in to vertical manner"
   ]
  },
  {
   "cell_type": "markdown",
   "id": "3d23b0dc-eb5e-4d8d-906b-680e95b4059a",
   "metadata": {},
   "source": [
    "### N.B - if the matrix size it not work it show error, letd ex- one 3 x 4 and 4 x 3 can not able to add "
   ]
  },
  {
   "cell_type": "code",
   "execution_count": 211,
   "id": "6f9ad7af-b520-4f0e-9275-c35b4b1e4cef",
   "metadata": {},
   "outputs": [],
   "source": [
    "n = np.arange(0,10).reshape(2,5)\n",
    "n1 = np.arange(10,20).reshape(5,2)\n",
    "# the above two matrix are not same becz one is 5 x 2 and 2 x 5"
   ]
  },
  {
   "cell_type": "code",
   "execution_count": 212,
   "id": "a7a7386f-3cf2-452d-b074-d5bfbc6bb816",
   "metadata": {},
   "outputs": [
    {
     "data": {
      "text/plain": [
       "array([[0, 1, 2, 3, 4],\n",
       "       [5, 6, 7, 8, 9]])"
      ]
     },
     "execution_count": 212,
     "metadata": {},
     "output_type": "execute_result"
    }
   ],
   "source": [
    "n"
   ]
  },
  {
   "cell_type": "code",
   "execution_count": 213,
   "id": "cbdaaeaa-e33f-44f0-86cf-f86c23be1c08",
   "metadata": {},
   "outputs": [
    {
     "data": {
      "text/plain": [
       "array([[10, 11],\n",
       "       [12, 13],\n",
       "       [14, 15],\n",
       "       [16, 17],\n",
       "       [18, 19]])"
      ]
     },
     "execution_count": 213,
     "metadata": {},
     "output_type": "execute_result"
    }
   ],
   "source": [
    "n1"
   ]
  },
  {
   "cell_type": "code",
   "execution_count": 214,
   "id": "5be8a8b0-38cd-4ffa-8955-9721edaa43aa",
   "metadata": {},
   "outputs": [],
   "source": [
    "# lets do stacking"
   ]
  },
  {
   "cell_type": "code",
   "execution_count": 215,
   "id": "d0f542e7-42da-448b-a43b-6efb9932a6b5",
   "metadata": {},
   "outputs": [
    {
     "ename": "ValueError",
     "evalue": "all the input array dimensions except for the concatenation axis must match exactly, but along dimension 0, the array at index 0 has size 2 and the array at index 1 has size 5",
     "output_type": "error",
     "traceback": [
      "\u001b[1;31m---------------------------------------------------------------------------\u001b[0m",
      "\u001b[1;31mValueError\u001b[0m                                Traceback (most recent call last)",
      "Cell \u001b[1;32mIn[215], line 1\u001b[0m\n\u001b[1;32m----> 1\u001b[0m \u001b[43mnp\u001b[49m\u001b[38;5;241;43m.\u001b[39;49m\u001b[43mhstack\u001b[49m\u001b[43m(\u001b[49m\u001b[43m(\u001b[49m\u001b[43mn\u001b[49m\u001b[43m,\u001b[49m\u001b[43mn1\u001b[49m\u001b[43m)\u001b[49m\u001b[43m)\u001b[49m \u001b[38;5;66;03m# it show error becaz matrix size are not same\u001b[39;00m\n",
      "File \u001b[1;32m~\\anaconda3\\Lib\\site-packages\\numpy\\core\\shape_base.py:359\u001b[0m, in \u001b[0;36mhstack\u001b[1;34m(tup, dtype, casting)\u001b[0m\n\u001b[0;32m    357\u001b[0m     \u001b[38;5;28;01mreturn\u001b[39;00m _nx\u001b[38;5;241m.\u001b[39mconcatenate(arrs, \u001b[38;5;241m0\u001b[39m, dtype\u001b[38;5;241m=\u001b[39mdtype, casting\u001b[38;5;241m=\u001b[39mcasting)\n\u001b[0;32m    358\u001b[0m \u001b[38;5;28;01melse\u001b[39;00m:\n\u001b[1;32m--> 359\u001b[0m     \u001b[38;5;28;01mreturn\u001b[39;00m \u001b[43m_nx\u001b[49m\u001b[38;5;241;43m.\u001b[39;49m\u001b[43mconcatenate\u001b[49m\u001b[43m(\u001b[49m\u001b[43marrs\u001b[49m\u001b[43m,\u001b[49m\u001b[43m \u001b[49m\u001b[38;5;241;43m1\u001b[39;49m\u001b[43m,\u001b[49m\u001b[43m \u001b[49m\u001b[43mdtype\u001b[49m\u001b[38;5;241;43m=\u001b[39;49m\u001b[43mdtype\u001b[49m\u001b[43m,\u001b[49m\u001b[43m \u001b[49m\u001b[43mcasting\u001b[49m\u001b[38;5;241;43m=\u001b[39;49m\u001b[43mcasting\u001b[49m\u001b[43m)\u001b[49m\n",
      "\u001b[1;31mValueError\u001b[0m: all the input array dimensions except for the concatenation axis must match exactly, but along dimension 0, the array at index 0 has size 2 and the array at index 1 has size 5"
     ]
    }
   ],
   "source": [
    "np.hstack((n,n1)) # it show error becaz matrix size are not same"
   ]
  },
  {
   "cell_type": "code",
   "execution_count": 216,
   "id": "79042f75-48fd-4768-b71b-42cb495776f3",
   "metadata": {},
   "outputs": [
    {
     "ename": "ValueError",
     "evalue": "all the input array dimensions except for the concatenation axis must match exactly, but along dimension 1, the array at index 0 has size 5 and the array at index 1 has size 2",
     "output_type": "error",
     "traceback": [
      "\u001b[1;31m---------------------------------------------------------------------------\u001b[0m",
      "\u001b[1;31mValueError\u001b[0m                                Traceback (most recent call last)",
      "Cell \u001b[1;32mIn[216], line 1\u001b[0m\n\u001b[1;32m----> 1\u001b[0m \u001b[43mnp\u001b[49m\u001b[38;5;241;43m.\u001b[39;49m\u001b[43mvstack\u001b[49m\u001b[43m(\u001b[49m\u001b[43m(\u001b[49m\u001b[43mn\u001b[49m\u001b[43m,\u001b[49m\u001b[43mn1\u001b[49m\u001b[43m)\u001b[49m\u001b[43m)\u001b[49m \u001b[38;5;66;03m# it also show error\u001b[39;00m\n",
      "File \u001b[1;32m~\\anaconda3\\Lib\\site-packages\\numpy\\core\\shape_base.py:289\u001b[0m, in \u001b[0;36mvstack\u001b[1;34m(tup, dtype, casting)\u001b[0m\n\u001b[0;32m    287\u001b[0m \u001b[38;5;28;01mif\u001b[39;00m \u001b[38;5;129;01mnot\u001b[39;00m \u001b[38;5;28misinstance\u001b[39m(arrs, \u001b[38;5;28mlist\u001b[39m):\n\u001b[0;32m    288\u001b[0m     arrs \u001b[38;5;241m=\u001b[39m [arrs]\n\u001b[1;32m--> 289\u001b[0m \u001b[38;5;28;01mreturn\u001b[39;00m \u001b[43m_nx\u001b[49m\u001b[38;5;241;43m.\u001b[39;49m\u001b[43mconcatenate\u001b[49m\u001b[43m(\u001b[49m\u001b[43marrs\u001b[49m\u001b[43m,\u001b[49m\u001b[43m \u001b[49m\u001b[38;5;241;43m0\u001b[39;49m\u001b[43m,\u001b[49m\u001b[43m \u001b[49m\u001b[43mdtype\u001b[49m\u001b[38;5;241;43m=\u001b[39;49m\u001b[43mdtype\u001b[49m\u001b[43m,\u001b[49m\u001b[43m \u001b[49m\u001b[43mcasting\u001b[49m\u001b[38;5;241;43m=\u001b[39;49m\u001b[43mcasting\u001b[49m\u001b[43m)\u001b[49m\n",
      "\u001b[1;31mValueError\u001b[0m: all the input array dimensions except for the concatenation axis must match exactly, but along dimension 1, the array at index 0 has size 5 and the array at index 1 has size 2"
     ]
    }
   ],
   "source": [
    "np.vstack((n,n1)) # it also show error"
   ]
  },
  {
   "cell_type": "markdown",
   "id": "7b7ce585-09e9-4a25-ba60-69cc77a586e2",
   "metadata": {},
   "source": [
    "## Speliting\n",
    "  - it split the whole array into number of array\n",
    "  - here we yse two types of spliting hsplit() and vsplit()\n",
    "  - hsplit()--> split the array into horizontally\n",
    "  - vsplit() --> split the array into vertically"
   ]
  },
  {
   "cell_type": "code",
   "execution_count": 217,
   "id": "9ae37a8f-c8ea-4580-847e-2d42308bc214",
   "metadata": {},
   "outputs": [
    {
     "data": {
      "text/plain": [
       "array([[0, 1, 2, 3, 4],\n",
       "       [5, 6, 7, 8, 9]])"
      ]
     },
     "execution_count": 217,
     "metadata": {},
     "output_type": "execute_result"
    }
   ],
   "source": [
    "n"
   ]
  },
  {
   "cell_type": "code",
   "execution_count": 221,
   "id": "fe466286-5e62-4cb3-88d1-6b13813f1819",
   "metadata": {},
   "outputs": [
    {
     "ename": "ValueError",
     "evalue": "array split does not result in an equal division",
     "output_type": "error",
     "traceback": [
      "\u001b[1;31m---------------------------------------------------------------------------\u001b[0m",
      "\u001b[1;31mValueError\u001b[0m                                Traceback (most recent call last)",
      "Cell \u001b[1;32mIn[221], line 1\u001b[0m\n\u001b[1;32m----> 1\u001b[0m \u001b[43mnp\u001b[49m\u001b[38;5;241;43m.\u001b[39;49m\u001b[43mhsplit\u001b[49m\u001b[43m(\u001b[49m\u001b[43mn\u001b[49m\u001b[43m,\u001b[49m\u001b[38;5;241;43m2\u001b[39;49m\u001b[43m)\u001b[49m \u001b[38;5;66;03m# it shows error becz the spliting should be in equal devision\u001b[39;00m\n",
      "File \u001b[1;32m~\\anaconda3\\Lib\\site-packages\\numpy\\lib\\shape_base.py:938\u001b[0m, in \u001b[0;36mhsplit\u001b[1;34m(ary, indices_or_sections)\u001b[0m\n\u001b[0;32m    936\u001b[0m     \u001b[38;5;28;01mraise\u001b[39;00m \u001b[38;5;167;01mValueError\u001b[39;00m(\u001b[38;5;124m'\u001b[39m\u001b[38;5;124mhsplit only works on arrays of 1 or more dimensions\u001b[39m\u001b[38;5;124m'\u001b[39m)\n\u001b[0;32m    937\u001b[0m \u001b[38;5;28;01mif\u001b[39;00m ary\u001b[38;5;241m.\u001b[39mndim \u001b[38;5;241m>\u001b[39m \u001b[38;5;241m1\u001b[39m:\n\u001b[1;32m--> 938\u001b[0m     \u001b[38;5;28;01mreturn\u001b[39;00m \u001b[43msplit\u001b[49m\u001b[43m(\u001b[49m\u001b[43mary\u001b[49m\u001b[43m,\u001b[49m\u001b[43m \u001b[49m\u001b[43mindices_or_sections\u001b[49m\u001b[43m,\u001b[49m\u001b[43m \u001b[49m\u001b[38;5;241;43m1\u001b[39;49m\u001b[43m)\u001b[49m\n\u001b[0;32m    939\u001b[0m \u001b[38;5;28;01melse\u001b[39;00m:\n\u001b[0;32m    940\u001b[0m     \u001b[38;5;28;01mreturn\u001b[39;00m split(ary, indices_or_sections, \u001b[38;5;241m0\u001b[39m)\n",
      "File \u001b[1;32m~\\anaconda3\\Lib\\site-packages\\numpy\\lib\\shape_base.py:864\u001b[0m, in \u001b[0;36msplit\u001b[1;34m(ary, indices_or_sections, axis)\u001b[0m\n\u001b[0;32m    862\u001b[0m     N \u001b[38;5;241m=\u001b[39m ary\u001b[38;5;241m.\u001b[39mshape[axis]\n\u001b[0;32m    863\u001b[0m     \u001b[38;5;28;01mif\u001b[39;00m N \u001b[38;5;241m%\u001b[39m sections:\n\u001b[1;32m--> 864\u001b[0m         \u001b[38;5;28;01mraise\u001b[39;00m \u001b[38;5;167;01mValueError\u001b[39;00m(\n\u001b[0;32m    865\u001b[0m             \u001b[38;5;124m'\u001b[39m\u001b[38;5;124marray split does not result in an equal division\u001b[39m\u001b[38;5;124m'\u001b[39m) \u001b[38;5;28;01mfrom\u001b[39;00m \u001b[38;5;28;01mNone\u001b[39;00m\n\u001b[0;32m    866\u001b[0m \u001b[38;5;28;01mreturn\u001b[39;00m array_split(ary, indices_or_sections, axis)\n",
      "\u001b[1;31mValueError\u001b[0m: array split does not result in an equal division"
     ]
    }
   ],
   "source": [
    "np.hsplit(n,2) # it shows error becz the spliting should be in equal devision"
   ]
  },
  {
   "cell_type": "code",
   "execution_count": 222,
   "id": "0a09552f-fba4-4c7a-9349-7807cd367003",
   "metadata": {},
   "outputs": [
    {
     "data": {
      "text/plain": [
       "array([[0, 1, 2, 3, 4],\n",
       "       [5, 6, 7, 8, 9]])"
      ]
     },
     "execution_count": 222,
     "metadata": {},
     "output_type": "execute_result"
    }
   ],
   "source": [
    "# to get the out put\n",
    "n"
   ]
  },
  {
   "cell_type": "code",
   "execution_count": 226,
   "id": "7376ea54-a2d9-44fe-a095-1d3c7feed503",
   "metadata": {},
   "outputs": [
    {
     "data": {
      "text/plain": [
       "[array([[0, 1, 2, 3, 4]]), array([[5, 6, 7, 8, 9]])]"
      ]
     },
     "execution_count": 226,
     "metadata": {},
     "output_type": "execute_result"
    }
   ],
   "source": [
    "np.vsplit(n,2) # it split vertically the array"
   ]
  },
  {
   "cell_type": "code",
   "execution_count": 227,
   "id": "e55251b5-c1e5-4113-89ff-a672572c1de7",
   "metadata": {},
   "outputs": [
    {
     "data": {
      "text/plain": [
       "array([[10, 11],\n",
       "       [12, 13],\n",
       "       [14, 15],\n",
       "       [16, 17],\n",
       "       [18, 19]])"
      ]
     },
     "execution_count": 227,
     "metadata": {},
     "output_type": "execute_result"
    }
   ],
   "source": [
    "n1"
   ]
  },
  {
   "cell_type": "code",
   "execution_count": 229,
   "id": "1aa98b63-cec7-4b2b-aa25-eb38ff4b5f13",
   "metadata": {},
   "outputs": [
    {
     "data": {
      "text/plain": [
       "[array([[10],\n",
       "        [12],\n",
       "        [14],\n",
       "        [16],\n",
       "        [18]]),\n",
       " array([[11],\n",
       "        [13],\n",
       "        [15],\n",
       "        [17],\n",
       "        [19]])]"
      ]
     },
     "execution_count": 229,
     "metadata": {},
     "output_type": "execute_result"
    }
   ],
   "source": [
    "np.hsplit(n1,2) # it split the aray into vertically"
   ]
  },
  {
   "cell_type": "code",
   "execution_count": 232,
   "id": "7fa3eadb-85af-485d-a9ed-61dffca3f230",
   "metadata": {},
   "outputs": [],
   "source": [
    "a = np.arange(1,37).reshape(6,6)"
   ]
  },
  {
   "cell_type": "code",
   "execution_count": 233,
   "id": "f9b051fe-b40c-4081-9546-abbc72f049a5",
   "metadata": {},
   "outputs": [
    {
     "data": {
      "text/plain": [
       "array([[ 1,  2,  3,  4,  5,  6],\n",
       "       [ 7,  8,  9, 10, 11, 12],\n",
       "       [13, 14, 15, 16, 17, 18],\n",
       "       [19, 20, 21, 22, 23, 24],\n",
       "       [25, 26, 27, 28, 29, 30],\n",
       "       [31, 32, 33, 34, 35, 36]])"
      ]
     },
     "execution_count": 233,
     "metadata": {},
     "output_type": "execute_result"
    }
   ],
   "source": [
    "a"
   ]
  },
  {
   "cell_type": "code",
   "execution_count": 237,
   "id": "9f1cbf2e-cb12-4b2d-aad3-1ba902f31109",
   "metadata": {},
   "outputs": [
    {
     "data": {
      "text/plain": [
       "[array([[ 1,  2,  3],\n",
       "        [ 7,  8,  9],\n",
       "        [13, 14, 15],\n",
       "        [19, 20, 21],\n",
       "        [25, 26, 27],\n",
       "        [31, 32, 33]]),\n",
       " array([[ 4,  5,  6],\n",
       "        [10, 11, 12],\n",
       "        [16, 17, 18],\n",
       "        [22, 23, 24],\n",
       "        [28, 29, 30],\n",
       "        [34, 35, 36]])]"
      ]
     },
     "execution_count": 237,
     "metadata": {},
     "output_type": "execute_result"
    }
   ],
   "source": [
    "np.hsplit(a,2) #it split the whole array into 2 same shape array as we pass 2 so it creat two array"
   ]
  },
  {
   "cell_type": "code",
   "execution_count": 238,
   "id": "211bc649-e195-42b3-908c-dc278d8e19e0",
   "metadata": {},
   "outputs": [
    {
     "data": {
      "text/plain": [
       "[array([[ 1,  2],\n",
       "        [ 7,  8],\n",
       "        [13, 14],\n",
       "        [19, 20],\n",
       "        [25, 26],\n",
       "        [31, 32]]),\n",
       " array([[ 3,  4],\n",
       "        [ 9, 10],\n",
       "        [15, 16],\n",
       "        [21, 22],\n",
       "        [27, 28],\n",
       "        [33, 34]]),\n",
       " array([[ 5,  6],\n",
       "        [11, 12],\n",
       "        [17, 18],\n",
       "        [23, 24],\n",
       "        [29, 30],\n",
       "        [35, 36]])]"
      ]
     },
     "execution_count": 238,
     "metadata": {},
     "output_type": "execute_result"
    }
   ],
   "source": [
    "np.hsplit(a,3) # it split into 3 array of same size"
   ]
  },
  {
   "cell_type": "code",
   "execution_count": 239,
   "id": "a76bf3d5-0893-4ebd-9540-a0c4a6407169",
   "metadata": {},
   "outputs": [
    {
     "data": {
      "text/plain": [
       "[array([[ 1,  2,  3,  4,  5,  6],\n",
       "        [ 7,  8,  9, 10, 11, 12]]),\n",
       " array([[13, 14, 15, 16, 17, 18],\n",
       "        [19, 20, 21, 22, 23, 24]]),\n",
       " array([[25, 26, 27, 28, 29, 30],\n",
       "        [31, 32, 33, 34, 35, 36]])]"
      ]
     },
     "execution_count": 239,
     "metadata": {},
     "output_type": "execute_result"
    }
   ],
   "source": [
    "np.vsplit(a,3) # it split array of same size vertically"
   ]
  },
  {
   "cell_type": "markdown",
   "id": "b61f5594-d911-43ad-8852-bd2218b2dd57",
   "metadata": {},
   "source": [
    "## logical operation\n",
    "  -  and(&) --> if all the conditions are true return true other wise false\n",
    "  -  or(|)--> if all the condition are false return false othewise true\n",
    "  -  not(~) --> it take one condition if it true return false and vise versa"
   ]
  },
  {
   "cell_type": "code",
   "execution_count": 242,
   "id": "86f460ac-8121-43d9-b105-be50fa50126b",
   "metadata": {},
   "outputs": [
    {
     "data": {
      "text/plain": [
       "array([[ 1,  2,  3,  4,  5,  6],\n",
       "       [ 7,  8,  9, 10, 11, 12],\n",
       "       [13, 14, 15, 16, 17, 18],\n",
       "       [19, 20, 21, 22, 23, 24],\n",
       "       [25, 26, 27, 28, 29, 30],\n",
       "       [31, 32, 33, 34, 35, 36]])"
      ]
     },
     "execution_count": 242,
     "metadata": {},
     "output_type": "execute_result"
    }
   ],
   "source": [
    "a"
   ]
  },
  {
   "cell_type": "code",
   "execution_count": 249,
   "id": "f8dfabe3-34cf-40d7-82ac-6c6fe7bdd9c2",
   "metadata": {},
   "outputs": [
    {
     "data": {
      "text/plain": [
       "array([[False, False, False, False, False, False],\n",
       "       [False, False, False, False, False, False],\n",
       "       [False, False, False, False, False, False],\n",
       "       [False, False, False,  True, False,  True],\n",
       "       [False,  True, False,  True, False,  True],\n",
       "       [False,  True, False,  True, False,  True]])"
      ]
     },
     "execution_count": 249,
     "metadata": {},
     "output_type": "execute_result"
    }
   ],
   "source": [
    "(a>20) & (a%2==0) # it return the value true where the both given condition are true"
   ]
  },
  {
   "cell_type": "code",
   "execution_count": 251,
   "id": "59adc147-d3dd-46bd-957f-718e79cbb708",
   "metadata": {},
   "outputs": [
    {
     "data": {
      "text/plain": [
       "array([[False,  True, False,  True, False,  True],\n",
       "       [False,  True, False,  True, False,  True],\n",
       "       [False,  True, False,  True, False,  True],\n",
       "       [False,  True,  True,  True,  True,  True],\n",
       "       [ True,  True,  True,  True,  True,  True],\n",
       "       [ True,  True,  True,  True,  True,  True]])"
      ]
     },
     "execution_count": 251,
     "metadata": {},
     "output_type": "execute_result"
    }
   ],
   "source": [
    "(a>20) | (a%2==0) # if any one of the condition is true that pass then it return true"
   ]
  },
  {
   "cell_type": "code",
   "execution_count": 252,
   "id": "b1a4fcb8-1709-4402-b912-544f44e036c9",
   "metadata": {},
   "outputs": [
    {
     "data": {
      "text/plain": [
       "array([[ 1,  2,  3,  4,  5,  6],\n",
       "       [ 7,  8,  9, 10, 11, 12],\n",
       "       [13, 14, 15, 16, 17, 18],\n",
       "       [19, 20, 21, 22, 23, 24],\n",
       "       [25, 26, 27, 28, 29, 30],\n",
       "       [31, 32, 33, 34, 35, 36]])"
      ]
     },
     "execution_count": 252,
     "metadata": {},
     "output_type": "execute_result"
    }
   ],
   "source": [
    "(a)"
   ]
  },
  {
   "cell_type": "code",
   "execution_count": 256,
   "id": "fdc48229-7f14-4752-b2ee-f6ad9193b2c0",
   "metadata": {},
   "outputs": [
    {
     "data": {
      "text/plain": [
       "array([[ True,  True,  True,  True,  True,  True],\n",
       "       [ True,  True,  True,  True,  True,  True],\n",
       "       [ True,  True,  True,  True,  True,  True],\n",
       "       [ True,  True, False, False, False, False],\n",
       "       [False, False, False, False, False, False],\n",
       "       [False, False, False, False, False, False]])"
      ]
     },
     "execution_count": 256,
     "metadata": {},
     "output_type": "execute_result"
    }
   ],
   "source": [
    "~ (a>20) # it check which value is greater than 20 which is less then 20 and change accordingly false -> true and true-> false"
   ]
  },
  {
   "cell_type": "code",
   "execution_count": 257,
   "id": "2c57c140-7036-48c8-85fe-ec50ca2654b8",
   "metadata": {},
   "outputs": [
    {
     "data": {
      "text/plain": [
       "array([ 1,  2,  3,  4,  5,  6,  7,  8,  9, 10, 11, 12, 13, 14, 15, 16, 17,\n",
       "       18, 19, 20])"
      ]
     },
     "execution_count": 257,
     "metadata": {},
     "output_type": "execute_result"
    }
   ],
   "source": [
    "a[~ (a>20)]"
   ]
  },
  {
   "cell_type": "code",
   "execution_count": null,
   "id": "67b2aceb-4c0e-4a5e-b723-8d2a30aaf85f",
   "metadata": {},
   "outputs": [],
   "source": []
  }
 ],
 "metadata": {
  "kernelspec": {
   "display_name": "Python 3 (ipykernel)",
   "language": "python",
   "name": "python3"
  },
  "language_info": {
   "codemirror_mode": {
    "name": "ipython",
    "version": 3
   },
   "file_extension": ".py",
   "mimetype": "text/x-python",
   "name": "python",
   "nbconvert_exporter": "python",
   "pygments_lexer": "ipython3",
   "version": "3.12.3"
  }
 },
 "nbformat": 4,
 "nbformat_minor": 5
}
